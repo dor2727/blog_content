{
 "cells": [
  {
   "cell_type": "markdown",
   "id": "3972e1d4-d107-48c3-8d5f-b24f08169762",
   "metadata": {},
   "source": [
    "# Fractional Integral\n",
    "\n",
    "This notebook is linked to the following\n",
    "[blog post](https://harpaz.wordpress.com/2024/10/29/fractional-derivatives/)\n",
    ", and is based on the following\n",
    "[YouTube video](https://www.youtube.com/watch?v=wSBrfl0Ox2A)\n",
    "by [Zundamon's theorem](https://www.youtube.com/@zunda-theorem)"
   ]
  },
  {
   "cell_type": "code",
   "execution_count": 1,
   "id": "b04f2647-179f-4ca3-a4a9-067ea74e354d",
   "metadata": {},
   "outputs": [],
   "source": [
    "import numpy as np\n",
    "import matplotlib.pyplot as plt\n",
    "from sympy import *\n",
    "\n",
    "from IPython.display import display"
   ]
  },
  {
   "cell_type": "markdown",
   "id": "61b6cb20-d2e4-4718-8bd5-ca6250ad7842",
   "metadata": {},
   "source": [
    "# $\\frac{d^{-n}}{d x^{-n}}$"
   ]
  },
  {
   "cell_type": "code",
   "execution_count": 2,
   "id": "f0a6ae66-c47e-426c-8e22-97de0827511d",
   "metadata": {},
   "outputs": [],
   "source": [
    "x = Symbol('x')\n",
    "c = Symbol('c')\n",
    "f = Function('f')"
   ]
  },
  {
   "cell_type": "markdown",
   "id": "96535c1f-7cbe-4192-b080-2e7e361dc0bd",
   "metadata": {},
   "source": [
    "## $\\frac{d^{-n}}{d x^{-n}} f(x) = \\frac{1}{(1-n)!} \\int_c^x (x-t)^{n-1} f(t) dt$"
   ]
  },
  {
   "cell_type": "code",
   "execution_count": 3,
   "id": "1a388624-634e-4d0a-94d4-5c9b6f407120",
   "metadata": {},
   "outputs": [],
   "source": [
    "# Implementing the above equation, taking in `f`, `x`, and `n`\n",
    "def negative_derivative(f: Function, x: Symbol, n: int):\n",
    "    t = Symbol('t')\n",
    "    return (1/(factorial(n-1))) * integrate( (x-t)**(n-1) * f(t), (t, c, x) )"
   ]
  },
  {
   "cell_type": "code",
   "execution_count": 4,
   "id": "ae45bcd8-ff72-4eae-9ffa-fdfef5d2c5ce",
   "metadata": {},
   "outputs": [
    {
     "data": {
      "text/latex": [
       "$\\displaystyle \\int\\limits_{c}^{x} f{\\left(t \\right)}\\, dt$"
      ],
      "text/plain": [
       "Integral(f(t), (t, c, x))"
      ]
     },
     "execution_count": 4,
     "metadata": {},
     "output_type": "execute_result"
    }
   ],
   "source": [
    "# Showing, symbolically, that it works\n",
    "negative_derivative(f, x, 1)"
   ]
  },
  {
   "cell_type": "markdown",
   "id": "27d95561-c035-4aec-9556-2fa2109ea969",
   "metadata": {},
   "source": [
    "## Testing first integral\n",
    "\n",
    "Starting off, we shall work with integer values of $n$.\n",
    "</br>\n",
    "Specifically, with $n=1$.\n",
    "Seeing that basic integrals work as fine."
   ]
  },
  {
   "cell_type": "markdown",
   "id": "7aca0881-13df-4b85-8049-75d10434aff6",
   "metadata": {},
   "source": [
    "$f(x) = 1$"
   ]
  },
  {
   "cell_type": "code",
   "execution_count": 5,
   "id": "8f0b5502-f4e3-487c-b9d7-078f1f854068",
   "metadata": {},
   "outputs": [
    {
     "data": {
      "text/latex": [
       "$\\displaystyle - c + x$"
      ],
      "text/plain": [
       "-c + x"
      ]
     },
     "execution_count": 5,
     "metadata": {},
     "output_type": "execute_result"
    }
   ],
   "source": [
    "negative_derivative(lambda t: 1, x, 1)"
   ]
  },
  {
   "cell_type": "markdown",
   "id": "5b5611c7-ca50-43a8-a90e-ec6284709cf4",
   "metadata": {},
   "source": [
    "$f(x)=x$"
   ]
  },
  {
   "cell_type": "code",
   "execution_count": 6,
   "id": "da27d371-03dd-4bab-aed9-3849f2f23d90",
   "metadata": {},
   "outputs": [
    {
     "data": {
      "text/latex": [
       "$\\displaystyle - \\frac{c^{2}}{2} + \\frac{x^{2}}{2}$"
      ],
      "text/plain": [
       "-c**2/2 + x**2/2"
      ]
     },
     "execution_count": 6,
     "metadata": {},
     "output_type": "execute_result"
    }
   ],
   "source": [
    "negative_derivative(lambda t: t, x, 1)"
   ]
  },
  {
   "cell_type": "markdown",
   "id": "81df5cff-af61-457c-9d4a-21270e6f682f",
   "metadata": {},
   "source": [
    "$f(x)=x^2$"
   ]
  },
  {
   "cell_type": "code",
   "execution_count": 7,
   "id": "676ca86a-7dbc-4f81-8a94-6815c9379cb1",
   "metadata": {},
   "outputs": [
    {
     "data": {
      "text/latex": [
       "$\\displaystyle - \\frac{c^{3}}{3} + \\frac{x^{3}}{3}$"
      ],
      "text/plain": [
       "-c**3/3 + x**3/3"
      ]
     },
     "execution_count": 7,
     "metadata": {},
     "output_type": "execute_result"
    }
   ],
   "source": [
    "negative_derivative(lambda t: t**2, x, 1)"
   ]
  },
  {
   "cell_type": "markdown",
   "id": "cb9b4bcc-4afe-430f-9a42-9d0d1859afa5",
   "metadata": {},
   "source": [
    "$f(x)=sin(x)$"
   ]
  },
  {
   "cell_type": "code",
   "execution_count": 8,
   "id": "89026729-f87f-4a84-8724-265f5077df15",
   "metadata": {},
   "outputs": [
    {
     "data": {
      "text/latex": [
       "$\\displaystyle \\cos{\\left(c \\right)} - \\cos{\\left(x \\right)}$"
      ],
      "text/plain": [
       "cos(c) - cos(x)"
      ]
     },
     "execution_count": 8,
     "metadata": {},
     "output_type": "execute_result"
    }
   ],
   "source": [
    "negative_derivative(sin, x, 1)"
   ]
  },
  {
   "cell_type": "markdown",
   "id": "6c35efda-42cb-47c3-94ab-5a4a34b23982",
   "metadata": {},
   "source": [
    "Neat! it all works!"
   ]
  },
  {
   "cell_type": "markdown",
   "id": "9a4a505d-9a58-4a2a-b1ad-39dbc81a5d88",
   "metadata": {},
   "source": [
    "## Testing multiple integrals\n",
    "\n",
    "Still, working with integer $n$ values,\n",
    "we now test multiple integrals\n",
    "</br>\n",
    "(e.g. $n=3$ corresponds to $\\int \\int \\int f \\; dt dt' dt''$)\n",
    "\n",
    "Note that $n=0$ is a special case, as it involves $\\frac{1}{(-1)!}$, and it should, in theory, represent the identity\n",
    "($n=1$ is an integral, $n=-1$ is a derivative, so $n=0$ should be the identity)\n",
    "but it is very reasonable that this definition did not take the $n=0$ edge-case into account"
   ]
  },
  {
   "cell_type": "code",
   "execution_count": 9,
   "id": "fec0c98b-9647-4131-b3ae-9e78bea8ac8d",
   "metadata": {},
   "outputs": [
    {
     "name": "stdout",
     "output_type": "stream",
     "text": [
      "The 0 integral of 1:\n"
     ]
    },
    {
     "data": {
      "text/latex": [
       "$\\displaystyle 0$"
      ],
      "text/plain": [
       "0"
      ]
     },
     "metadata": {},
     "output_type": "display_data"
    },
    {
     "name": "stdout",
     "output_type": "stream",
     "text": [
      "The 1 integral of 1:\n"
     ]
    },
    {
     "data": {
      "text/latex": [
       "$\\displaystyle - c + x$"
      ],
      "text/plain": [
       "-c + x"
      ]
     },
     "metadata": {},
     "output_type": "display_data"
    },
    {
     "name": "stdout",
     "output_type": "stream",
     "text": [
      "The 2 integral of 1:\n"
     ]
    },
    {
     "data": {
      "text/latex": [
       "$\\displaystyle \\frac{c^{2}}{2} - c x + \\frac{x^{2}}{2}$"
      ],
      "text/plain": [
       "c**2/2 - c*x + x**2/2"
      ]
     },
     "metadata": {},
     "output_type": "display_data"
    },
    {
     "name": "stdout",
     "output_type": "stream",
     "text": [
      "The 3 integral of 1:\n"
     ]
    },
    {
     "data": {
      "text/latex": [
       "$\\displaystyle - \\frac{c^{3}}{6} + \\frac{c^{2} x}{2} - \\frac{c x^{2}}{2} + \\frac{x^{3}}{6}$"
      ],
      "text/plain": [
       "-c**3/6 + c**2*x/2 - c*x**2/2 + x**3/6"
      ]
     },
     "metadata": {},
     "output_type": "display_data"
    },
    {
     "name": "stdout",
     "output_type": "stream",
     "text": [
      "The 4 integral of 1:\n"
     ]
    },
    {
     "data": {
      "text/latex": [
       "$\\displaystyle \\frac{c^{4}}{24} - \\frac{c^{3} x}{6} + \\frac{c^{2} x^{2}}{4} - \\frac{c x^{3}}{6} + \\frac{x^{4}}{24}$"
      ],
      "text/plain": [
       "c**4/24 - c**3*x/6 + c**2*x**2/4 - c*x**3/6 + x**4/24"
      ]
     },
     "metadata": {},
     "output_type": "display_data"
    }
   ],
   "source": [
    "for i in range(0, 5):\n",
    "    print(f\"The {i} integral of 1:\")\n",
    "    display( negative_derivative(lambda t: 1, x, i) )"
   ]
  },
  {
   "cell_type": "code",
   "execution_count": 10,
   "id": "f1d61109-5528-4983-8309-1e6ea83c90d9",
   "metadata": {},
   "outputs": [
    {
     "name": "stdout",
     "output_type": "stream",
     "text": [
      "The 0 integral of sin:\n"
     ]
    },
    {
     "data": {
      "text/plain": [
       "0"
      ]
     },
     "metadata": {},
     "output_type": "display_data"
    },
    {
     "name": "stdout",
     "output_type": "stream",
     "text": [
      "The 1 integral of sin:\n"
     ]
    },
    {
     "data": {
      "text/latex": [
       "$\\displaystyle - \\cos{\\left(x \\right)}$"
      ],
      "text/plain": [
       "-cos(x)"
      ]
     },
     "metadata": {},
     "output_type": "display_data"
    },
    {
     "name": "stdout",
     "output_type": "stream",
     "text": [
      "The 2 integral of sin:\n"
     ]
    },
    {
     "data": {
      "text/latex": [
       "$\\displaystyle x \\cos{\\left(c \\right)} - \\sin{\\left(x \\right)}$"
      ],
      "text/plain": [
       "x*cos(c) - sin(x)"
      ]
     },
     "metadata": {},
     "output_type": "display_data"
    },
    {
     "name": "stdout",
     "output_type": "stream",
     "text": [
      "The 3 integral of sin:\n"
     ]
    },
    {
     "data": {
      "text/latex": [
       "$\\displaystyle - c x \\cos{\\left(c \\right)} + \\frac{x^{2} \\cos{\\left(c \\right)}}{2} + x \\sin{\\left(c \\right)} + \\cos{\\left(x \\right)}$"
      ],
      "text/plain": [
       "-c*x*cos(c) + x**2*cos(c)/2 + x*sin(c) + cos(x)"
      ]
     },
     "metadata": {},
     "output_type": "display_data"
    },
    {
     "name": "stdout",
     "output_type": "stream",
     "text": [
      "The 4 integral of sin:\n"
     ]
    },
    {
     "data": {
      "text/latex": [
       "$\\displaystyle \\frac{c^{2} x \\cos{\\left(c \\right)}}{2} - \\frac{c x^{2} \\cos{\\left(c \\right)}}{2} - c x \\sin{\\left(c \\right)} + \\frac{x^{3} \\cos{\\left(c \\right)}}{6} + \\frac{x^{2} \\sin{\\left(c \\right)}}{2} - x \\cos{\\left(c \\right)} + \\sin{\\left(x \\right)}$"
      ],
      "text/plain": [
       "c**2*x*cos(c)/2 - c*x**2*cos(c)/2 - c*x*sin(c) + x**3*cos(c)/6 + x**2*sin(c)/2 - x*cos(c) + sin(x)"
      ]
     },
     "metadata": {},
     "output_type": "display_data"
    }
   ],
   "source": [
    "for i in range(0, 5):\n",
    "    print(f\"The {i} integral of sin:\")\n",
    "    result = negative_derivative(sin, x, i)\n",
    "    # remove the constant terms\n",
    "    clean_result = sum( tuple(filter(lambda arg: 'x' in str(arg), result.args)) )\n",
    "    display( clean_result )"
   ]
  },
  {
   "cell_type": "markdown",
   "id": "54e49093-f5ad-4b25-8e4f-bd1dc08088c5",
   "metadata": {},
   "source": [
    "Neat! it all works!"
   ]
  },
  {
   "cell_type": "markdown",
   "id": "e1d47e46-f015-4cef-b5c7-e292a6aaef72",
   "metadata": {},
   "source": [
    "## Doing half-integral\n",
    "\n",
    "Now we're taking.\n",
    "\n",
    "Plugging in $n=1/2$, we expect to get something in the middle between doing nothing, and taking one integral.\n",
    "</br>\n",
    "In addition, we expect that 2 half-integrals will be equivalent to a single integral.\n",
    "\n",
    "Let's see how it goes:"
   ]
  },
  {
   "cell_type": "markdown",
   "id": "baa4fd7c-7be8-4439-9122-5ef8313b1598",
   "metadata": {},
   "source": [
    "$f(x) = 1$"
   ]
  },
  {
   "cell_type": "code",
   "execution_count": 11,
   "id": "c81ac349-8648-4a80-803d-aedead8494b0",
   "metadata": {},
   "outputs": [
    {
     "data": {
      "text/latex": [
       "$\\displaystyle 1.12837916709551 \\left(- c + x\\right)^{0.5}$"
      ],
      "text/plain": [
       "1.12837916709551*(-c + x)**0.5"
      ]
     },
     "execution_count": 11,
     "metadata": {},
     "output_type": "execute_result"
    }
   ],
   "source": [
    "temp = negative_derivative(lambda t: 1, x, 1/2)\n",
    "temp"
   ]
  },
  {
   "cell_type": "code",
   "execution_count": 12,
   "id": "9ecf7a4c-c855-41f3-85f9-7d1aae68266f",
   "metadata": {},
   "outputs": [
    {
     "data": {
      "text/latex": [
       "$\\displaystyle \\frac{0.424413181578388 \\left(- c + x\\right)^{1.5} {{}_{2}F_{1}\\left(\\begin{matrix} 0.5, 1.5 \\\\ 2.5 \\end{matrix}\\middle| {\\frac{\\left(- c + x\\right) e^{2 i \\pi}}{\\operatorname{polar\\_lift}{\\left(- c + x \\right)}}} \\right)}}{\\operatorname{polar\\_lift}^{0.5}{\\left(- c + x \\right)}}$"
      ],
      "text/plain": [
       "0.424413181578388*(-c + x)**1.5*hyper((0.5, 1.5), (2.5,), (-c + x)*exp_polar(2*I*pi)/polar_lift(-c + x))/polar_lift(-c + x)**0.5"
      ]
     },
     "execution_count": 12,
     "metadata": {},
     "output_type": "execute_result"
    }
   ],
   "source": [
    "temp2 = negative_derivative(lambda t: temp.subs(x, t), x, 1/2)\n",
    "temp2"
   ]
  },
  {
   "cell_type": "code",
   "execution_count": 13,
   "id": "0d780f43-feed-4d87-846d-c00b72a6f698",
   "metadata": {},
   "outputs": [
    {
     "data": {
      "text/latex": [
       "$\\displaystyle \\frac{1.0 \\left(- c + x\\right)^{1.5}}{\\operatorname{polar\\_lift}^{0.5}{\\left(- c + x \\right)}}$"
      ],
      "text/plain": [
       "1.0*(-c + x)**1.5/polar_lift(-c + x)**0.5"
      ]
     },
     "execution_count": 13,
     "metadata": {},
     "output_type": "execute_result"
    }
   ],
   "source": [
    "temp2.simplify()"
   ]
  },
  {
   "cell_type": "markdown",
   "id": "7234eb25-7735-426c-87d6-f3a92359f9c7",
   "metadata": {},
   "source": [
    "The `polar_lift` comes from `sympy` not knowing if `c=0 & x=0` is a possibility, which will make the integral diverge.\n",
    "\n",
    "For our case, we can (happily) ignore this edge case\n",
    "</br>\n",
    "Thus, when reading the result above, we can treat $\\text{polar\\_lift}^\\alpha(y) = y^\\alpha$\n",
    "</br>\n",
    "And, just like that, we have $1 \\cdot (x - c)$, which is indeed the integral of $f(x)=1$"
   ]
  },
  {
   "cell_type": "markdown",
   "id": "11aff9ff-8380-43f1-8098-97c65b487a0d",
   "metadata": {},
   "source": [
    "</br></br>"
   ]
  },
  {
   "cell_type": "markdown",
   "id": "8af5de89-d088-4048-b2fe-8d2b986bbdc1",
   "metadata": {},
   "source": [
    "We may now with to understand these 2 half-integrals analytically.\n",
    "\n",
    "Thus, let's have some manual calculations:\n",
    "\n",
    "Using $n=\\frac{1}{2}$ and $f(x)=1$, we get:\n",
    "$$ I^{1/2} = \\frac{d^{-1/2}}{dx^{-1/2}} f = \\frac{1}{(-\\frac{1}{2})!} \\int_c^x (x-t)^{-1/2} dt $$\n",
    "$$ \\Rightarrow I^{1/2} = \\frac{1}{(-\\frac{1}{2})!} (-2) \\sqrt{x-t} \\Big|_c^x = \\frac{2}{(-\\frac{1}{2})!} \\sqrt{x-c} $$"
   ]
  },
  {
   "cell_type": "markdown",
   "id": "d54682c2-68f4-4601-8a87-b249e105687c",
   "metadata": {},
   "source": [
    "Let's check if indeed $\\frac{2}{(-\\frac{1}{2})!} \\approx 1.1283$, thus proving that it's indeed the factor that's shown above"
   ]
  },
  {
   "cell_type": "code",
   "execution_count": 14,
   "id": "a3b71117-2063-4db5-b7a7-9703ed06b51c",
   "metadata": {},
   "outputs": [
    {
     "data": {
      "text/latex": [
       "$\\displaystyle 1.12837916709551$"
      ],
      "text/plain": [
       "1.12837916709551"
      ]
     },
     "execution_count": 14,
     "metadata": {},
     "output_type": "execute_result"
    }
   ],
   "source": [
    "2/factorial(-1/2)"
   ]
  },
  {
   "cell_type": "markdown",
   "id": "a310279a-b702-4b95-9740-5c8744686878",
   "metadata": {},
   "source": [
    "Awesome!"
   ]
  },
  {
   "cell_type": "markdown",
   "id": "2e6347a6-9b90-4da0-8ec5-27d5877c41f7",
   "metadata": {},
   "source": [
    "</br>"
   ]
  },
  {
   "cell_type": "markdown",
   "id": "bf8d388a-422f-4ebe-996f-a7c0163646d3",
   "metadata": {},
   "source": [
    "Next, let us plot the half-integral, along with $f(x)=1$ and $f(x)=x$\n",
    "\n",
    "Thus, we'll be able to see if it indeed is somewhere \"between\" doing no integral to doing 1 integral"
   ]
  },
  {
   "cell_type": "code",
   "execution_count": 15,
   "id": "51d69371-aa3f-4bbb-b494-19409fb5efa1",
   "metadata": {},
   "outputs": [],
   "source": [
    "const = 0\n",
    "I_zero = lambda x: 1\n",
    "I_half = lambda x: 2 / factorial(-1/2) * sqrt(x-const)\n",
    "I_one = lambda x: x-const"
   ]
  },
  {
   "cell_type": "code",
   "execution_count": 16,
   "id": "6f4d2417-4ee4-479b-8ebb-5c7b081d04b9",
   "metadata": {},
   "outputs": [
    {
     "data": {
      "text/plain": [
       "<matplotlib.legend.Legend at 0x76e7901d8140>"
      ]
     },
     "execution_count": 16,
     "metadata": {},
     "output_type": "execute_result"
    },
    {
     "data": {
      "image/png": "[encoded data removed]",
      "text/plain": [
       "<Figure size 640x480 with 1 Axes>"
      ]
     },
     "metadata": {},
     "output_type": "display_data"
    }
   ],
   "source": [
    "X = np.linspace(0,2,100)\n",
    "\n",
    "def map_(func, itr):\n",
    "    return np.fromiter(map(func, itr), float)\n",
    "\n",
    "plt.plot(X, map_(I_zero, X), label=\"$I^0$\")\n",
    "plt.plot(X, map_(I_half, X), label=\"$I^{1/2}$\")\n",
    "plt.plot(X, map_(I_one, X), label=\"$I^1$\")\n",
    "plt.legend()"
   ]
  },
  {
   "cell_type": "markdown",
   "id": "c78102c6-787f-4dc4-9570-89d5da6d5a18",
   "metadata": {},
   "source": [
    "-----------------"
   ]
  },
  {
   "cell_type": "markdown",
   "id": "02433bbb-0541-4231-85f3-2262133c2d8d",
   "metadata": {},
   "source": [
    "Next up, let's look at $f(x)=x$"
   ]
  },
  {
   "cell_type": "code",
   "execution_count": 17,
   "id": "2db44712-ee4b-4b0d-becb-980a8872b80f",
   "metadata": {},
   "outputs": [
    {
     "name": "stdout",
     "output_type": "stream",
     "text": [
      "Failed: Non-suitable parameters.\n",
      "Bummer\n"
     ]
    }
   ],
   "source": [
    "try:\n",
    "    temp = negative_derivative(lambda t: t, x, 1/2)\n",
    "    temp\n",
    "except Exception as exc:\n",
    "    print(f\"Failed: {str(exc)}\")\n",
    "    print(\"Bummer\")"
   ]
  },
  {
   "cell_type": "markdown",
   "id": "175cc3df-798d-4483-82a1-060a3ef3d03b",
   "metadata": {},
   "source": [
    "unfortunately, `sympy` wasn't able to solve this integral :("
   ]
  },
  {
   "cell_type": "markdown",
   "id": "77d8f02f-4921-4a50-9916-8ddd4d7bb2c1",
   "metadata": {},
   "source": [
    "How about $f(x)=\\cos(x)$ ?\n",
    "Will it give $\\sin$?"
   ]
  },
  {
   "cell_type": "code",
   "execution_count": 18,
   "id": "342471a3-7f50-4100-9bb9-2dbb1964f9b2",
   "metadata": {},
   "outputs": [
    {
     "data": {
      "text/latex": [
       "$\\displaystyle 0.564189583547756 \\int\\limits_{c}^{x} \\frac{\\cos{\\left(t \\right)}}{\\left(- t + x\\right)^{0.5}}\\, dt$"
      ],
      "text/plain": [
       "0.564189583547756*Integral(cos(t)/(-t + x)**0.5, (t, c, x))"
      ]
     },
     "execution_count": 18,
     "metadata": {},
     "output_type": "execute_result"
    }
   ],
   "source": [
    "temp = negative_derivative(cos, x, 1/2)\n",
    "temp"
   ]
  },
  {
   "cell_type": "code",
   "execution_count": 19,
   "id": "b821666e-3223-4ed4-9378-c495deaf8fa0",
   "metadata": {},
   "outputs": [
    {
     "name": "stdout",
     "output_type": "stream",
     "text": [
      "Failed: Invalid NaN comparison\n",
      "Bummer\n"
     ]
    }
   ],
   "source": [
    "try:\n",
    "    temp2 = negative_derivative(lambda t: temp.subs(x, t), x, 1/2)\n",
    "    temp2\n",
    "except Exception as exc:\n",
    "    print(f\"Failed: {str(exc)}\")\n",
    "    print(\"Bummer\")"
   ]
  },
  {
   "cell_type": "markdown",
   "id": "6e3c2a01-a861-419a-a9a4-bf42d3b5f1e5",
   "metadata": {},
   "source": [
    "Well, that's just writing the definition.\n",
    "It solved nothing :("
   ]
  },
  {
   "cell_type": "markdown",
   "id": "d8adbde8-c456-4683-8ba2-f2321ab5118a",
   "metadata": {},
   "source": [
    "## Doing 3 $\\frac{1}{3}$ integrals\n",
    "\n",
    "With half-integrals of more complicated functions out of the way,\n",
    "let us look at third-integrals!"
   ]
  },
  {
   "cell_type": "markdown",
   "id": "5788d38b-d5be-4d46-a67d-f95095fffe65",
   "metadata": {},
   "source": [
    "Back to working with $f(x)=1$"
   ]
  },
  {
   "cell_type": "markdown",
   "id": "c4312309-ba5e-4128-b41c-355c05a6c8b3",
   "metadata": {},
   "source": [
    "The first third-integral:"
   ]
  },
  {
   "cell_type": "code",
   "execution_count": 20,
   "id": "7228787d-9c4b-47a4-93b9-2a213554d5c1",
   "metadata": {},
   "outputs": [
    {
     "data": {
      "text/latex": [
       "$\\displaystyle 1.11984652172219 \\left(- c + x\\right)^{0.333333333333333}$"
      ],
      "text/plain": [
       "1.11984652172219*(-c + x)**0.333333333333333"
      ]
     },
     "execution_count": 20,
     "metadata": {},
     "output_type": "execute_result"
    }
   ],
   "source": [
    "temp = negative_derivative(lambda t: 1, x, 1/3)\n",
    "temp"
   ]
  },
  {
   "cell_type": "markdown",
   "id": "f13b924c-2137-481b-bb78-6ddc34be6e53",
   "metadata": {},
   "source": [
    "The second third-integral:"
   ]
  },
  {
   "cell_type": "code",
   "execution_count": 21,
   "id": "19a56113-588b-48e2-b3e3-e5dbf8bc030f",
   "metadata": {},
   "outputs": [
    {
     "data": {
      "text/latex": [
       "$\\displaystyle \\frac{0.313514058053319 \\left(- c + x\\right)^{1.33333333333333} {{}_{2}F_{1}\\left(\\begin{matrix} 0.666666666666667, 1.33333333333333 \\\\ 2.33333333333333 \\end{matrix}\\middle| {\\frac{\\left(- c + x\\right) e^{2 i \\pi}}{\\operatorname{polar\\_lift}{\\left(- c + x \\right)}}} \\right)}}{\\operatorname{polar\\_lift}^{0.666666666666667}{\\left(- c + x \\right)}}$"
      ],
      "text/plain": [
       "0.313514058053319*(-c + x)**1.33333333333333*hyper((0.666666666666667, 1.33333333333333), (2.33333333333333,), (-c + x)*exp_polar(2*I*pi)/polar_lift(-c + x))/polar_lift(-c + x)**0.666666666666667"
      ]
     },
     "metadata": {},
     "output_type": "display_data"
    }
   ],
   "source": [
    "temp2 = negative_derivative(lambda t: temp.subs(x, t), x, 1/3)\n",
    "display(temp2)"
   ]
  },
  {
   "cell_type": "code",
   "execution_count": 22,
   "id": "3fa310ba-de66-49ab-864d-fc8b98b77466",
   "metadata": {},
   "outputs": [
    {
     "data": {
      "text/latex": [
       "$\\displaystyle \\frac{1.10773216743247 \\left(- c + x\\right)^{1.33333333333333}}{\\operatorname{polar\\_lift}^{0.666666666666667}{\\left(- c + x \\right)}}$"
      ],
      "text/plain": [
       "1.10773216743247*(-c + x)**1.33333333333333/polar_lift(-c + x)**0.666666666666667"
      ]
     },
     "execution_count": 22,
     "metadata": {},
     "output_type": "execute_result"
    }
   ],
   "source": [
    "temp3 = temp2.simplify()\n",
    "temp3"
   ]
  },
  {
   "cell_type": "markdown",
   "id": "099b99e2-4289-4ae4-b8b1-87cf68be689e",
   "metadata": {},
   "source": [
    "The third third-integral:"
   ]
  },
  {
   "cell_type": "code",
   "execution_count": 23,
   "id": "3203d839-5cfa-4ce8-bd80-8f4ae0d19aa6",
   "metadata": {},
   "outputs": [
    {
     "data": {
      "text/latex": [
       "$\\displaystyle 0.413496671566344 \\int\\limits_{c}^{x} \\frac{\\left(- c + t\\right)^{1.33333333333333}}{\\left(- t + x\\right)^{0.666666666666667} \\operatorname{polar\\_lift}^{0.666666666666667}{\\left(- c + t \\right)}}\\, dt$"
      ],
      "text/plain": [
       "0.413496671566344*Integral((-c + t)**1.33333333333333/((-t + x)**0.666666666666667*polar_lift(-c + t)**0.666666666666667), (t, c, x))"
      ]
     },
     "metadata": {},
     "output_type": "display_data"
    }
   ],
   "source": [
    "temp4 = negative_derivative(lambda t: temp3.subs(x, t), x, 1/3)\n",
    "display(temp4)"
   ]
  },
  {
   "cell_type": "code",
   "execution_count": 24,
   "id": "8eb5ae6e-32ac-48f3-ad93-dfa89a887565",
   "metadata": {},
   "outputs": [
    {
     "data": {
      "text/latex": [
       "$\\displaystyle 0.413496671566344 \\int\\limits_{c}^{x} \\frac{\\left(- c + t\\right)^{1.33333333333333}}{\\left(- t + x\\right)^{0.666666666666667} \\operatorname{polar\\_lift}^{0.666666666666667}{\\left(- c + t \\right)}}\\, dt$"
      ],
      "text/plain": [
       "0.413496671566344*Integral((-c + t)**1.33333333333333/((-t + x)**0.666666666666667*polar_lift(-c + t)**0.666666666666667), (t, c, x))"
      ]
     },
     "execution_count": 24,
     "metadata": {},
     "output_type": "execute_result"
    }
   ],
   "source": [
    "temp5 = temp4.simplify()\n",
    "temp5"
   ]
  },
  {
   "cell_type": "markdown",
   "id": "c214df07-f1bf-4776-a424-1128704e5271",
   "metadata": {},
   "source": [
    "In summary:"
   ]
  },
  {
   "cell_type": "markdown",
   "id": "e69646c0-46fe-400d-9387-a0b1c09af5fd",
   "metadata": {},
   "source": [
    "$I^0 = 1$\n",
    "\n",
    "$I^{1/3} = 1.1198 (x-c)^{1/3}$\n",
    "\n",
    "$I^{2/3} = 1.1077 (x-c)^{2/3}$\n",
    "\n",
    "$I^{3/3} = 0.4134 \\int_c^x \\left( \\frac{t-c}{x-t} \\right)^{2/3}$"
   ]
  },
  {
   "cell_type": "markdown",
   "id": "ad833758-e51e-4457-9fd2-03360aa6bcbf",
   "metadata": {},
   "source": [
    "Let's try to understand the pre-factors, and to solve the unresolved last integral"
   ]
  },
  {
   "cell_type": "markdown",
   "id": "7535f117-88c2-4c35-9dff-e7bd60e997d5",
   "metadata": {},
   "source": [
    "### Understanding $I^{1/3}$\n",
    "\n",
    "Using $n=\\frac{1}{3}$ and $f(x)=1$, we get:\n",
    "$$ I^{1/3} = \\frac{d^{-1/3}}{dx^{-1/3}} f = \\frac{1}{(-\\frac{2}{3})!} \\int_c^x (x-t)^{-2/3} dt $$\n",
    "$$ \\Rightarrow I^{1/3} = \\frac{1}{(-\\frac{2}{3})!} (-3) (x-t)^{1/3} \\Big|_c^x = \\frac{3}{(-\\frac{2}{3})!} (x-c)^{1/3} $$"
   ]
  },
  {
   "cell_type": "markdown",
   "id": "970f3f6f-715a-4396-b583-b2d30ea95921",
   "metadata": {},
   "source": [
    "Checkint that indeed $\\frac{3}{(-\\frac{2}{3})!} \\approx 1.1198$"
   ]
  },
  {
   "cell_type": "code",
   "execution_count": 25,
   "id": "5ee9b619-80de-42a0-9777-6d0de8e3abc1",
   "metadata": {},
   "outputs": [
    {
     "data": {
      "text/latex": [
       "$\\displaystyle 1.11984652172219$"
      ],
      "text/plain": [
       "1.11984652172219"
      ]
     },
     "execution_count": 25,
     "metadata": {},
     "output_type": "execute_result"
    }
   ],
   "source": [
    "3/factorial(-2/3)"
   ]
  },
  {
   "cell_type": "markdown",
   "id": "d5f35ba8-a7e8-48c5-8a04-9bec2739fad2",
   "metadata": {},
   "source": [
    "Neat!"
   ]
  },
  {
   "cell_type": "markdown",
   "id": "4f1ec45f-9ad8-4b37-8909-9bc6aaa505b1",
   "metadata": {},
   "source": [
    "### Understanding $I^{2/3}$\n",
    "\n",
    "$n=\\frac{1}{3}$ and $f(x)=I^{1/3}$, we get:\n",
    "$$ I^{2/3} = \\frac{d^{-1/3}}{dx^{-1/3}} I^{1/3} = \\frac{1}{(-\\frac{2}{3})!} \\int_c^x (x-t)^{-2/3} \\left( \\frac{3}{(-\\frac{2}{3})!} (t-c)^{1/3} \\right) dt $$"
   ]
  },
  {
   "cell_type": "code",
   "execution_count": 26,
   "id": "1407136e-159d-4768-bcf2-b092fac0b618",
   "metadata": {},
   "outputs": [
    {
     "name": "stdout",
     "output_type": "stream",
     "text": [
      "Integrand:\n"
     ]
    },
    {
     "data": {
      "text/latex": [
       "$\\displaystyle \\frac{\\sqrt[3]{- c + t}}{\\left(- t + x\\right)^{\\frac{2}{3}}}$"
      ],
      "text/plain": [
       "(-c + t)**(1/3)/(-t + x)**(2/3)"
      ]
     },
     "execution_count": 26,
     "metadata": {},
     "output_type": "execute_result"
    }
   ],
   "source": [
    "t = Symbol('t')\n",
    "third = 1/Integer(3)\n",
    "integrand = (x-t)**(third-1) * (t-c)**third\n",
    "\n",
    "print(\"Integrand:\")\n",
    "integrand"
   ]
  },
  {
   "cell_type": "code",
   "execution_count": 27,
   "id": "bc74af1f-73d3-4d5b-ba20-6ce0198b770d",
   "metadata": {},
   "outputs": [
    {
     "name": "stdout",
     "output_type": "stream",
     "text": [
      "Raw result:\n"
     ]
    },
    {
     "data": {
      "text/latex": [
       "$\\displaystyle \\frac{\\left(- c + x\\right)^{\\frac{4}{3}} \\Gamma\\left(\\frac{4}{3}\\right) {{}_{2}F_{1}\\left(\\begin{matrix} \\frac{2}{3}, \\frac{4}{3} \\\\ \\frac{7}{3} \\end{matrix}\\middle| {\\frac{\\left(- c + x\\right) e^{2 i \\pi}}{\\operatorname{polar\\_lift}{\\left(- c + x \\right)}}} \\right)}}{\\Gamma\\left(\\frac{7}{3}\\right) \\operatorname{polar\\_lift}^{\\frac{2}{3}}{\\left(- c + x \\right)}}$"
      ],
      "text/plain": [
       "(-c + x)**(4/3)*gamma(4/3)*hyper((2/3, 4/3), (7/3,), (-c + x)*exp_polar(2*I*pi)/polar_lift(-c + x))/(gamma(7/3)*polar_lift(-c + x)**(2/3))"
      ]
     },
     "metadata": {},
     "output_type": "display_data"
    },
    {
     "name": "stdout",
     "output_type": "stream",
     "text": [
      "Simplified result:\n"
     ]
    },
    {
     "data": {
      "text/latex": [
       "$\\displaystyle \\frac{\\sqrt[3]{2} \\left(- c + x\\right)^{\\frac{4}{3}} \\Gamma\\left(\\frac{1}{6}\\right) \\Gamma\\left(\\frac{1}{3}\\right)}{4 \\sqrt{\\pi} \\operatorname{polar\\_lift}^{\\frac{2}{3}}{\\left(- c + x \\right)}}$"
      ],
      "text/plain": [
       "2**(1/3)*(-c + x)**(4/3)*gamma(1/6)*gamma(1/3)/(4*sqrt(pi)*polar_lift(-c + x)**(2/3))"
      ]
     },
     "metadata": {},
     "output_type": "display_data"
    }
   ],
   "source": [
    "result = integrate(integrand, (t,c,x))\n",
    "\n",
    "print(\"Raw result:\")\n",
    "display(result)\n",
    "\n",
    "print(\"Simplified result:\")\n",
    "result_simple = result.simplify()\n",
    "display(result_simple)"
   ]
  },
  {
   "cell_type": "markdown",
   "id": "2bb61729-4782-46b0-8fb0-0300060d7833",
   "metadata": {},
   "source": [
    "That result is only the part of the integrand that involves $t$.\n",
    "We shouldn't forget the factors that multiply it"
   ]
  },
  {
   "cell_type": "code",
   "execution_count": 28,
   "id": "146b9809-58ee-4933-895b-76ff84f51ec2",
   "metadata": {},
   "outputs": [
    {
     "name": "stdout",
     "output_type": "stream",
     "text": [
      "Simplified result + pre-factor:\n"
     ]
    },
    {
     "data": {
      "text/latex": [
       "$\\displaystyle 1.10773216743247 \\left(- c + x\\right)^{0.666666666666667}$"
      ],
      "text/plain": [
       "1.10773216743247*(-c + x)**0.666666666666667"
      ]
     },
     "execution_count": 28,
     "metadata": {},
     "output_type": "execute_result"
    }
   ],
   "source": [
    "print(\"Simplified result + pre-factor:\")\n",
    "result_simple_with_factors = (3 / (factorial(-2/3)**2)) * result_simple\n",
    "N(result_simple_with_factors)"
   ]
  },
  {
   "cell_type": "markdown",
   "id": "5eacaadd-7b18-47dc-879e-2540f5d62a00",
   "metadata": {},
   "source": [
    "Nice!\n",
    "</br>\n",
    "That indeed is the factor we saw above.\n",
    "\n",
    "Let's collect all the factors together, to double-check ourselved\n",
    "</br>\n",
    "(And recall that $\\Gamma(n) = (n-1)!$   )"
   ]
  },
  {
   "cell_type": "code",
   "execution_count": 29,
   "id": "d1d38f85-e40a-45cd-9059-b635aafcad35",
   "metadata": {},
   "outputs": [
    {
     "data": {
      "text/latex": [
       "$\\displaystyle 1.10773216743247$"
      ],
      "text/plain": [
       "1.10773216743247"
      ]
     },
     "execution_count": 29,
     "metadata": {},
     "output_type": "execute_result"
    }
   ],
   "source": [
    "pre_factor = (3 / (factorial(-2/3)**2))\n",
    "integral_result_factor = 2**(1/3) * factorial(-5/6) * factorial(-2/3) / (4 * sqrt(np.pi))\n",
    "pre_factor * integral_result_factor"
   ]
  },
  {
   "cell_type": "markdown",
   "id": "3d1a0845-567b-4275-bdd0-e5f9d68daef5",
   "metadata": {},
   "source": [
    "Success!"
   ]
  },
  {
   "cell_type": "markdown",
   "id": "9ffd58d0-3c79-4e7a-9aef-ef63978b345a",
   "metadata": {},
   "source": [
    "$$\n",
    "\\Rightarrow I^{2/3}\n",
    "= \\frac{3}{((-\\frac{2}{3})!)^2} \\frac{\\sqrt[3]{2} \\Gamma(\\frac{1}{6}) \\Gamma(\\frac{1}{3})}{4 \\sqrt{\\pi}} (x-c)^{2/3}\n",
    "= \\frac{ 3 \\sqrt[3]{2} }{ 4 \\sqrt{\\pi} } \\frac{ (-\\frac{5}{6})! }{ (-\\frac{2}{3})! } (x-c)^{2/3}\n",
    "$$"
   ]
  },
  {
   "cell_type": "markdown",
   "id": "6c553c15-a31a-418f-8706-3dde7525c8fc",
   "metadata": {},
   "source": [
    "### Understanding $I^{3/3}$\n",
    "\n",
    "Starting off, let's call the $I^{2/3}$ factor, say, $\\alpha$.\n",
    "</br>\n",
    "Thus: $I^{2/3} = \\alpha (x-c)^{2/3}$, with $\\alpha = \\frac{ 3 \\sqrt[3]{2} }{ 4 \\sqrt{\\pi} } \\frac{ (-\\frac{5}{6})! }{ (-\\frac{2}{3})! } \\approx 1.1077$"
   ]
  },
  {
   "cell_type": "markdown",
   "id": "098bd659-1f64-48df-80f7-e1d1273f59fc",
   "metadata": {},
   "source": [
    "Using the definition, again, we have:\n",
    "\n",
    "$$ I^{3/3} = \\frac{d^{-1/3}}{dx^{-1/3}} I^{2/3} = \\frac{1}{(-\\frac{2}{3})!} \\int_c^x (x-t)^{-2/3} \\left( \\alpha (t-c)^{2/3} \\right) dt $$"
   ]
  },
  {
   "cell_type": "markdown",
   "id": "361dee5e-7715-4af7-b44b-f7986e138fe4",
   "metadata": {},
   "source": [
    "The previous integrand was: $\\frac{ (t-c)^{1/3} }{ (x-t)^{2/3} }$\n",
    "</br>\n",
    "This integrand is: $\\frac{ (t-c)^{2/3} }{ (x-t)^{2/3} }$\n",
    "\n",
    "This may be the beginning for the pattern of $I^{m/n}$ involving, maybe, the integrand $\\frac{ (t-c)^{m/n} }{ (x-t)^{(n-1)/n} }$"
   ]
  },
  {
   "cell_type": "markdown",
   "id": "e41a0e36-a640-4edf-a4c6-18ab0fae2fa0",
   "metadata": {},
   "source": [
    "#### Attempt \\#1: $\\left( \\frac{t-c}{x-t} \\right)^{2/3}$"
   ]
  },
  {
   "cell_type": "code",
   "execution_count": 30,
   "id": "9fdb1d00-dd30-4714-9f95-2c72712c18ff",
   "metadata": {},
   "outputs": [],
   "source": [
    "t = Symbol('t')\n",
    "\n",
    "def solve_integral(integrand):\n",
    "    print(\"Integrand:\")\n",
    "    display(integrand)\n",
    "    print()\n",
    "    print()\n",
    "\n",
    "    result = integrate(integrand, (t,c,x))\n",
    "    print(\"Raw result:\")\n",
    "    display(result)\n",
    "    print(\"Simplified result:\")\n",
    "    result_simple = result.simplify()\n",
    "    display(result_simple)\n",
    "    return result_simple"
   ]
  },
  {
   "cell_type": "code",
   "execution_count": 31,
   "id": "44626d33-d124-4015-a1c3-1707683d825f",
   "metadata": {},
   "outputs": [
    {
     "name": "stdout",
     "output_type": "stream",
     "text": [
      "Integrand:\n"
     ]
    },
    {
     "data": {
      "text/latex": [
       "$\\displaystyle \\left(\\frac{- c + t}{- t + x}\\right)^{\\frac{2}{3}}$"
      ],
      "text/plain": [
       "((-c + t)/(-t + x))**(2/3)"
      ]
     },
     "metadata": {},
     "output_type": "display_data"
    },
    {
     "name": "stdout",
     "output_type": "stream",
     "text": [
      "\n",
      "\n",
      "Raw result:\n"
     ]
    },
    {
     "data": {
      "text/latex": [
       "$\\displaystyle \\int\\limits_{c}^{x} \\left(\\frac{- c + t}{- t + x}\\right)^{\\frac{2}{3}}\\, dt$"
      ],
      "text/plain": [
       "Integral(((-c + t)/(-t + x))**(2/3), (t, c, x))"
      ]
     },
     "metadata": {},
     "output_type": "display_data"
    },
    {
     "name": "stdout",
     "output_type": "stream",
     "text": [
      "Simplified result:\n"
     ]
    },
    {
     "data": {
      "text/latex": [
       "$\\displaystyle \\int\\limits_{c}^{x} \\left(\\frac{c - t}{t - x}\\right)^{\\frac{2}{3}}\\, dt$"
      ],
      "text/plain": [
       "Integral(((c - t)/(t - x))**(2/3), (t, c, x))"
      ]
     },
     "metadata": {},
     "output_type": "display_data"
    }
   ],
   "source": [
    "two_thirds = 2/Integer(3)\n",
    "integrand = ((t-c)/(x-t))**two_thirds\n",
    "solve_integral(integrand);"
   ]
  },
  {
   "cell_type": "markdown",
   "id": "c0f2084b-43ae-4990-95cc-1f9270498fd6",
   "metadata": {},
   "source": [
    "#### Attempt \\#2: $\\left( \\frac{t-c}{x-t} \\right)^{\\beta}$ with $\\beta=2/3$"
   ]
  },
  {
   "cell_type": "code",
   "execution_count": 32,
   "id": "31a63a61-9a04-4340-bea4-1e07b28d11d6",
   "metadata": {},
   "outputs": [
    {
     "name": "stdout",
     "output_type": "stream",
     "text": [
      "Integrand:\n"
     ]
    },
    {
     "data": {
      "text/latex": [
       "$\\displaystyle \\left(\\frac{- c + t}{- t + x}\\right)^{\\beta}$"
      ],
      "text/plain": [
       "((-c + t)/(-t + x))**beta"
      ]
     },
     "metadata": {},
     "output_type": "display_data"
    },
    {
     "name": "stdout",
     "output_type": "stream",
     "text": [
      "\n",
      "\n",
      "Raw result:\n"
     ]
    },
    {
     "data": {
      "text/latex": [
       "$\\displaystyle \\int\\limits_{c}^{x} \\left(\\frac{- c + t}{- t + x}\\right)^{\\beta}\\, dt$"
      ],
      "text/plain": [
       "Integral(((-c + t)/(-t + x))**beta, (t, c, x))"
      ]
     },
     "metadata": {},
     "output_type": "display_data"
    },
    {
     "name": "stdout",
     "output_type": "stream",
     "text": [
      "Simplified result:\n"
     ]
    },
    {
     "data": {
      "text/latex": [
       "$\\displaystyle \\int\\limits_{c}^{x} \\left(\\frac{c - t}{t - x}\\right)^{\\beta}\\, dt$"
      ],
      "text/plain": [
       "Integral(((c - t)/(t - x))**beta, (t, c, x))"
      ]
     },
     "metadata": {},
     "output_type": "display_data"
    }
   ],
   "source": [
    "beta = Symbol(\"beta\")\n",
    "integrand = ((t-c)/(x-t))**beta\n",
    "solve_integral(integrand);"
   ]
  },
  {
   "cell_type": "markdown",
   "id": "9a0166bb-872c-421d-986c-b1d34d13f3f6",
   "metadata": {},
   "source": [
    "#### Attempt \\#3: $\\frac{(t-c)^\\beta}{(x-t)^\\beta}$ with $\\beta=2/3$"
   ]
  },
  {
   "cell_type": "code",
   "execution_count": 33,
   "id": "293bceea-f167-4cea-9cc2-bd72050543b6",
   "metadata": {},
   "outputs": [
    {
     "name": "stdout",
     "output_type": "stream",
     "text": [
      "Integrand:\n"
     ]
    },
    {
     "data": {
      "text/latex": [
       "$\\displaystyle \\left(c - t\\right)^{\\beta} \\left(t - x\\right)^{- \\beta}$"
      ],
      "text/plain": [
       "(c - t)**beta/(t - x)**beta"
      ]
     },
     "metadata": {},
     "output_type": "display_data"
    },
    {
     "name": "stdout",
     "output_type": "stream",
     "text": [
      "\n",
      "\n",
      "Raw result:\n"
     ]
    },
    {
     "data": {
      "text/latex": [
       "$\\displaystyle - \\frac{0^{\\beta + 1} e^{i \\pi \\beta} \\Gamma\\left(\\beta + 1\\right) {{}_{2}F_{1}\\left(\\begin{matrix} \\beta, \\beta + 1 \\\\ \\beta + 2 \\end{matrix}\\middle| {0} \\right)} \\operatorname{polar\\_lift}^{- \\beta}{\\left(c - x \\right)}}{\\Gamma\\left(\\beta + 2\\right)} + \\frac{\\left(- c + x\\right)^{\\beta + 1} e^{i \\pi \\beta} \\Gamma\\left(\\beta + 1\\right) {{}_{2}F_{1}\\left(\\begin{matrix} \\beta, \\beta + 1 \\\\ \\beta + 2 \\end{matrix}\\middle| {\\frac{\\left(- c + x\\right) e^{i \\pi}}{\\operatorname{polar\\_lift}{\\left(c - x \\right)}}} \\right)} \\operatorname{polar\\_lift}^{- \\beta}{\\left(c - x \\right)}}{\\Gamma\\left(\\beta + 2\\right)}$"
      ],
      "text/plain": [
       "-0**(beta + 1)*exp(I*pi*beta)*gamma(beta + 1)*hyper((beta, beta + 1), (beta + 2,), 0)/(gamma(beta + 2)*polar_lift(c - x)**beta) + (-c + x)**(beta + 1)*exp(I*pi*beta)*gamma(beta + 1)*hyper((beta, beta + 1), (beta + 2,), (-c + x)*exp_polar(I*pi)/polar_lift(c - x))/(gamma(beta + 2)*polar_lift(c - x)**beta)"
      ]
     },
     "metadata": {},
     "output_type": "display_data"
    },
    {
     "name": "stdout",
     "output_type": "stream",
     "text": [
      "Simplified result:\n"
     ]
    },
    {
     "data": {
      "text/latex": [
       "$\\displaystyle \\frac{\\left(- 0^{\\beta + 1} + \\left(- c + x\\right)^{\\beta + 1} {{}_{2}F_{1}\\left(\\begin{matrix} \\beta, \\beta + 1 \\\\ \\beta + 2 \\end{matrix}\\middle| {\\frac{\\left(- c + x\\right) e^{i \\pi}}{\\operatorname{polar\\_lift}{\\left(c - x \\right)}}} \\right)}\\right) e^{i \\pi \\beta} \\operatorname{polar\\_lift}^{- \\beta}{\\left(c - x \\right)}}{\\beta + 1}$"
      ],
      "text/plain": [
       "(-0**(beta + 1) + (-c + x)**(beta + 1)*hyper((beta, beta + 1), (beta + 2,), (-c + x)*exp_polar(I*pi)/polar_lift(c - x)))*exp(I*pi*beta)/((beta + 1)*polar_lift(c - x)**beta)"
      ]
     },
     "metadata": {},
     "output_type": "display_data"
    }
   ],
   "source": [
    "beta = Symbol(\"beta\")\n",
    "integrand = ((c-t)**beta) / ((t-x)**beta)\n",
    "solve_integral(integrand);"
   ]
  },
  {
   "cell_type": "markdown",
   "id": "6de96322-897e-4048-99bb-db263d71b5a1",
   "metadata": {},
   "source": [
    "#### Attempt \\#4: $\\frac{(t-c)^{2/3}}{(x-t)^{2/3}}$"
   ]
  },
  {
   "cell_type": "code",
   "execution_count": 34,
   "id": "0bd15f88-e8aa-4a15-9e87-7c0e13c57281",
   "metadata": {},
   "outputs": [
    {
     "name": "stdout",
     "output_type": "stream",
     "text": [
      "Integrand:\n"
     ]
    },
    {
     "data": {
      "text/latex": [
       "$\\displaystyle \\frac{\\left(c - t\\right)^{\\frac{2}{3}}}{\\left(t - x\\right)^{\\frac{2}{3}}}$"
      ],
      "text/plain": [
       "(c - t)**(2/3)/(t - x)**(2/3)"
      ]
     },
     "metadata": {},
     "output_type": "display_data"
    },
    {
     "name": "stdout",
     "output_type": "stream",
     "text": [
      "\n",
      "\n",
      "Raw result:\n"
     ]
    },
    {
     "data": {
      "text/latex": [
       "$\\displaystyle - \\frac{\\sqrt[3]{c - x} \\Gamma\\left(\\frac{1}{3}\\right) {{}_{2}F_{1}\\left(\\begin{matrix} - \\frac{2}{3}, \\frac{1}{3} \\\\ \\frac{4}{3} \\end{matrix}\\middle| {\\frac{\\left(c - x\\right) e^{2 i \\pi}}{\\operatorname{polar\\_lift}{\\left(c - x \\right)}}} \\right)} \\operatorname{polar\\_lift}^{\\frac{2}{3}}{\\left(c - x \\right)}}{\\Gamma\\left(\\frac{4}{3}\\right)}$"
      ],
      "text/plain": [
       "-(c - x)**(1/3)*gamma(1/3)*hyper((-2/3, 1/3), (4/3,), (c - x)*exp_polar(2*I*pi)/polar_lift(c - x))*polar_lift(c - x)**(2/3)/gamma(4/3)"
      ]
     },
     "metadata": {},
     "output_type": "display_data"
    },
    {
     "name": "stdout",
     "output_type": "stream",
     "text": [
      "Simplified result:\n"
     ]
    },
    {
     "data": {
      "text/latex": [
       "$\\displaystyle - \\frac{4 \\sqrt{3} \\pi \\sqrt[3]{c - x} \\operatorname{polar\\_lift}^{\\frac{2}{3}}{\\left(c - x \\right)}}{9}$"
      ],
      "text/plain": [
       "-4*sqrt(3)*pi*(c - x)**(1/3)*polar_lift(c - x)**(2/3)/9"
      ]
     },
     "metadata": {},
     "output_type": "display_data"
    }
   ],
   "source": [
    "two_thirds = 2 / Integer(3)\n",
    "integrand = ((c-t)**two_thirds) / ((t-x)**two_thirds)\n",
    "solve_integral(integrand);"
   ]
  },
  {
   "cell_type": "markdown",
   "id": "e0ec9c89-4d95-46fb-bd50-1a595d9854ee",
   "metadata": {},
   "source": [
    "Some simple manual check:\n",
    "</br>\n",
    "Printing the numerical evaluation of the above result\n",
    "(to get the factor given from the integral)\n",
    "</br>\n",
    "And multiplying that by the factor from our previous result:\n",
    "$I^{3/3} = 0.4134 \\int_c^x \\left( \\frac{t-c}{x-t} \\right)^{2/3}$"
   ]
  },
  {
   "cell_type": "code",
   "execution_count": 35,
   "id": "61a61881-c0b7-4485-946b-19d7dbb4b282",
   "metadata": {},
   "outputs": [
    {
     "data": {
      "text/latex": [
       "$\\displaystyle 2.64995812542817 \\left(- c + x\\right)^{0.666666666666667}$"
      ],
      "text/plain": [
       "2.64995812542817*(-c + x)**0.666666666666667"
      ]
     },
     "execution_count": 35,
     "metadata": {},
     "output_type": "execute_result"
    }
   ],
   "source": [
    "N(result_simple)"
   ]
  },
  {
   "cell_type": "code",
   "execution_count": 36,
   "id": "ee572895-39df-4474-aea3-4a26d8a9b7f5",
   "metadata": {},
   "outputs": [
    {
     "data": {
      "text/plain": [
       "0.998634"
      ]
     },
     "execution_count": 36,
     "metadata": {},
     "output_type": "execute_result"
    }
   ],
   "source": [
    "0.413 * 2.418"
   ]
  },
  {
   "cell_type": "markdown",
   "id": "a35c113e-bf2e-48e9-8f21-d6115635df85",
   "metadata": {},
   "source": [
    "Nice! that's almost $1$."
   ]
  },
  {
   "cell_type": "markdown",
   "id": "6b2ed2f7-14e6-4546-9a81-167c1ec47f67",
   "metadata": {},
   "source": [
    "Now, for a more thorough test for the pre-factors.\n",
    "</br></br>"
   ]
  },
  {
   "cell_type": "markdown",
   "id": "bf3cf7af-8834-40ef-8ef6-4bc6e20079c0",
   "metadata": {},
   "source": [
    "Collecting all the pre-factors, we have:\n",
    "\n",
    "the pre-factors from $I^{2/3}$ are: \n",
    "$$ \\alpha = \\frac{ 3 \\sqrt[3]{2} }{ 4 \\sqrt{\\pi} } \\frac{ (-\\frac{5}{6})! }{ (-\\frac{2}{3})! } \\approx 1.1077 $$\n",
    "\n",
    "The integral result from above is: \n",
    "$$ \\frac{4 \\sqrt{3} \\pi}{9} (x-c) $$\n",
    "\n",
    "Plus, we have $\\frac{1}{(-\\frac{2}{3})!}$ from the definition"
   ]
  },
  {
   "cell_type": "markdown",
   "id": "155b22f9-2406-4e88-a849-807be042ae10",
   "metadata": {},
   "source": [
    "Together, the factors are:\n",
    "$$\n",
    "\\underbrace{\n",
    "    \\left[ \\frac{ 3 \\sqrt[3]{2} }{ 4 \\sqrt{\\pi} } \\frac{ (-\\frac{5}{6})! }{ (-\\frac{2}{3})! } \\right]\n",
    "}_{\\text{from } I^{2/3}}\n",
    "\\underbrace{\n",
    "    \\left[ \\frac{4 \\sqrt{3} \\pi}{9} \\right]\n",
    "}_{\\text{from integral}}\n",
    "\\underbrace{\n",
    "    \\left[ \\frac{1}{(-\\frac{2}{3})!} \\right]\n",
    "}_{\\text{definition}}\n",
    "$$"
   ]
  },
  {
   "cell_type": "markdown",
   "id": "def9a109-ed8e-4bc5-a14a-d3e7874654a8",
   "metadata": {},
   "source": [
    "multiplying them together:\n",
    "$$\n",
    "\\left[ \\frac{ 3 \\sqrt[3]{2} }{ 4 \\sqrt{\\pi} } \\frac{ (-\\frac{5}{6})! }{ (-\\frac{2}{3})! } \\right]\n",
    "\\left[ \\frac{4 \\sqrt{3} \\pi}{9} \\right]\n",
    "\\left[ \\frac{1}{(-\\frac{2}{3})!} \\right]\n",
    "= \\frac{3 \\sqrt{3}}{9} \\frac{4 \\sqrt[3]{2}}{4} \\frac{\\pi}{\\sqrt{\\pi}} \\frac{ (-\\frac{5}{6})! }{ ((-\\frac{2}{3})!)^2 }\n",
    "= \\frac{1}{\\sqrt{3}} \\sqrt[3]{2} \\sqrt{\\pi} \\frac{ (-\\frac{5}{6})! }{ ((-\\frac{2}{3})!)^2 }\n",
    "$$"
   ]
  },
  {
   "cell_type": "markdown",
   "id": "865daafe-7a26-4722-8996-3cf76826afe3",
   "metadata": {},
   "source": [
    "Using wolfram, we have:\n",
    "$$ \\Gamma \\left( \\frac{1}{6} \\right) = \\sqrt{\\frac{3}{\\pi}} \\Gamma \\left( \\frac{1}{3} \\right)^2 \\frac{1}{\\sqrt[3]{2}} $$"
   ]
  },
  {
   "cell_type": "markdown",
   "id": "fbb93e89-e3aa-45ff-9908-b070d9d3e9c1",
   "metadata": {},
   "source": [
    "Leading to:\n",
    "$$\n",
    "\\frac{1}{\\sqrt{3}} \\sqrt[3]{2} \\sqrt{\\pi}\n",
    "\\frac{1}{ ((-\\frac{2}{3})!)^2 }\n",
    "\\left[ \\sqrt{\\frac{3}{\\pi}} \\Gamma \\left( \\frac{1}{3} \\right)^2 \\frac{1}{\\sqrt[3]{2}} \\right]\n",
    "= \\left[ \\frac{1}{\\sqrt{3}} \\sqrt[3]{2} \\sqrt{\\pi} \\sqrt{\\frac{3}{\\pi}} \\frac{1}{\\sqrt[3]{2}} \\right]\n",
    "\\left[ \\frac{1}{ ((-\\frac{2}{3})!)^2 } \\Gamma \\left( \\frac{1}{3} \\right)^2 \\right]\n",
    "= 1\n",
    "$$"
   ]
  },
  {
   "cell_type": "markdown",
   "id": "40324694-d612-4e96-835d-b62bbaf91e2e",
   "metadata": {},
   "source": [
    "Awesome!"
   ]
  },
  {
   "cell_type": "markdown",
   "id": "a7496aca-70e6-4fc8-ab17-b103e62bf399",
   "metadata": {},
   "source": [
    "</br>\n",
    "</br>\n",
    "Now, all that's left is to plot it"
   ]
  },
  {
   "cell_type": "markdown",
   "id": "e20b9628-92ef-4907-a171-5fc031d07d8a",
   "metadata": {},
   "source": [
    "$I^0 = 1$\n",
    "\n",
    "$I^{1/3} = \\alpha (x-c)^{1/3}$ ; $\\alpha = \\frac{3}{(-\\frac{2}{3})!} \\approx 1.1198$\n",
    "\n",
    "$I^{2/3} = \\beta (x-c)^{2/3}$ ; $\\beta = \\frac{ 3 \\sqrt[3]{2} }{ 4 \\sqrt{\\pi} } \\frac{ (-\\frac{5}{6})! }{ (-\\frac{2}{3})! } \\approx 1.1077$\n",
    "\n",
    "$I^{3/3} = x-c$"
   ]
  },
  {
   "cell_type": "code",
   "execution_count": 37,
   "id": "a4282735-eae8-4b68-b3fe-c37b82321281",
   "metadata": {},
   "outputs": [],
   "source": [
    "const = 0\n",
    "I_zero = lambda x: 1\n",
    "I_third = lambda x: 1.1198 * (x-const)**(1/3)\n",
    "I_two_thirds = lambda x: 1.1077 * (x-const)**(2/3)\n",
    "I_one = lambda x: x-const"
   ]
  },
  {
   "cell_type": "code",
   "execution_count": 38,
   "id": "8d060682-cbd0-454e-8187-6bec22e08851",
   "metadata": {},
   "outputs": [
    {
     "data": {
      "text/plain": [
       "<matplotlib.legend.Legend at 0x76e7877f3cb0>"
      ]
     },
     "execution_count": 38,
     "metadata": {},
     "output_type": "execute_result"
    },
    {
     "data": {
      "image/png": "[encoded data removed]",
      "text/plain": [
       "<Figure size 640x480 with 1 Axes>"
      ]
     },
     "metadata": {},
     "output_type": "display_data"
    }
   ],
   "source": [
    "X = np.linspace(0,2,100)\n",
    "\n",
    "def map_(func, itr):\n",
    "    return np.fromiter(map(func, itr), float)\n",
    "\n",
    "plt.plot(X, map_(I_zero, X), label=\"$I^0$\")\n",
    "plt.plot(X, map_(I_third, X), label=\"$I^{1/3}$\")\n",
    "plt.plot(X, map_(I_two_thirds, X), label=\"$I^{2/3}$\")\n",
    "plt.plot(X, map_(I_one, X), label=\"$I^1$\")\n",
    "plt.legend()"
   ]
  },
  {
   "cell_type": "markdown",
   "id": "c6a27d53-6e00-4d78-a727-58b73dd4e4d4",
   "metadata": {},
   "source": [
    "Nice! that really looks like smoothing the transition from $f(x)=1$ to $f(x)=x$ !"
   ]
  }
 ],
 "metadata": {
  "kernelspec": {
   "display_name": "Python 3 (ipykernel)",
   "language": "python",
   "name": "python3"
  },
  "language_info": {
   "codemirror_mode": {
    "name": "ipython",
    "version": 3
   },
   "file_extension": ".py",
   "mimetype": "text/x-python",
   "name": "python",
   "nbconvert_exporter": "python",
   "pygments_lexer": "ipython3",
   "version": "3.12.7"
  }
 },
 "nbformat": 4,
 "nbformat_minor": 5
}
