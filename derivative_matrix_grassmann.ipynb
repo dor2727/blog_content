{
 "cells": [
  {
   "cell_type": "markdown",
   "id": "1fc0c17a-dc8e-4cf2-998b-47c2662eb17e",
   "metadata": {},
   "source": [
    "# Derivative Matrix - A Trick with Grassmann Numbers\n",
    "\n",
    "This notebook is linked to the following\n",
    "[blog post](https://harpaz.wordpress.com/2024/11/18/derivative-matrix-part-2-a-trick/)\n",
    ", and is a follow up to \n",
    "[this notebook](https://github.com/dor2727/blog_content/blob/main/derivative_matrix.ipynb)\n",
    "and to\n",
    "[this blog post](https://harpaz.wordpress.com/2024/11/18/derivative-matrix/)"
   ]
  },
  {
   "cell_type": "code",
   "execution_count": 1,
   "id": "9d852951-b04e-4e1d-ab94-0f15181ca194",
   "metadata": {},
   "outputs": [],
   "source": [
    "import numpy as np\n",
    "import matplotlib.pyplot as plt\n",
    "from sympy import *\n",
    "\n",
    "from IPython.display import display\n",
    "\n",
    "init_printing(use_unicode=True)"
   ]
  },
  {
   "cell_type": "markdown",
   "id": "85587137-d5c3-46b5-9739-6d5a4abe0c0a",
   "metadata": {},
   "source": [
    "# Implementing Grassmann Numbers in sympy\n",
    "\n",
    "Based on:\n",
    "https://stackoverflow.com/questions/48709140/is-it-possible-to-construct-symbols-in-sympy-that-anticommute"
   ]
  },
  {
   "cell_type": "markdown",
   "id": "c2e2f4f2-4df9-48b9-bc78-ba9707cba17b",
   "metadata": {
    "jp-MarkdownHeadingCollapsed": true
   },
   "source": [
    "## Implementing the class"
   ]
  },
  {
   "cell_type": "code",
   "execution_count": 2,
   "id": "9820fdf2-9d30-4e07-9c38-cd01a261df78",
   "metadata": {},
   "outputs": [],
   "source": [
    "class Grassmann(Symbol):\n",
    "    def __new__(cls,*args,**kwargs):\n",
    "        return super().__new__(cls,*args,**kwargs,commutative=False)\n",
    "\n",
    "    def __mul__(self,other):\n",
    "        if isinstance(other,Grassmann):\n",
    "            if other==self:\n",
    "                return S.Zero\n",
    "            elif other.name<self.name:\n",
    "                return -Symbol.__mul__(other,self)\n",
    "\n",
    "        return super().__mul__(other)\n",
    "\n",
    "    def __pow__(self,exponent):\n",
    "        if exponent>=2:\n",
    "            return S.Zero\n",
    "        else:\n",
    "            return super().__pow__(exponent)"
   ]
  },
  {
   "cell_type": "markdown",
   "id": "9610c5e9-f2a5-4dc4-b4c6-d0964bac4582",
   "metadata": {},
   "source": [
    "### Small sanity check - multiplication"
   ]
  },
  {
   "cell_type": "code",
   "execution_count": 3,
   "id": "2dcb9694-8e5e-40fd-9289-60286c59fa9c",
   "metadata": {},
   "outputs": [
    {
     "data": {
      "image/png": "[encoded data removed]",
      "text/latex": [
       "$\\displaystyle a + b \\theta_{1}$"
      ],
      "text/plain": [
       "a + b⋅θ₁"
      ]
     },
     "execution_count": 3,
     "metadata": {},
     "output_type": "execute_result"
    }
   ],
   "source": [
    "a, b = symbols(\"a b\")\n",
    "theta_1 = Grassmann(\"theta_1\")\n",
    "a + b * theta_1"
   ]
  },
  {
   "cell_type": "code",
   "execution_count": 4,
   "id": "9252dd63-ad48-4121-aaa1-0eb483088f39",
   "metadata": {},
   "outputs": [
    {
     "data": {
      "image/png": "[encoded data removed]",
      "text/latex": [
       "$\\displaystyle a^{2} + 2 a b \\theta_{1}$"
      ],
      "text/plain": [
       " 2           \n",
       "a  + 2⋅a⋅b⋅θ₁"
      ]
     },
     "execution_count": 4,
     "metadata": {},
     "output_type": "execute_result"
    }
   ],
   "source": [
    "expand((a + b * theta_1) ** 2)"
   ]
  },
  {
   "cell_type": "markdown",
   "id": "34c0d8e8-b47b-442c-8c45-d5a2ce882ce3",
   "metadata": {},
   "source": [
    "### Small sanity check - in matrices"
   ]
  },
  {
   "cell_type": "code",
   "execution_count": 5,
   "id": "a0e13048-45ea-45e3-ba28-259bdeb7178f",
   "metadata": {},
   "outputs": [
    {
     "data": {
      "image/png": "[encoded data removed]",
      "text/latex": [
       "$\\displaystyle \\left[\\begin{matrix}\\theta_{1} & a\\\\0 & \\theta_{2}\\end{matrix}\\right]$"
      ],
      "text/plain": [
       "⎡θ₁  a ⎤\n",
       "⎢      ⎥\n",
       "⎣0   θ₂⎦"
      ]
     },
     "execution_count": 5,
     "metadata": {},
     "output_type": "execute_result"
    }
   ],
   "source": [
    "theta_2 = Grassmann(\"theta_2\")\n",
    "\n",
    "M = Matrix([[theta_1, a],[0,theta_2]])\n",
    "M"
   ]
  },
  {
   "cell_type": "code",
   "execution_count": 6,
   "id": "ca93c6f6-512c-4e61-865a-86c5bf5c3587",
   "metadata": {},
   "outputs": [
    {
     "data": {
      "image/png": "[encoded data removed]",
      "text/latex": [
       "$\\displaystyle \\left[\\begin{matrix}0 & a \\theta_{1} + a \\theta_{2}\\\\0 & 0\\end{matrix}\\right]$"
      ],
      "text/plain": [
       "⎡0  a⋅θ₁ + a⋅θ₂⎤\n",
       "⎢              ⎥\n",
       "⎣0       0     ⎦"
      ]
     },
     "execution_count": 6,
     "metadata": {},
     "output_type": "execute_result"
    }
   ],
   "source": [
    "M@M"
   ]
  },
  {
   "cell_type": "markdown",
   "id": "88c0d106-7b5d-48f9-86b4-d7ed99ad960d",
   "metadata": {
    "jp-MarkdownHeadingCollapsed": true
   },
   "source": [
    "## Imaginary Part"
   ]
  },
  {
   "cell_type": "code",
   "execution_count": 7,
   "id": "c8155548-eea5-4a63-aca5-24787781ac9c",
   "metadata": {},
   "outputs": [
    {
     "data": {
      "image/png": "[encoded data removed]",
      "text/latex": [
       "$\\displaystyle a \\theta_{1} + a \\theta_{2}$"
      ],
      "text/plain": [
       "a⋅θ₁ + a⋅θ₂"
      ]
     },
     "execution_count": 7,
     "metadata": {},
     "output_type": "execute_result"
    }
   ],
   "source": [
    "term = (M@M)[0,1]\n",
    "term"
   ]
  },
  {
   "cell_type": "code",
   "execution_count": 8,
   "id": "48cebefa-e6e8-4bca-bfd8-ce0da1d098bb",
   "metadata": {},
   "outputs": [],
   "source": [
    "# for IMaginary part of Grassmann number\n",
    "def ImG(term, grassmann):\n",
    "    return diff(term, grassmann)"
   ]
  },
  {
   "cell_type": "code",
   "execution_count": 9,
   "id": "1b7d8c71-92f1-4018-b867-87f2e1664fc6",
   "metadata": {},
   "outputs": [
    {
     "data": {
      "image/png": "[encoded data removed]",
      "text/latex": [
       "$\\displaystyle a$"
      ],
      "text/plain": [
       "a"
      ]
     },
     "execution_count": 9,
     "metadata": {},
     "output_type": "execute_result"
    }
   ],
   "source": [
    "ImG(term, theta_1)"
   ]
  },
  {
   "cell_type": "markdown",
   "id": "b159062a-3725-410e-8fb5-5f4798e49016",
   "metadata": {},
   "source": [
    "# Blog Idea 4"
   ]
  },
  {
   "cell_type": "markdown",
   "id": "4b13b9ed-88bd-423e-8d8e-e4d9abe1b88c",
   "metadata": {
    "jp-MarkdownHeadingCollapsed": true
   },
   "source": [
    "## 3x3"
   ]
  },
  {
   "cell_type": "code",
   "execution_count": 10,
   "id": "0d57820a-9dac-4553-91ff-e90fd90cbf9c",
   "metadata": {},
   "outputs": [
    {
     "data": {
      "image/png": "[encoded data removed]",
      "text/latex": [
       "$\\displaystyle \\left[\\begin{matrix}a & b & 0\\\\0 & c & d\\\\0 & 0 & e\\end{matrix}\\right]$"
      ],
      "text/plain": [
       "⎡a  b  0⎤\n",
       "⎢       ⎥\n",
       "⎢0  c  d⎥\n",
       "⎢       ⎥\n",
       "⎣0  0  e⎦"
      ]
     },
     "execution_count": 10,
     "metadata": {},
     "output_type": "execute_result"
    }
   ],
   "source": [
    "a,b,c,d,e = symbols(\"a b c d e\")\n",
    "M = Matrix([[a,b,0],\n",
    "            [0,c,d],\n",
    "            [0,0,e]])\n",
    "M"
   ]
  },
  {
   "cell_type": "code",
   "execution_count": 11,
   "id": "173e0430-8ae2-4105-8ee9-2357e36516c8",
   "metadata": {},
   "outputs": [
    {
     "data": {
      "image/png": "[encoded data removed]",
      "text/latex": [
       "$\\displaystyle \\left[\\begin{matrix}a^{2} & a b + b c & b d\\\\0 & c^{2} & c d + d e\\\\0 & 0 & e^{2}\\end{matrix}\\right]$"
      ],
      "text/plain": [
       "⎡ 2                      ⎤\n",
       "⎢a   a⋅b + b⋅c     b⋅d   ⎥\n",
       "⎢                        ⎥\n",
       "⎢        2               ⎥\n",
       "⎢0      c       c⋅d + d⋅e⎥\n",
       "⎢                        ⎥\n",
       "⎢                   2    ⎥\n",
       "⎣0       0         e     ⎦"
      ]
     },
     "execution_count": 11,
     "metadata": {},
     "output_type": "execute_result"
    }
   ],
   "source": [
    "M2 = M@M\n",
    "M2"
   ]
  },
  {
   "cell_type": "code",
   "execution_count": 12,
   "id": "ae72d90f-17e1-464f-89cd-ce3be14f9a86",
   "metadata": {},
   "outputs": [
    {
     "data": {
      "image/png": "[encoded data removed]",
      "text/latex": [
       "$\\displaystyle \\left[\\begin{matrix}a^{4} & a^{3} b + c \\left(a^{2} b + c \\left(a b + b c\\right)\\right) & d \\left(a^{2} b + c \\left(a b + b c\\right)\\right) + e \\left(b d e + d \\left(a b + b c\\right)\\right)\\\\0 & c^{4} & c^{3} d + e \\left(c^{2} d + e \\left(c d + d e\\right)\\right)\\\\0 & 0 & e^{4}\\end{matrix}\\right]$"
      ],
      "text/plain": [
       "⎡ 4   3       ⎛ 2                  ⎞    ⎛ 2                  ⎞                 ↪\n",
       "⎢a   a ⋅b + c⋅⎝a ⋅b + c⋅(a⋅b + b⋅c)⎠  d⋅⎝a ⋅b + c⋅(a⋅b + b⋅c)⎠ + e⋅(b⋅d⋅e + d⋅ ↪\n",
       "⎢                                                                              ↪\n",
       "⎢                   4                            3       ⎛ 2                   ↪\n",
       "⎢0                 c                            c ⋅d + e⋅⎝c ⋅d + e⋅(c⋅d + d⋅e) ↪\n",
       "⎢                                                                              ↪\n",
       "⎢                                                               4              ↪\n",
       "⎣0                  0                                          e               ↪\n",
       "\n",
       "↪             ⎤\n",
       "↪ (a⋅b + b⋅c))⎥\n",
       "↪             ⎥\n",
       "↪ ⎞           ⎥\n",
       "↪ ⎠           ⎥\n",
       "↪             ⎥\n",
       "↪             ⎥\n",
       "↪             ⎦"
      ]
     },
     "execution_count": 12,
     "metadata": {},
     "output_type": "execute_result"
    }
   ],
   "source": [
    "M4 = M@M@M@M\n",
    "M4"
   ]
  },
  {
   "cell_type": "code",
   "execution_count": 13,
   "id": "c4d67b0c-86af-47d6-add4-2a1b6ec940ff",
   "metadata": {},
   "outputs": [
    {
     "data": {
      "image/png": "[encoded data removed]",
      "text/latex": [
       "$\\displaystyle \\left[\\begin{matrix}0 & 0 & 0\\\\0 & 0 & 0\\\\0 & 0 & 0\\end{matrix}\\right]$"
      ],
      "text/plain": [
       "⎡0  0  0⎤\n",
       "⎢       ⎥\n",
       "⎢0  0  0⎥\n",
       "⎢       ⎥\n",
       "⎣0  0  0⎦"
      ]
     },
     "execution_count": 13,
     "metadata": {},
     "output_type": "execute_result"
    }
   ],
   "source": [
    "theta = Grassmann(\"theta\")\n",
    "M4.subs({a: theta, c: theta, e: theta})"
   ]
  },
  {
   "cell_type": "markdown",
   "id": "170f1e0f-b5a1-4ede-8374-a1800becd7d0",
   "metadata": {
    "jp-MarkdownHeadingCollapsed": true
   },
   "source": [
    "## 4x4"
   ]
  },
  {
   "cell_type": "markdown",
   "id": "d010db99-765d-46c2-9204-f7392c6a37e2",
   "metadata": {},
   "source": [
    "We'll use a normal variable here, named $\\theta$, so that we'll see where we get $\\theta^2$ terms\n",
    "</br>\n",
    "Plus, we'll use the values we've already found for $b$,$d$"
   ]
  },
  {
   "cell_type": "code",
   "execution_count": 14,
   "id": "3041dce8-8525-4ccb-963e-0cbadfc3902b",
   "metadata": {},
   "outputs": [
    {
     "data": {
      "image/png": "[encoded data removed]",
      "text/latex": [
       "$\\displaystyle \\left[\\begin{matrix}\\theta & \\frac{1}{2} & 0 & 0\\\\0 & \\theta & 1 & 0\\\\0 & 0 & \\theta & \\frac{3}{2}\\\\0 & 0 & 0 & \\theta\\end{matrix}\\right]$"
      ],
      "text/plain": [
       "⎡θ  1/2  0   0 ⎤\n",
       "⎢              ⎥\n",
       "⎢0   θ   1   0 ⎥\n",
       "⎢              ⎥\n",
       "⎢0   0   θ  3/2⎥\n",
       "⎢              ⎥\n",
       "⎣0   0   0   θ ⎦"
      ]
     },
     "execution_count": 14,
     "metadata": {},
     "output_type": "execute_result"
    }
   ],
   "source": [
    "theta = symbols(\"theta\")\n",
    "half = 1/Integer(2)\n",
    "M = Matrix([[theta, half,  0,      0     ],\n",
    "            [0,     theta, 2*half, 0     ],\n",
    "            [0,     0,     theta,  3*half],\n",
    "            [0,     0,     0,      theta ]])\n",
    "M"
   ]
  },
  {
   "cell_type": "code",
   "execution_count": 15,
   "id": "c134ba84-0d9e-4ceb-8ba2-ffa030a3ef35",
   "metadata": {},
   "outputs": [
    {
     "data": {
      "image/png": "[encoded data removed]",
      "text/latex": [
       "$\\displaystyle \\left[\\begin{matrix}\\theta^{2} & \\theta & \\frac{1}{2} & 0\\\\0 & \\theta^{2} & 2 \\theta & \\frac{3}{2}\\\\0 & 0 & \\theta^{2} & 3 \\theta\\\\0 & 0 & 0 & \\theta^{2}\\end{matrix}\\right]$"
      ],
      "text/plain": [
       "⎡ 2              ⎤\n",
       "⎢θ   θ   1/2   0 ⎥\n",
       "⎢                ⎥\n",
       "⎢     2          ⎥\n",
       "⎢0   θ   2⋅θ  3/2⎥\n",
       "⎢                ⎥\n",
       "⎢         2      ⎥\n",
       "⎢0   0   θ    3⋅θ⎥\n",
       "⎢                ⎥\n",
       "⎢              2 ⎥\n",
       "⎣0   0    0   θ  ⎦"
      ]
     },
     "execution_count": 15,
     "metadata": {},
     "output_type": "execute_result"
    }
   ],
   "source": [
    "M2 = M@M\n",
    "M2"
   ]
  },
  {
   "cell_type": "code",
   "execution_count": 16,
   "id": "e2535e17-43ed-4379-bc93-a3fe1f84f180",
   "metadata": {},
   "outputs": [
    {
     "data": {
      "image/png": "[encoded data removed]",
      "text/latex": [
       "$\\displaystyle \\left[\\begin{matrix}\\theta^{4} & 2 \\theta^{3} & 3 \\theta^{2} & 3 \\theta\\\\0 & \\theta^{4} & 4 \\theta^{3} & 9 \\theta^{2}\\\\0 & 0 & \\theta^{4} & 6 \\theta^{3}\\\\0 & 0 & 0 & \\theta^{4}\\end{matrix}\\right]$"
      ],
      "text/plain": [
       "⎡ 4     3     2      ⎤\n",
       "⎢θ   2⋅θ   3⋅θ   3⋅θ ⎥\n",
       "⎢                    ⎥\n",
       "⎢      4      3     2⎥\n",
       "⎢0    θ    4⋅θ   9⋅θ ⎥\n",
       "⎢                    ⎥\n",
       "⎢            4      3⎥\n",
       "⎢0    0     θ    6⋅θ ⎥\n",
       "⎢                    ⎥\n",
       "⎢                  4 ⎥\n",
       "⎣0    0     0     θ  ⎦"
      ]
     },
     "execution_count": 16,
     "metadata": {},
     "output_type": "execute_result"
    }
   ],
   "source": [
    "M4 = M@M@M@M\n",
    "M4"
   ]
  },
  {
   "cell_type": "markdown",
   "id": "ecfdd792-90fe-46f0-92dd-6c58cb7977d5",
   "metadata": {},
   "source": [
    "# Blog Idea 5"
   ]
  },
  {
   "cell_type": "markdown",
   "id": "5d0e1b53-8c85-450c-bf2c-a657abda8f57",
   "metadata": {
    "jp-MarkdownHeadingCollapsed": true
   },
   "source": [
    "## Defining the matrix"
   ]
  },
  {
   "cell_type": "code",
   "execution_count": 17,
   "id": "b5846de2-d96c-41c9-ae98-fc450e5f0494",
   "metadata": {},
   "outputs": [
    {
     "data": {
      "image/png": "[encoded data removed]",
      "text/latex": [
       "$\\displaystyle \\left[\\begin{matrix}\\theta_{1} & \\frac{1}{2} & 0 & 0\\\\0 & \\theta_{2} & 1 & 0\\\\0 & 0 & \\theta_{3} & \\frac{3}{2}\\\\0 & 0 & 0 & \\theta_{4}\\end{matrix}\\right]$"
      ],
      "text/plain": [
       "⎡θ₁  1/2  0    0 ⎤\n",
       "⎢                ⎥\n",
       "⎢0   θ₂   1    0 ⎥\n",
       "⎢                ⎥\n",
       "⎢0    0   θ₃  3/2⎥\n",
       "⎢                ⎥\n",
       "⎣0    0   0   θ₄ ⎦"
      ]
     },
     "execution_count": 17,
     "metadata": {},
     "output_type": "execute_result"
    }
   ],
   "source": [
    "theta_1 = Grassmann(\"theta_1\")\n",
    "theta_2 = Grassmann(\"theta_2\")\n",
    "theta_3 = Grassmann(\"theta_3\")\n",
    "theta_4 = Grassmann(\"theta_4\")\n",
    "M = Matrix([[theta_1, half,    0,       0      ],\n",
    "            [0,       theta_2, 2*half,  0      ],\n",
    "            [0,       0,       theta_3, 3*half ],\n",
    "            [0,       0,       0,       theta_4]])\n",
    "M"
   ]
  },
  {
   "cell_type": "code",
   "execution_count": 18,
   "id": "4ddc3365-2b88-4cc8-b057-fd9f58af109a",
   "metadata": {},
   "outputs": [
    {
     "data": {
      "image/png": "[encoded data removed]",
      "text/latex": [
       "$\\displaystyle \\left[\\begin{matrix}0 & \\frac{\\theta_{1}}{2} + \\frac{\\theta_{2}}{2} & \\frac{1}{2} & 0\\\\0 & 0 & \\theta_{2} + \\theta_{3} & \\frac{3}{2}\\\\0 & 0 & 0 & \\frac{3 \\theta_{3}}{2} + \\frac{3 \\theta_{4}}{2}\\\\0 & 0 & 0 & 0\\end{matrix}\\right]$"
      ],
      "text/plain": [
       "⎡   θ₁   θ₂                      ⎤\n",
       "⎢0  ── + ──    1/2         0     ⎥\n",
       "⎢   2    2                       ⎥\n",
       "⎢                                ⎥\n",
       "⎢0     0     θ₂ + θ₃      3/2    ⎥\n",
       "⎢                                ⎥\n",
       "⎢                     3⋅θ₃   3⋅θ₄⎥\n",
       "⎢0     0        0     ──── + ────⎥\n",
       "⎢                      2      2  ⎥\n",
       "⎢                                ⎥\n",
       "⎣0     0        0          0     ⎦"
      ]
     },
     "execution_count": 18,
     "metadata": {},
     "output_type": "execute_result"
    }
   ],
   "source": [
    "M2 = M@M\n",
    "M2"
   ]
  },
  {
   "cell_type": "markdown",
   "id": "72e88956-86c8-43a9-98f1-d1ff03a6e454",
   "metadata": {
    "jp-MarkdownHeadingCollapsed": true
   },
   "source": [
    "## From $M^2$ to $D$"
   ]
  },
  {
   "cell_type": "code",
   "execution_count": 19,
   "id": "754dd2de-92a0-4aca-8011-48d4defffc2f",
   "metadata": {},
   "outputs": [
    {
     "data": {
      "image/png": "[encoded data removed]",
      "text/latex": [
       "$\\displaystyle \\left[\\begin{matrix}0 & \\frac{1}{2} & 0 & 0\\\\0 & 0 & 0 & 0\\\\0 & 0 & 0 & 0\\\\0 & 0 & 0 & 0\\end{matrix}\\right]$"
      ],
      "text/plain": [
       "⎡0  1/2  0  0⎤\n",
       "⎢            ⎥\n",
       "⎢0   0   0  0⎥\n",
       "⎢            ⎥\n",
       "⎢0   0   0  0⎥\n",
       "⎢            ⎥\n",
       "⎣0   0   0  0⎦"
      ]
     },
     "execution_count": 19,
     "metadata": {},
     "output_type": "execute_result"
    }
   ],
   "source": [
    "ImG(M2, theta_1)"
   ]
  },
  {
   "cell_type": "code",
   "execution_count": 20,
   "id": "a5842872-d031-490c-91d2-4bc2fcc65b4a",
   "metadata": {},
   "outputs": [
    {
     "data": {
      "image/png": "[encoded data removed]",
      "text/latex": [
       "$\\displaystyle \\left[\\begin{matrix}0 & 1 & 0 & 0\\\\0 & 0 & 2 & 0\\\\0 & 0 & 0 & 3\\\\0 & 0 & 0 & 0\\end{matrix}\\right]$"
      ],
      "text/plain": [
       "⎡0  1  0  0⎤\n",
       "⎢          ⎥\n",
       "⎢0  0  2  0⎥\n",
       "⎢          ⎥\n",
       "⎢0  0  0  3⎥\n",
       "⎢          ⎥\n",
       "⎣0  0  0  0⎦"
      ]
     },
     "execution_count": 20,
     "metadata": {},
     "output_type": "execute_result"
    }
   ],
   "source": [
    "sum(\n",
    "    (ImG(M2, theta) for theta in [theta_1, theta_2, theta_3, theta_4]),\n",
    "    zeros(*M.shape)  # initial value\n",
    ")"
   ]
  },
  {
   "cell_type": "markdown",
   "id": "834971b6-4440-49c9-aff5-f5caf9a293b1",
   "metadata": {
    "jp-MarkdownHeadingCollapsed": true
   },
   "source": [
    "## From $M^4$ to $D^2$"
   ]
  },
  {
   "cell_type": "code",
   "execution_count": 21,
   "id": "612cf67a-08be-4426-b8a5-df937d2721bd",
   "metadata": {},
   "outputs": [
    {
     "data": {
      "image/png": "[encoded data removed]",
      "text/latex": [
       "$\\displaystyle \\left[\\begin{matrix}0 & 0 & \\frac{\\theta_{1} \\theta_{2} + \\theta_{1} \\theta_{3} + \\theta_{2} \\theta_{3}}{2} & \\frac{3 \\left(\\theta_{1} + \\theta_{2} + \\theta_{3} + \\theta_{4}\\right)}{4}\\\\0 & 0 & 0 & \\frac{3 \\left(\\theta_{2} \\theta_{3} + \\theta_{2} \\theta_{4} + \\theta_{3} \\theta_{4}\\right)}{2}\\\\0 & 0 & 0 & 0\\\\0 & 0 & 0 & 0\\end{matrix}\\right]$"
      ],
      "text/plain": [
       "⎡      θ₁⋅θ₂ + θ₁⋅θ₃ + θ₂⋅θ₃    3⋅(θ₁ + θ₂ + θ₃ + θ₄)  ⎤\n",
       "⎢0  0  ─────────────────────    ─────────────────────  ⎥\n",
       "⎢                2                        4            ⎥\n",
       "⎢                                                      ⎥\n",
       "⎢                             3⋅(θ₂⋅θ₃ + θ₂⋅θ₄ + θ₃⋅θ₄)⎥\n",
       "⎢0  0            0            ─────────────────────────⎥\n",
       "⎢                                         2            ⎥\n",
       "⎢                                                      ⎥\n",
       "⎢0  0            0                        0            ⎥\n",
       "⎢                                                      ⎥\n",
       "⎣0  0            0                        0            ⎦"
      ]
     },
     "execution_count": 21,
     "metadata": {},
     "output_type": "execute_result"
    }
   ],
   "source": [
    "M4 = simplify( M@M@M@M )\n",
    "M4"
   ]
  },
  {
   "cell_type": "code",
   "execution_count": 22,
   "id": "ce1eb1ec-c0b4-4137-9d23-fc4f0be09230",
   "metadata": {},
   "outputs": [
    {
     "data": {
      "image/png": "[encoded data removed]",
      "text/latex": [
       "$\\displaystyle \\left[ \\left( \\theta_{1}, \\  \\theta_{2}\\right), \\  \\left( \\theta_{1}, \\  \\theta_{3}\\right), \\  \\left( \\theta_{1}, \\  \\theta_{4}\\right), \\  \\left( \\theta_{2}, \\  \\theta_{3}\\right), \\  \\left( \\theta_{2}, \\  \\theta_{4}\\right), \\  \\left( \\theta_{3}, \\  \\theta_{4}\\right)\\right]$"
      ],
      "text/plain": [
       "[(θ₁, θ₂), (θ₁, θ₃), (θ₁, θ₄), (θ₂, θ₃), (θ₂, θ₄), (θ₃, θ₄)]"
      ]
     },
     "execution_count": 22,
     "metadata": {},
     "output_type": "execute_result"
    }
   ],
   "source": [
    "import itertools\n",
    "\n",
    "thetas = [theta_1, theta_2, theta_3, theta_4]\n",
    "list(itertools.combinations(thetas, 2))"
   ]
  },
  {
   "cell_type": "code",
   "execution_count": 23,
   "id": "1be27252-6843-4ffd-99f3-39128fd713dd",
   "metadata": {},
   "outputs": [
    {
     "data": {
      "image/png": "[encoded data removed]",
      "text/latex": [
       "$\\displaystyle \\left[\\begin{matrix}0 & 0 & \\frac{3}{2} & 0\\\\0 & 0 & 0 & \\frac{9}{2}\\\\0 & 0 & 0 & 0\\\\0 & 0 & 0 & 0\\end{matrix}\\right]$"
      ],
      "text/plain": [
       "⎡0  0  3/2   0 ⎤\n",
       "⎢              ⎥\n",
       "⎢0  0   0   9/2⎥\n",
       "⎢              ⎥\n",
       "⎢0  0   0    0 ⎥\n",
       "⎢              ⎥\n",
       "⎣0  0   0    0 ⎦"
      ]
     },
     "execution_count": 23,
     "metadata": {},
     "output_type": "execute_result"
    }
   ],
   "source": [
    "sum(\n",
    "    (ImG(ImG(M4, t1), t2) for t1,t2 in itertools.combinations(thetas, 2)),\n",
    "    zeros(*M.shape)  # initial value\n",
    ")"
   ]
  },
  {
   "cell_type": "code",
   "execution_count": 24,
   "id": "518baa21-ed38-40f8-a335-4077459d8996",
   "metadata": {},
   "outputs": [
    {
     "data": {
      "image/png": "[encoded data removed]",
      "text/latex": [
       "$\\displaystyle \\left[\\begin{matrix}0 & 0 & 2 & 0\\\\0 & 0 & 0 & 6\\\\0 & 0 & 0 & 0\\\\0 & 0 & 0 & 0\\end{matrix}\\right]$"
      ],
      "text/plain": [
       "⎡0  0  2  0⎤\n",
       "⎢          ⎥\n",
       "⎢0  0  0  6⎥\n",
       "⎢          ⎥\n",
       "⎢0  0  0  0⎥\n",
       "⎢          ⎥\n",
       "⎣0  0  0  0⎦"
      ]
     },
     "execution_count": 24,
     "metadata": {},
     "output_type": "execute_result"
    }
   ],
   "source": [
    "# Should be\n",
    "Matrix([[0, 0, factorial(2), 0],\n",
    "        [0, 0, 0, factorial(3)],\n",
    "        [0, 0, 0, 0],\n",
    "        [0, 0, 0, 0]])"
   ]
  },
  {
   "cell_type": "markdown",
   "id": "e75420e8-cf19-460e-9808-071ded1a8ff1",
   "metadata": {
    "jp-MarkdownHeadingCollapsed": true
   },
   "source": [
    "## From $M^6$ to $D^3$"
   ]
  },
  {
   "cell_type": "code",
   "execution_count": 25,
   "id": "57b5d789-2ca4-4cc3-89e5-b67d1adaba70",
   "metadata": {},
   "outputs": [
    {
     "data": {
      "image/png": "[encoded data removed]",
      "text/latex": [
       "$\\displaystyle \\left[\\begin{matrix}0 & 0 & 0 & \\frac{3 \\left(\\theta_{1} \\theta_{2} \\theta_{3} + \\theta_{1} \\theta_{2} \\theta_{4} + \\theta_{1} \\theta_{3} \\theta_{4} + \\theta_{2} \\theta_{3} \\theta_{4}\\right)}{4}\\\\0 & 0 & 0 & 0\\\\0 & 0 & 0 & 0\\\\0 & 0 & 0 & 0\\end{matrix}\\right]$"
      ],
      "text/plain": [
       "⎡         3⋅(θ₁⋅θ₂⋅θ₃ + θ₁⋅θ₂⋅θ₄ + θ₁⋅θ₃⋅θ₄ + θ₂⋅θ₃⋅θ₄)⎤\n",
       "⎢0  0  0  ─────────────────────────────────────────────⎥\n",
       "⎢                               4                      ⎥\n",
       "⎢                                                      ⎥\n",
       "⎢0  0  0                        0                      ⎥\n",
       "⎢                                                      ⎥\n",
       "⎢0  0  0                        0                      ⎥\n",
       "⎢                                                      ⎥\n",
       "⎣0  0  0                        0                      ⎦"
      ]
     },
     "execution_count": 25,
     "metadata": {},
     "output_type": "execute_result"
    }
   ],
   "source": [
    "M6 = simplify( M@M@M@M@M@M )\n",
    "M6"
   ]
  },
  {
   "cell_type": "code",
   "execution_count": 26,
   "id": "0b4790ff-7e96-495c-af0a-4297bcfec627",
   "metadata": {},
   "outputs": [
    {
     "data": {
      "image/png": "[encoded data removed]",
      "text/latex": [
       "$\\displaystyle \\left[\\begin{matrix}0 & 0 & 0 & 3\\\\0 & 0 & 0 & 0\\\\0 & 0 & 0 & 0\\\\0 & 0 & 0 & 0\\end{matrix}\\right]$"
      ],
      "text/plain": [
       "⎡0  0  0  3⎤\n",
       "⎢          ⎥\n",
       "⎢0  0  0  0⎥\n",
       "⎢          ⎥\n",
       "⎢0  0  0  0⎥\n",
       "⎢          ⎥\n",
       "⎣0  0  0  0⎦"
      ]
     },
     "execution_count": 26,
     "metadata": {},
     "output_type": "execute_result"
    }
   ],
   "source": [
    "sum(\n",
    "    (ImG(ImG(ImG(M6, t1), t2), t3) for t1,t2,t3 in itertools.combinations(thetas, 3)),\n",
    "    zeros(*M.shape)  # initial value\n",
    ")"
   ]
  },
  {
   "cell_type": "code",
   "execution_count": 27,
   "id": "5819c8d5-1438-43eb-9d96-fa2f451b5136",
   "metadata": {},
   "outputs": [
    {
     "data": {
      "image/png": "[encoded data removed]",
      "text/latex": [
       "$\\displaystyle \\left[\\begin{matrix}0 & 0 & 0 & 6\\\\0 & 0 & 0 & 0\\\\0 & 0 & 0 & 0\\\\0 & 0 & 0 & 0\\end{matrix}\\right]$"
      ],
      "text/plain": [
       "⎡0  0  0  6⎤\n",
       "⎢          ⎥\n",
       "⎢0  0  0  0⎥\n",
       "⎢          ⎥\n",
       "⎢0  0  0  0⎥\n",
       "⎢          ⎥\n",
       "⎣0  0  0  0⎦"
      ]
     },
     "execution_count": 27,
     "metadata": {},
     "output_type": "execute_result"
    }
   ],
   "source": [
    "# Should be\n",
    "Matrix([[0, 0, 0, factorial(3)],\n",
    "        [0, 0, 0, 0],\n",
    "        [0, 0, 0, 0],\n",
    "        [0, 0, 0, 0]])"
   ]
  },
  {
   "cell_type": "markdown",
   "id": "acf99c91-4981-4330-b0fa-f251bbe339ba",
   "metadata": {},
   "source": [
    "# Generalizing"
   ]
  },
  {
   "cell_type": "markdown",
   "id": "428bb19f-4c0a-4322-b512-ef410d488f91",
   "metadata": {
    "jp-MarkdownHeadingCollapsed": true
   },
   "source": [
    "## Initialize $M_\\theta$"
   ]
  },
  {
   "cell_type": "code",
   "execution_count": 28,
   "id": "924ec30e-3ebb-47aa-aaaa-57161cb1e22c",
   "metadata": {},
   "outputs": [],
   "source": [
    "def build_M_theta(n):\n",
    "    M = zeros(n,n)\n",
    "\n",
    "    thetas = [Grassmann(f\"theta_{i}\") for i in range(n)]\n",
    "    \n",
    "    # build diagonal\n",
    "    for row in range(n):\n",
    "        M[row,row] = thetas[row]\n",
    "    # build off-diagonal\n",
    "    for row in range(n-1):\n",
    "        M[row,row+1] = Integer(row+1) / Integer(2)\n",
    "\n",
    "    return M, thetas"
   ]
  },
  {
   "cell_type": "code",
   "execution_count": 29,
   "id": "d02e5891-cc9e-4447-aa1f-33a76a0dcfdd",
   "metadata": {},
   "outputs": [
    {
     "data": {
      "image/png": "[encoded data removed]",
      "text/latex": [
       "$\\displaystyle \\left[\\begin{matrix}\\theta_{0} & \\frac{1}{2} & 0 & 0\\\\0 & \\theta_{1} & 1 & 0\\\\0 & 0 & \\theta_{2} & \\frac{3}{2}\\\\0 & 0 & 0 & \\theta_{3}\\end{matrix}\\right]$"
      ],
      "text/plain": [
       "⎡θ₀  1/2  0    0 ⎤\n",
       "⎢                ⎥\n",
       "⎢0   θ₁   1    0 ⎥\n",
       "⎢                ⎥\n",
       "⎢0    0   θ₂  3/2⎥\n",
       "⎢                ⎥\n",
       "⎣0    0   0   θ₃ ⎦"
      ]
     },
     "execution_count": 29,
     "metadata": {},
     "output_type": "execute_result"
    }
   ],
   "source": [
    "M, thetas = build_M_theta(4)\n",
    "M"
   ]
  },
  {
   "cell_type": "markdown",
   "id": "6d7063bd-9710-4a29-be66-a7fb40c548c0",
   "metadata": {
    "jp-MarkdownHeadingCollapsed": true
   },
   "source": [
    "## Take multiple imaginary parts"
   ]
  },
  {
   "cell_type": "code",
   "execution_count": 30,
   "id": "f4dc6f8e-c968-4031-8b30-5bb0f733c520",
   "metadata": {},
   "outputs": [],
   "source": [
    "def multi_ImG(term, *grassmann_numbers):\n",
    "    for g in grassmann_numbers:\n",
    "        term = ImG(term, g)\n",
    "    return term"
   ]
  },
  {
   "cell_type": "code",
   "execution_count": 31,
   "id": "8e8efbb5-7221-4626-b0ad-03fca3d9af93",
   "metadata": {},
   "outputs": [],
   "source": [
    "import itertools\n",
    "\n",
    "def get_D_n(M, thetas, n):\n",
    "    if n > M.shape[0]:\n",
    "        return zeros(*M.shape)\n",
    "\n",
    "    raw_D = simplify( M**(n*2) )\n",
    "\n",
    "    return sum(\n",
    "        (\n",
    "            multi_ImG(raw_D, *combination)\n",
    "            for combination in itertools.combinations(thetas, n)\n",
    "        ),\n",
    "        zeros(*M.shape)  # initial value\n",
    "    )"
   ]
  },
  {
   "cell_type": "code",
   "execution_count": 32,
   "id": "7385d547-7fee-4a34-a630-2964fe7fd884",
   "metadata": {},
   "outputs": [
    {
     "data": {
      "image/png": "[encoded data removed]",
      "text/latex": [
       "$\\displaystyle \\left[\\begin{matrix}0 & 1 & 0 & 0\\\\0 & 0 & 2 & 0\\\\0 & 0 & 0 & 3\\\\0 & 0 & 0 & 0\\end{matrix}\\right]$"
      ],
      "text/plain": [
       "⎡0  1  0  0⎤\n",
       "⎢          ⎥\n",
       "⎢0  0  2  0⎥\n",
       "⎢          ⎥\n",
       "⎢0  0  0  3⎥\n",
       "⎢          ⎥\n",
       "⎣0  0  0  0⎦"
      ]
     },
     "execution_count": 32,
     "metadata": {},
     "output_type": "execute_result"
    }
   ],
   "source": [
    "get_D_n(M, thetas, 1)"
   ]
  },
  {
   "cell_type": "code",
   "execution_count": 33,
   "id": "93bfa163-6deb-4312-92f3-03b0744a16e6",
   "metadata": {},
   "outputs": [
    {
     "data": {
      "image/png": "[encoded data removed]",
      "text/latex": [
       "$\\displaystyle \\left[\\begin{matrix}0 & 0 & \\frac{3}{2} & 0\\\\0 & 0 & 0 & \\frac{9}{2}\\\\0 & 0 & 0 & 0\\\\0 & 0 & 0 & 0\\end{matrix}\\right]$"
      ],
      "text/plain": [
       "⎡0  0  3/2   0 ⎤\n",
       "⎢              ⎥\n",
       "⎢0  0   0   9/2⎥\n",
       "⎢              ⎥\n",
       "⎢0  0   0    0 ⎥\n",
       "⎢              ⎥\n",
       "⎣0  0   0    0 ⎦"
      ]
     },
     "execution_count": 33,
     "metadata": {},
     "output_type": "execute_result"
    }
   ],
   "source": [
    "get_D_n(M, thetas, 2)"
   ]
  },
  {
   "cell_type": "code",
   "execution_count": 34,
   "id": "c6901143-cd18-4ab3-8025-be68123b2bbf",
   "metadata": {},
   "outputs": [
    {
     "data": {
      "image/png": "[encoded data removed]",
      "text/latex": [
       "$\\displaystyle \\left[\\begin{matrix}0 & 0 & 0 & 3\\\\0 & 0 & 0 & 0\\\\0 & 0 & 0 & 0\\\\0 & 0 & 0 & 0\\end{matrix}\\right]$"
      ],
      "text/plain": [
       "⎡0  0  0  3⎤\n",
       "⎢          ⎥\n",
       "⎢0  0  0  0⎥\n",
       "⎢          ⎥\n",
       "⎢0  0  0  0⎥\n",
       "⎢          ⎥\n",
       "⎣0  0  0  0⎦"
      ]
     },
     "execution_count": 34,
     "metadata": {},
     "output_type": "execute_result"
    }
   ],
   "source": [
    "get_D_n(M, thetas, 3)"
   ]
  },
  {
   "cell_type": "markdown",
   "id": "8a1f0025-8e3d-4b35-b7f4-4b87a2292c12",
   "metadata": {
    "jp-MarkdownHeadingCollapsed": true
   },
   "source": [
    "### Creating $D$"
   ]
  },
  {
   "cell_type": "code",
   "execution_count": 35,
   "id": "ef3fb449-60e1-442f-b35c-cd8061fa66ee",
   "metadata": {},
   "outputs": [],
   "source": [
    "def build_D(n: int) -> Matrix:\n",
    "    result = zeros(n,n)\n",
    "    for row in range(n-1):\n",
    "        result[row, row+1] = Integer(row+1)\n",
    "    return result"
   ]
  },
  {
   "cell_type": "code",
   "execution_count": 36,
   "id": "18972794-dba9-4178-8407-9ac2daea4af9",
   "metadata": {},
   "outputs": [
    {
     "data": {
      "image/png": "[encoded data removed]",
      "text/latex": [
       "$\\displaystyle \\left[\\begin{matrix}0 & 1 & 0 & 0\\\\0 & 0 & 2 & 0\\\\0 & 0 & 0 & 3\\\\0 & 0 & 0 & 0\\end{matrix}\\right]$"
      ],
      "text/plain": [
       "⎡0  1  0  0⎤\n",
       "⎢          ⎥\n",
       "⎢0  0  2  0⎥\n",
       "⎢          ⎥\n",
       "⎢0  0  0  3⎥\n",
       "⎢          ⎥\n",
       "⎣0  0  0  0⎦"
      ]
     },
     "execution_count": 36,
     "metadata": {},
     "output_type": "execute_result"
    }
   ],
   "source": [
    "D = build_D(4)\n",
    "D"
   ]
  },
  {
   "cell_type": "code",
   "execution_count": 37,
   "id": "3fd1b803-1dd6-4f23-9d38-60888d43cc41",
   "metadata": {},
   "outputs": [
    {
     "data": {
      "image/png": "[encoded data removed]",
      "text/latex": [
       "$\\displaystyle \\left[\\begin{matrix}0 & 0 & 2 & 0\\\\0 & 0 & 0 & 6\\\\0 & 0 & 0 & 0\\\\0 & 0 & 0 & 0\\end{matrix}\\right]$"
      ],
      "text/plain": [
       "⎡0  0  2  0⎤\n",
       "⎢          ⎥\n",
       "⎢0  0  0  6⎥\n",
       "⎢          ⎥\n",
       "⎢0  0  0  0⎥\n",
       "⎢          ⎥\n",
       "⎣0  0  0  0⎦"
      ]
     },
     "execution_count": 37,
     "metadata": {},
     "output_type": "execute_result"
    }
   ],
   "source": [
    "D ** 2"
   ]
  },
  {
   "cell_type": "code",
   "execution_count": 38,
   "id": "93836721-bb37-4a20-9c17-081013f1595b",
   "metadata": {},
   "outputs": [
    {
     "data": {
      "image/png": "[encoded data removed]",
      "text/latex": [
       "$\\displaystyle \\left[\\begin{matrix}0 & 0 & 0 & 6\\\\0 & 0 & 0 & 0\\\\0 & 0 & 0 & 0\\\\0 & 0 & 0 & 0\\end{matrix}\\right]$"
      ],
      "text/plain": [
       "⎡0  0  0  6⎤\n",
       "⎢          ⎥\n",
       "⎢0  0  0  0⎥\n",
       "⎢          ⎥\n",
       "⎢0  0  0  0⎥\n",
       "⎢          ⎥\n",
       "⎣0  0  0  0⎦"
      ]
     },
     "execution_count": 38,
     "metadata": {},
     "output_type": "execute_result"
    }
   ],
   "source": [
    "D ** 3"
   ]
  },
  {
   "cell_type": "markdown",
   "id": "540cf150-d1a0-4413-8107-62a4d06333da",
   "metadata": {
    "jp-MarkdownHeadingCollapsed": true
   },
   "source": [
    "## Larger matrices"
   ]
  },
  {
   "cell_type": "code",
   "execution_count": 39,
   "id": "a9e28507-a4c9-4c6a-8d2e-ba4f485f766e",
   "metadata": {},
   "outputs": [
    {
     "data": {
      "image/png": "[encoded data removed]",
      "text/latex": [
       "$\\displaystyle \\left[\\begin{matrix}\\theta_{0} & \\frac{1}{2} & 0 & 0 & 0 & 0 & 0 & 0 & 0 & 0\\\\0 & \\theta_{1} & 1 & 0 & 0 & 0 & 0 & 0 & 0 & 0\\\\0 & 0 & \\theta_{2} & \\frac{3}{2} & 0 & 0 & 0 & 0 & 0 & 0\\\\0 & 0 & 0 & \\theta_{3} & 2 & 0 & 0 & 0 & 0 & 0\\\\0 & 0 & 0 & 0 & \\theta_{4} & \\frac{5}{2} & 0 & 0 & 0 & 0\\\\0 & 0 & 0 & 0 & 0 & \\theta_{5} & 3 & 0 & 0 & 0\\\\0 & 0 & 0 & 0 & 0 & 0 & \\theta_{6} & \\frac{7}{2} & 0 & 0\\\\0 & 0 & 0 & 0 & 0 & 0 & 0 & \\theta_{7} & 4 & 0\\\\0 & 0 & 0 & 0 & 0 & 0 & 0 & 0 & \\theta_{8} & \\frac{9}{2}\\\\0 & 0 & 0 & 0 & 0 & 0 & 0 & 0 & 0 & \\theta_{9}\\end{matrix}\\right]$"
      ],
      "text/plain": [
       "⎡θ₀  1/2  0    0   0    0   0    0   0    0 ⎤\n",
       "⎢                                           ⎥\n",
       "⎢0   θ₁   1    0   0    0   0    0   0    0 ⎥\n",
       "⎢                                           ⎥\n",
       "⎢0    0   θ₂  3/2  0    0   0    0   0    0 ⎥\n",
       "⎢                                           ⎥\n",
       "⎢0    0   0   θ₃   2    0   0    0   0    0 ⎥\n",
       "⎢                                           ⎥\n",
       "⎢0    0   0    0   θ₄  5/2  0    0   0    0 ⎥\n",
       "⎢                                           ⎥\n",
       "⎢0    0   0    0   0   θ₅   3    0   0    0 ⎥\n",
       "⎢                                           ⎥\n",
       "⎢0    0   0    0   0    0   θ₆  7/2  0    0 ⎥\n",
       "⎢                                           ⎥\n",
       "⎢0    0   0    0   0    0   0   θ₇   4    0 ⎥\n",
       "⎢                                           ⎥\n",
       "⎢0    0   0    0   0    0   0    0   θ₈  9/2⎥\n",
       "⎢                                           ⎥\n",
       "⎣0    0   0    0   0    0   0    0   0   θ₉ ⎦"
      ]
     },
     "execution_count": 39,
     "metadata": {},
     "output_type": "execute_result"
    }
   ],
   "source": [
    "n = 10\n",
    "M, thetas = build_M_theta(n)\n",
    "M"
   ]
  },
  {
   "cell_type": "markdown",
   "id": "e6513ddd-1e2b-4495-b4bc-e473a927ff36",
   "metadata": {
    "jp-MarkdownHeadingCollapsed": true
   },
   "source": [
    "### Manually comparing $M^2$ to $D$"
   ]
  },
  {
   "cell_type": "code",
   "execution_count": 40,
   "id": "52efe25c-8bc7-4f4a-8052-fc9f099d1902",
   "metadata": {},
   "outputs": [
    {
     "data": {
      "image/png": "[encoded data removed]",
      "text/latex": [
       "$\\displaystyle \\left[\\begin{matrix}0 & 1 & 0 & 0 & 0 & 0 & 0 & 0 & 0 & 0\\\\0 & 0 & 2 & 0 & 0 & 0 & 0 & 0 & 0 & 0\\\\0 & 0 & 0 & 3 & 0 & 0 & 0 & 0 & 0 & 0\\\\0 & 0 & 0 & 0 & 4 & 0 & 0 & 0 & 0 & 0\\\\0 & 0 & 0 & 0 & 0 & 5 & 0 & 0 & 0 & 0\\\\0 & 0 & 0 & 0 & 0 & 0 & 6 & 0 & 0 & 0\\\\0 & 0 & 0 & 0 & 0 & 0 & 0 & 7 & 0 & 0\\\\0 & 0 & 0 & 0 & 0 & 0 & 0 & 0 & 8 & 0\\\\0 & 0 & 0 & 0 & 0 & 0 & 0 & 0 & 0 & 9\\\\0 & 0 & 0 & 0 & 0 & 0 & 0 & 0 & 0 & 0\\end{matrix}\\right]$"
      ],
      "text/plain": [
       "⎡0  1  0  0  0  0  0  0  0  0⎤\n",
       "⎢                            ⎥\n",
       "⎢0  0  2  0  0  0  0  0  0  0⎥\n",
       "⎢                            ⎥\n",
       "⎢0  0  0  3  0  0  0  0  0  0⎥\n",
       "⎢                            ⎥\n",
       "⎢0  0  0  0  4  0  0  0  0  0⎥\n",
       "⎢                            ⎥\n",
       "⎢0  0  0  0  0  5  0  0  0  0⎥\n",
       "⎢                            ⎥\n",
       "⎢0  0  0  0  0  0  6  0  0  0⎥\n",
       "⎢                            ⎥\n",
       "⎢0  0  0  0  0  0  0  7  0  0⎥\n",
       "⎢                            ⎥\n",
       "⎢0  0  0  0  0  0  0  0  8  0⎥\n",
       "⎢                            ⎥\n",
       "⎢0  0  0  0  0  0  0  0  0  9⎥\n",
       "⎢                            ⎥\n",
       "⎣0  0  0  0  0  0  0  0  0  0⎦"
      ]
     },
     "execution_count": 40,
     "metadata": {},
     "output_type": "execute_result"
    }
   ],
   "source": [
    "D1 = get_D_n(M, thetas, 1)\n",
    "D1"
   ]
  },
  {
   "cell_type": "code",
   "execution_count": 41,
   "id": "83a3c15a-91d9-4b14-af9d-68c2e97a2b2d",
   "metadata": {},
   "outputs": [
    {
     "data": {
      "image/png": "[encoded data removed]",
      "text/latex": [
       "$\\displaystyle \\left[\\begin{matrix}0 & 1 & 0 & 0 & 0 & 0 & 0 & 0 & 0 & 0\\\\0 & 0 & 2 & 0 & 0 & 0 & 0 & 0 & 0 & 0\\\\0 & 0 & 0 & 3 & 0 & 0 & 0 & 0 & 0 & 0\\\\0 & 0 & 0 & 0 & 4 & 0 & 0 & 0 & 0 & 0\\\\0 & 0 & 0 & 0 & 0 & 5 & 0 & 0 & 0 & 0\\\\0 & 0 & 0 & 0 & 0 & 0 & 6 & 0 & 0 & 0\\\\0 & 0 & 0 & 0 & 0 & 0 & 0 & 7 & 0 & 0\\\\0 & 0 & 0 & 0 & 0 & 0 & 0 & 0 & 8 & 0\\\\0 & 0 & 0 & 0 & 0 & 0 & 0 & 0 & 0 & 9\\\\0 & 0 & 0 & 0 & 0 & 0 & 0 & 0 & 0 & 0\\end{matrix}\\right]$"
      ],
      "text/plain": [
       "⎡0  1  0  0  0  0  0  0  0  0⎤\n",
       "⎢                            ⎥\n",
       "⎢0  0  2  0  0  0  0  0  0  0⎥\n",
       "⎢                            ⎥\n",
       "⎢0  0  0  3  0  0  0  0  0  0⎥\n",
       "⎢                            ⎥\n",
       "⎢0  0  0  0  4  0  0  0  0  0⎥\n",
       "⎢                            ⎥\n",
       "⎢0  0  0  0  0  5  0  0  0  0⎥\n",
       "⎢                            ⎥\n",
       "⎢0  0  0  0  0  0  6  0  0  0⎥\n",
       "⎢                            ⎥\n",
       "⎢0  0  0  0  0  0  0  7  0  0⎥\n",
       "⎢                            ⎥\n",
       "⎢0  0  0  0  0  0  0  0  8  0⎥\n",
       "⎢                            ⎥\n",
       "⎢0  0  0  0  0  0  0  0  0  9⎥\n",
       "⎢                            ⎥\n",
       "⎣0  0  0  0  0  0  0  0  0  0⎦"
      ]
     },
     "execution_count": 41,
     "metadata": {},
     "output_type": "execute_result"
    }
   ],
   "source": [
    "D = build_D(n)\n",
    "D"
   ]
  },
  {
   "cell_type": "code",
   "execution_count": 42,
   "id": "166ed345-7403-4c57-9eac-25b78329d71a",
   "metadata": {},
   "outputs": [],
   "source": [
    "def _div(x, y):\n",
    "    if x == 0 and y == 0:\n",
    "        return 0\n",
    "    elif x == 0 or y == 0:\n",
    "        return nan\n",
    "    else:\n",
    "        return x / y\n",
    "\n",
    "def div(M1, M2):\n",
    "    return Matrix([[_div(M1[i,j], M2[i,j]) for j in range(M1.shape[0])] for i in range(M1.shape[1])])"
   ]
  },
  {
   "cell_type": "code",
   "execution_count": 43,
   "id": "2c23cfa1-d5f0-432d-8b64-f0afb97f364c",
   "metadata": {},
   "outputs": [
    {
     "data": {
      "image/png": "[encoded data removed]",
      "text/latex": [
       "$\\displaystyle \\left[\\begin{matrix}0 & 1 & 0 & 0 & 0 & 0 & 0 & 0 & 0 & 0\\\\0 & 0 & 1 & 0 & 0 & 0 & 0 & 0 & 0 & 0\\\\0 & 0 & 0 & 1 & 0 & 0 & 0 & 0 & 0 & 0\\\\0 & 0 & 0 & 0 & 1 & 0 & 0 & 0 & 0 & 0\\\\0 & 0 & 0 & 0 & 0 & 1 & 0 & 0 & 0 & 0\\\\0 & 0 & 0 & 0 & 0 & 0 & 1 & 0 & 0 & 0\\\\0 & 0 & 0 & 0 & 0 & 0 & 0 & 1 & 0 & 0\\\\0 & 0 & 0 & 0 & 0 & 0 & 0 & 0 & 1 & 0\\\\0 & 0 & 0 & 0 & 0 & 0 & 0 & 0 & 0 & 1\\\\0 & 0 & 0 & 0 & 0 & 0 & 0 & 0 & 0 & 0\\end{matrix}\\right]$"
      ],
      "text/plain": [
       "⎡0  1  0  0  0  0  0  0  0  0⎤\n",
       "⎢                            ⎥\n",
       "⎢0  0  1  0  0  0  0  0  0  0⎥\n",
       "⎢                            ⎥\n",
       "⎢0  0  0  1  0  0  0  0  0  0⎥\n",
       "⎢                            ⎥\n",
       "⎢0  0  0  0  1  0  0  0  0  0⎥\n",
       "⎢                            ⎥\n",
       "⎢0  0  0  0  0  1  0  0  0  0⎥\n",
       "⎢                            ⎥\n",
       "⎢0  0  0  0  0  0  1  0  0  0⎥\n",
       "⎢                            ⎥\n",
       "⎢0  0  0  0  0  0  0  1  0  0⎥\n",
       "⎢                            ⎥\n",
       "⎢0  0  0  0  0  0  0  0  1  0⎥\n",
       "⎢                            ⎥\n",
       "⎢0  0  0  0  0  0  0  0  0  1⎥\n",
       "⎢                            ⎥\n",
       "⎣0  0  0  0  0  0  0  0  0  0⎦"
      ]
     },
     "execution_count": 43,
     "metadata": {},
     "output_type": "execute_result"
    }
   ],
   "source": [
    "div(D, D1)"
   ]
  },
  {
   "cell_type": "markdown",
   "id": "8dc3091f-8cc3-48dc-a67d-2364980b9a96",
   "metadata": {
    "jp-MarkdownHeadingCollapsed": true
   },
   "source": [
    "### Onto $D^n$"
   ]
  },
  {
   "cell_type": "code",
   "execution_count": 44,
   "id": "a024b944-bd7d-4337-9244-9781e558cf8e",
   "metadata": {},
   "outputs": [],
   "source": [
    "n = 10\n",
    "M, thetas = build_M_theta(n)\n",
    "D = build_D(n)"
   ]
  },
  {
   "cell_type": "code",
   "execution_count": 45,
   "id": "d5baa6eb-1db8-46d9-803c-f4d2a7ea6690",
   "metadata": {},
   "outputs": [
    {
     "data": {
      "image/png": "[encoded data removed]",
      "text/latex": [
       "$\\displaystyle \\left[\\begin{matrix}0 & 1 & 0 & 0 & 0 & 0 & 0 & 0 & 0 & 0\\\\0 & 0 & 1 & 0 & 0 & 0 & 0 & 0 & 0 & 0\\\\0 & 0 & 0 & 1 & 0 & 0 & 0 & 0 & 0 & 0\\\\0 & 0 & 0 & 0 & 1 & 0 & 0 & 0 & 0 & 0\\\\0 & 0 & 0 & 0 & 0 & 1 & 0 & 0 & 0 & 0\\\\0 & 0 & 0 & 0 & 0 & 0 & 1 & 0 & 0 & 0\\\\0 & 0 & 0 & 0 & 0 & 0 & 0 & 1 & 0 & 0\\\\0 & 0 & 0 & 0 & 0 & 0 & 0 & 0 & 1 & 0\\\\0 & 0 & 0 & 0 & 0 & 0 & 0 & 0 & 0 & 1\\\\0 & 0 & 0 & 0 & 0 & 0 & 0 & 0 & 0 & 0\\end{matrix}\\right]$"
      ],
      "text/plain": [
       "⎡0  1  0  0  0  0  0  0  0  0⎤\n",
       "⎢                            ⎥\n",
       "⎢0  0  1  0  0  0  0  0  0  0⎥\n",
       "⎢                            ⎥\n",
       "⎢0  0  0  1  0  0  0  0  0  0⎥\n",
       "⎢                            ⎥\n",
       "⎢0  0  0  0  1  0  0  0  0  0⎥\n",
       "⎢                            ⎥\n",
       "⎢0  0  0  0  0  1  0  0  0  0⎥\n",
       "⎢                            ⎥\n",
       "⎢0  0  0  0  0  0  1  0  0  0⎥\n",
       "⎢                            ⎥\n",
       "⎢0  0  0  0  0  0  0  1  0  0⎥\n",
       "⎢                            ⎥\n",
       "⎢0  0  0  0  0  0  0  0  1  0⎥\n",
       "⎢                            ⎥\n",
       "⎢0  0  0  0  0  0  0  0  0  1⎥\n",
       "⎢                            ⎥\n",
       "⎣0  0  0  0  0  0  0  0  0  0⎦"
      ]
     },
     "execution_count": 45,
     "metadata": {},
     "output_type": "execute_result"
    }
   ],
   "source": [
    "i = 1\n",
    "div(D**i, get_D_n(M, thetas, i))"
   ]
  },
  {
   "cell_type": "code",
   "execution_count": 46,
   "id": "a9c2675b-3e45-4748-afa8-9b71d2875a7c",
   "metadata": {},
   "outputs": [
    {
     "data": {
      "image/png": "[encoded data removed]",
      "text/latex": [
       "$\\displaystyle \\left[\\begin{matrix}0 & 0 & \\frac{4}{3} & 0 & 0 & 0 & 0 & 0 & 0 & 0\\\\0 & 0 & 0 & \\frac{4}{3} & 0 & 0 & 0 & 0 & 0 & 0\\\\0 & 0 & 0 & 0 & \\frac{4}{3} & 0 & 0 & 0 & 0 & 0\\\\0 & 0 & 0 & 0 & 0 & \\frac{4}{3} & 0 & 0 & 0 & 0\\\\0 & 0 & 0 & 0 & 0 & 0 & \\frac{4}{3} & 0 & 0 & 0\\\\0 & 0 & 0 & 0 & 0 & 0 & 0 & \\frac{4}{3} & 0 & 0\\\\0 & 0 & 0 & 0 & 0 & 0 & 0 & 0 & \\frac{4}{3} & 0\\\\0 & 0 & 0 & 0 & 0 & 0 & 0 & 0 & 0 & \\frac{4}{3}\\\\0 & 0 & 0 & 0 & 0 & 0 & 0 & 0 & 0 & 0\\\\0 & 0 & 0 & 0 & 0 & 0 & 0 & 0 & 0 & 0\\end{matrix}\\right]$"
      ],
      "text/plain": [
       "⎡0  0  4/3   0    0    0    0    0    0    0 ⎤\n",
       "⎢                                            ⎥\n",
       "⎢0  0   0   4/3   0    0    0    0    0    0 ⎥\n",
       "⎢                                            ⎥\n",
       "⎢0  0   0    0   4/3   0    0    0    0    0 ⎥\n",
       "⎢                                            ⎥\n",
       "⎢0  0   0    0    0   4/3   0    0    0    0 ⎥\n",
       "⎢                                            ⎥\n",
       "⎢0  0   0    0    0    0   4/3   0    0    0 ⎥\n",
       "⎢                                            ⎥\n",
       "⎢0  0   0    0    0    0    0   4/3   0    0 ⎥\n",
       "⎢                                            ⎥\n",
       "⎢0  0   0    0    0    0    0    0   4/3   0 ⎥\n",
       "⎢                                            ⎥\n",
       "⎢0  0   0    0    0    0    0    0    0   4/3⎥\n",
       "⎢                                            ⎥\n",
       "⎢0  0   0    0    0    0    0    0    0    0 ⎥\n",
       "⎢                                            ⎥\n",
       "⎣0  0   0    0    0    0    0    0    0    0 ⎦"
      ]
     },
     "execution_count": 46,
     "metadata": {},
     "output_type": "execute_result"
    }
   ],
   "source": [
    "i = 2\n",
    "div(D**i, get_D_n(M, thetas, i))"
   ]
  },
  {
   "cell_type": "code",
   "execution_count": 47,
   "id": "9029edb6-3d22-47e2-a3e3-6bfe3985d149",
   "metadata": {},
   "outputs": [
    {
     "data": {
      "image/png": "[encoded data removed]",
      "text/latex": [
       "$\\displaystyle \\left[\\begin{matrix}0 & 0 & 0 & 2 & 0 & 0 & 0 & 0 & 0 & 0\\\\0 & 0 & 0 & 0 & 2 & 0 & 0 & 0 & 0 & 0\\\\0 & 0 & 0 & 0 & 0 & 2 & 0 & 0 & 0 & 0\\\\0 & 0 & 0 & 0 & 0 & 0 & 2 & 0 & 0 & 0\\\\0 & 0 & 0 & 0 & 0 & 0 & 0 & 2 & 0 & 0\\\\0 & 0 & 0 & 0 & 0 & 0 & 0 & 0 & 2 & 0\\\\0 & 0 & 0 & 0 & 0 & 0 & 0 & 0 & 0 & 2\\\\0 & 0 & 0 & 0 & 0 & 0 & 0 & 0 & 0 & 0\\\\0 & 0 & 0 & 0 & 0 & 0 & 0 & 0 & 0 & 0\\\\0 & 0 & 0 & 0 & 0 & 0 & 0 & 0 & 0 & 0\\end{matrix}\\right]$"
      ],
      "text/plain": [
       "⎡0  0  0  2  0  0  0  0  0  0⎤\n",
       "⎢                            ⎥\n",
       "⎢0  0  0  0  2  0  0  0  0  0⎥\n",
       "⎢                            ⎥\n",
       "⎢0  0  0  0  0  2  0  0  0  0⎥\n",
       "⎢                            ⎥\n",
       "⎢0  0  0  0  0  0  2  0  0  0⎥\n",
       "⎢                            ⎥\n",
       "⎢0  0  0  0  0  0  0  2  0  0⎥\n",
       "⎢                            ⎥\n",
       "⎢0  0  0  0  0  0  0  0  2  0⎥\n",
       "⎢                            ⎥\n",
       "⎢0  0  0  0  0  0  0  0  0  2⎥\n",
       "⎢                            ⎥\n",
       "⎢0  0  0  0  0  0  0  0  0  0⎥\n",
       "⎢                            ⎥\n",
       "⎢0  0  0  0  0  0  0  0  0  0⎥\n",
       "⎢                            ⎥\n",
       "⎣0  0  0  0  0  0  0  0  0  0⎦"
      ]
     },
     "execution_count": 47,
     "metadata": {},
     "output_type": "execute_result"
    }
   ],
   "source": [
    "i = 3\n",
    "div(D**i, get_D_n(M, thetas, i))"
   ]
  },
  {
   "cell_type": "code",
   "execution_count": 48,
   "id": "62d74ca3-7bd6-423a-81fd-56995c4fd77c",
   "metadata": {},
   "outputs": [
    {
     "data": {
      "image/png": "[encoded data removed]",
      "text/latex": [
       "$\\displaystyle \\left[\\begin{matrix}0 & 0 & 0 & 0 & \\frac{16}{5} & 0 & 0 & 0 & 0 & 0\\\\0 & 0 & 0 & 0 & 0 & \\frac{16}{5} & 0 & 0 & 0 & 0\\\\0 & 0 & 0 & 0 & 0 & 0 & \\frac{16}{5} & 0 & 0 & 0\\\\0 & 0 & 0 & 0 & 0 & 0 & 0 & \\frac{16}{5} & 0 & 0\\\\0 & 0 & 0 & 0 & 0 & 0 & 0 & 0 & \\frac{16}{5} & 0\\\\0 & 0 & 0 & 0 & 0 & 0 & 0 & 0 & 0 & \\frac{16}{5}\\\\0 & 0 & 0 & 0 & 0 & 0 & 0 & 0 & 0 & 0\\\\0 & 0 & 0 & 0 & 0 & 0 & 0 & 0 & 0 & 0\\\\0 & 0 & 0 & 0 & 0 & 0 & 0 & 0 & 0 & 0\\\\0 & 0 & 0 & 0 & 0 & 0 & 0 & 0 & 0 & 0\\end{matrix}\\right]$"
      ],
      "text/plain": [
       "⎡0  0  0  0  16/5   0     0     0     0     0  ⎤\n",
       "⎢                                              ⎥\n",
       "⎢0  0  0  0   0    16/5   0     0     0     0  ⎥\n",
       "⎢                                              ⎥\n",
       "⎢0  0  0  0   0     0    16/5   0     0     0  ⎥\n",
       "⎢                                              ⎥\n",
       "⎢0  0  0  0   0     0     0    16/5   0     0  ⎥\n",
       "⎢                                              ⎥\n",
       "⎢0  0  0  0   0     0     0     0    16/5   0  ⎥\n",
       "⎢                                              ⎥\n",
       "⎢0  0  0  0   0     0     0     0     0    16/5⎥\n",
       "⎢                                              ⎥\n",
       "⎢0  0  0  0   0     0     0     0     0     0  ⎥\n",
       "⎢                                              ⎥\n",
       "⎢0  0  0  0   0     0     0     0     0     0  ⎥\n",
       "⎢                                              ⎥\n",
       "⎢0  0  0  0   0     0     0     0     0     0  ⎥\n",
       "⎢                                              ⎥\n",
       "⎣0  0  0  0   0     0     0     0     0     0  ⎦"
      ]
     },
     "execution_count": 48,
     "metadata": {},
     "output_type": "execute_result"
    }
   ],
   "source": [
    "i = 4\n",
    "div(D**i, get_D_n(M, thetas, i))"
   ]
  },
  {
   "cell_type": "code",
   "execution_count": 49,
   "id": "3e30c64f-851a-429a-b393-ca0666c7618a",
   "metadata": {},
   "outputs": [
    {
     "data": {
      "image/png": "[encoded data removed]",
      "text/latex": [
       "$\\displaystyle \\left[\\begin{matrix}0 & 0 & 0 & 0 & 0 & \\frac{16}{3} & 0 & 0 & 0 & 0\\\\0 & 0 & 0 & 0 & 0 & 0 & \\frac{16}{3} & 0 & 0 & 0\\\\0 & 0 & 0 & 0 & 0 & 0 & 0 & \\frac{16}{3} & 0 & 0\\\\0 & 0 & 0 & 0 & 0 & 0 & 0 & 0 & \\frac{16}{3} & 0\\\\0 & 0 & 0 & 0 & 0 & 0 & 0 & 0 & 0 & \\frac{16}{3}\\\\0 & 0 & 0 & 0 & 0 & 0 & 0 & 0 & 0 & 0\\\\0 & 0 & 0 & 0 & 0 & 0 & 0 & 0 & 0 & 0\\\\0 & 0 & 0 & 0 & 0 & 0 & 0 & 0 & 0 & 0\\\\0 & 0 & 0 & 0 & 0 & 0 & 0 & 0 & 0 & 0\\\\0 & 0 & 0 & 0 & 0 & 0 & 0 & 0 & 0 & 0\\end{matrix}\\right]$"
      ],
      "text/plain": [
       "⎡0  0  0  0  0  16/3   0     0     0     0  ⎤\n",
       "⎢                                           ⎥\n",
       "⎢0  0  0  0  0   0    16/3   0     0     0  ⎥\n",
       "⎢                                           ⎥\n",
       "⎢0  0  0  0  0   0     0    16/3   0     0  ⎥\n",
       "⎢                                           ⎥\n",
       "⎢0  0  0  0  0   0     0     0    16/3   0  ⎥\n",
       "⎢                                           ⎥\n",
       "⎢0  0  0  0  0   0     0     0     0    16/3⎥\n",
       "⎢                                           ⎥\n",
       "⎢0  0  0  0  0   0     0     0     0     0  ⎥\n",
       "⎢                                           ⎥\n",
       "⎢0  0  0  0  0   0     0     0     0     0  ⎥\n",
       "⎢                                           ⎥\n",
       "⎢0  0  0  0  0   0     0     0     0     0  ⎥\n",
       "⎢                                           ⎥\n",
       "⎢0  0  0  0  0   0     0     0     0     0  ⎥\n",
       "⎢                                           ⎥\n",
       "⎣0  0  0  0  0   0     0     0     0     0  ⎦"
      ]
     },
     "execution_count": 49,
     "metadata": {},
     "output_type": "execute_result"
    }
   ],
   "source": [
    "i = 5\n",
    "div(D**i, get_D_n(M, thetas, i))"
   ]
  },
  {
   "cell_type": "code",
   "execution_count": 50,
   "id": "e454979d-fbae-4b1b-8715-2dc85fec5b9c",
   "metadata": {},
   "outputs": [
    {
     "data": {
      "image/png": "[encoded data removed]",
      "text/latex": [
       "$\\displaystyle \\left[\\begin{matrix}0 & 0 & 0 & 0 & 0 & 0 & \\frac{64}{7} & 0 & 0 & 0\\\\0 & 0 & 0 & 0 & 0 & 0 & 0 & \\frac{64}{7} & 0 & 0\\\\0 & 0 & 0 & 0 & 0 & 0 & 0 & 0 & \\frac{64}{7} & 0\\\\0 & 0 & 0 & 0 & 0 & 0 & 0 & 0 & 0 & \\frac{64}{7}\\\\0 & 0 & 0 & 0 & 0 & 0 & 0 & 0 & 0 & 0\\\\0 & 0 & 0 & 0 & 0 & 0 & 0 & 0 & 0 & 0\\\\0 & 0 & 0 & 0 & 0 & 0 & 0 & 0 & 0 & 0\\\\0 & 0 & 0 & 0 & 0 & 0 & 0 & 0 & 0 & 0\\\\0 & 0 & 0 & 0 & 0 & 0 & 0 & 0 & 0 & 0\\\\0 & 0 & 0 & 0 & 0 & 0 & 0 & 0 & 0 & 0\\end{matrix}\\right]$"
      ],
      "text/plain": [
       "⎡0  0  0  0  0  0  64/7   0     0     0  ⎤\n",
       "⎢                                        ⎥\n",
       "⎢0  0  0  0  0  0   0    64/7   0     0  ⎥\n",
       "⎢                                        ⎥\n",
       "⎢0  0  0  0  0  0   0     0    64/7   0  ⎥\n",
       "⎢                                        ⎥\n",
       "⎢0  0  0  0  0  0   0     0     0    64/7⎥\n",
       "⎢                                        ⎥\n",
       "⎢0  0  0  0  0  0   0     0     0     0  ⎥\n",
       "⎢                                        ⎥\n",
       "⎢0  0  0  0  0  0   0     0     0     0  ⎥\n",
       "⎢                                        ⎥\n",
       "⎢0  0  0  0  0  0   0     0     0     0  ⎥\n",
       "⎢                                        ⎥\n",
       "⎢0  0  0  0  0  0   0     0     0     0  ⎥\n",
       "⎢                                        ⎥\n",
       "⎢0  0  0  0  0  0   0     0     0     0  ⎥\n",
       "⎢                                        ⎥\n",
       "⎣0  0  0  0  0  0   0     0     0     0  ⎦"
      ]
     },
     "execution_count": 50,
     "metadata": {},
     "output_type": "execute_result"
    }
   ],
   "source": [
    "i = 6\n",
    "div(D**i, get_D_n(M, thetas, i))"
   ]
  },
  {
   "cell_type": "code",
   "execution_count": 51,
   "id": "4a92762f-0050-4a72-8206-eea87fc1f9f1",
   "metadata": {},
   "outputs": [
    {
     "data": {
      "image/png": "[encoded data removed]",
      "text/latex": [
       "$\\displaystyle \\left[\\begin{matrix}0 & 0 & 0 & 0 & 0 & 0 & 0 & 16 & 0 & 0\\\\0 & 0 & 0 & 0 & 0 & 0 & 0 & 0 & 16 & 0\\\\0 & 0 & 0 & 0 & 0 & 0 & 0 & 0 & 0 & 16\\\\0 & 0 & 0 & 0 & 0 & 0 & 0 & 0 & 0 & 0\\\\0 & 0 & 0 & 0 & 0 & 0 & 0 & 0 & 0 & 0\\\\0 & 0 & 0 & 0 & 0 & 0 & 0 & 0 & 0 & 0\\\\0 & 0 & 0 & 0 & 0 & 0 & 0 & 0 & 0 & 0\\\\0 & 0 & 0 & 0 & 0 & 0 & 0 & 0 & 0 & 0\\\\0 & 0 & 0 & 0 & 0 & 0 & 0 & 0 & 0 & 0\\\\0 & 0 & 0 & 0 & 0 & 0 & 0 & 0 & 0 & 0\\end{matrix}\\right]$"
      ],
      "text/plain": [
       "⎡0  0  0  0  0  0  0  16  0   0 ⎤\n",
       "⎢                               ⎥\n",
       "⎢0  0  0  0  0  0  0  0   16  0 ⎥\n",
       "⎢                               ⎥\n",
       "⎢0  0  0  0  0  0  0  0   0   16⎥\n",
       "⎢                               ⎥\n",
       "⎢0  0  0  0  0  0  0  0   0   0 ⎥\n",
       "⎢                               ⎥\n",
       "⎢0  0  0  0  0  0  0  0   0   0 ⎥\n",
       "⎢                               ⎥\n",
       "⎢0  0  0  0  0  0  0  0   0   0 ⎥\n",
       "⎢                               ⎥\n",
       "⎢0  0  0  0  0  0  0  0   0   0 ⎥\n",
       "⎢                               ⎥\n",
       "⎢0  0  0  0  0  0  0  0   0   0 ⎥\n",
       "⎢                               ⎥\n",
       "⎢0  0  0  0  0  0  0  0   0   0 ⎥\n",
       "⎢                               ⎥\n",
       "⎣0  0  0  0  0  0  0  0   0   0 ⎦"
      ]
     },
     "execution_count": 51,
     "metadata": {},
     "output_type": "execute_result"
    }
   ],
   "source": [
    "i = 7\n",
    "div(D**i, get_D_n(M, thetas, i))"
   ]
  },
  {
   "cell_type": "code",
   "execution_count": 52,
   "id": "60f7e228-deb9-4b62-a12f-0cfb6c769c66",
   "metadata": {},
   "outputs": [
    {
     "data": {
      "image/png": "[encoded data removed]",
      "text/latex": [
       "$\\displaystyle \\left[\\begin{matrix}0 & 0 & 0 & 0 & 0 & 0 & 0 & 0 & \\frac{256}{9} & 0\\\\0 & 0 & 0 & 0 & 0 & 0 & 0 & 0 & 0 & \\frac{256}{9}\\\\0 & 0 & 0 & 0 & 0 & 0 & 0 & 0 & 0 & 0\\\\0 & 0 & 0 & 0 & 0 & 0 & 0 & 0 & 0 & 0\\\\0 & 0 & 0 & 0 & 0 & 0 & 0 & 0 & 0 & 0\\\\0 & 0 & 0 & 0 & 0 & 0 & 0 & 0 & 0 & 0\\\\0 & 0 & 0 & 0 & 0 & 0 & 0 & 0 & 0 & 0\\\\0 & 0 & 0 & 0 & 0 & 0 & 0 & 0 & 0 & 0\\\\0 & 0 & 0 & 0 & 0 & 0 & 0 & 0 & 0 & 0\\\\0 & 0 & 0 & 0 & 0 & 0 & 0 & 0 & 0 & 0\\end{matrix}\\right]$"
      ],
      "text/plain": [
       "⎡0  0  0  0  0  0  0  0  256/9    0  ⎤\n",
       "⎢                                    ⎥\n",
       "⎢0  0  0  0  0  0  0  0    0    256/9⎥\n",
       "⎢                                    ⎥\n",
       "⎢0  0  0  0  0  0  0  0    0      0  ⎥\n",
       "⎢                                    ⎥\n",
       "⎢0  0  0  0  0  0  0  0    0      0  ⎥\n",
       "⎢                                    ⎥\n",
       "⎢0  0  0  0  0  0  0  0    0      0  ⎥\n",
       "⎢                                    ⎥\n",
       "⎢0  0  0  0  0  0  0  0    0      0  ⎥\n",
       "⎢                                    ⎥\n",
       "⎢0  0  0  0  0  0  0  0    0      0  ⎥\n",
       "⎢                                    ⎥\n",
       "⎢0  0  0  0  0  0  0  0    0      0  ⎥\n",
       "⎢                                    ⎥\n",
       "⎢0  0  0  0  0  0  0  0    0      0  ⎥\n",
       "⎢                                    ⎥\n",
       "⎣0  0  0  0  0  0  0  0    0      0  ⎦"
      ]
     },
     "execution_count": 52,
     "metadata": {},
     "output_type": "execute_result"
    }
   ],
   "source": [
    "i = 8\n",
    "div(D**i, get_D_n(M, thetas, i))"
   ]
  },
  {
   "cell_type": "code",
   "execution_count": 53,
   "id": "2dc8d9fd-9756-4c4d-9d01-b08b2d25ed09",
   "metadata": {},
   "outputs": [
    {
     "data": {
      "image/png": "[encoded data removed]",
      "text/latex": [
       "$\\displaystyle \\left[\\begin{matrix}0 & 0 & 0 & 0 & 0 & 0 & 0 & 0 & 0 & \\frac{256}{5}\\\\0 & 0 & 0 & 0 & 0 & 0 & 0 & 0 & 0 & 0\\\\0 & 0 & 0 & 0 & 0 & 0 & 0 & 0 & 0 & 0\\\\0 & 0 & 0 & 0 & 0 & 0 & 0 & 0 & 0 & 0\\\\0 & 0 & 0 & 0 & 0 & 0 & 0 & 0 & 0 & 0\\\\0 & 0 & 0 & 0 & 0 & 0 & 0 & 0 & 0 & 0\\\\0 & 0 & 0 & 0 & 0 & 0 & 0 & 0 & 0 & 0\\\\0 & 0 & 0 & 0 & 0 & 0 & 0 & 0 & 0 & 0\\\\0 & 0 & 0 & 0 & 0 & 0 & 0 & 0 & 0 & 0\\\\0 & 0 & 0 & 0 & 0 & 0 & 0 & 0 & 0 & 0\\end{matrix}\\right]$"
      ],
      "text/plain": [
       "⎡0  0  0  0  0  0  0  0  0  256/5⎤\n",
       "⎢                                ⎥\n",
       "⎢0  0  0  0  0  0  0  0  0    0  ⎥\n",
       "⎢                                ⎥\n",
       "⎢0  0  0  0  0  0  0  0  0    0  ⎥\n",
       "⎢                                ⎥\n",
       "⎢0  0  0  0  0  0  0  0  0    0  ⎥\n",
       "⎢                                ⎥\n",
       "⎢0  0  0  0  0  0  0  0  0    0  ⎥\n",
       "⎢                                ⎥\n",
       "⎢0  0  0  0  0  0  0  0  0    0  ⎥\n",
       "⎢                                ⎥\n",
       "⎢0  0  0  0  0  0  0  0  0    0  ⎥\n",
       "⎢                                ⎥\n",
       "⎢0  0  0  0  0  0  0  0  0    0  ⎥\n",
       "⎢                                ⎥\n",
       "⎢0  0  0  0  0  0  0  0  0    0  ⎥\n",
       "⎢                                ⎥\n",
       "⎣0  0  0  0  0  0  0  0  0    0  ⎦"
      ]
     },
     "execution_count": 53,
     "metadata": {},
     "output_type": "execute_result"
    }
   ],
   "source": [
    "i = 9\n",
    "div(D**i, get_D_n(M, thetas, i))"
   ]
  },
  {
   "cell_type": "code",
   "execution_count": 54,
   "id": "0f3cae5a-a96c-4f47-a1fb-17ee5ff010d8",
   "metadata": {},
   "outputs": [
    {
     "data": {
      "image/png": "[encoded data removed]",
      "text/latex": [
       "$\\displaystyle \\left[\\begin{matrix}0 & 0 & 0 & 0 & 0 & 0 & 0 & 0 & 0 & 0\\\\0 & 0 & 0 & 0 & 0 & 0 & 0 & 0 & 0 & 0\\\\0 & 0 & 0 & 0 & 0 & 0 & 0 & 0 & 0 & 0\\\\0 & 0 & 0 & 0 & 0 & 0 & 0 & 0 & 0 & 0\\\\0 & 0 & 0 & 0 & 0 & 0 & 0 & 0 & 0 & 0\\\\0 & 0 & 0 & 0 & 0 & 0 & 0 & 0 & 0 & 0\\\\0 & 0 & 0 & 0 & 0 & 0 & 0 & 0 & 0 & 0\\\\0 & 0 & 0 & 0 & 0 & 0 & 0 & 0 & 0 & 0\\\\0 & 0 & 0 & 0 & 0 & 0 & 0 & 0 & 0 & 0\\\\0 & 0 & 0 & 0 & 0 & 0 & 0 & 0 & 0 & 0\\end{matrix}\\right]$"
      ],
      "text/plain": [
       "⎡0  0  0  0  0  0  0  0  0  0⎤\n",
       "⎢                            ⎥\n",
       "⎢0  0  0  0  0  0  0  0  0  0⎥\n",
       "⎢                            ⎥\n",
       "⎢0  0  0  0  0  0  0  0  0  0⎥\n",
       "⎢                            ⎥\n",
       "⎢0  0  0  0  0  0  0  0  0  0⎥\n",
       "⎢                            ⎥\n",
       "⎢0  0  0  0  0  0  0  0  0  0⎥\n",
       "⎢                            ⎥\n",
       "⎢0  0  0  0  0  0  0  0  0  0⎥\n",
       "⎢                            ⎥\n",
       "⎢0  0  0  0  0  0  0  0  0  0⎥\n",
       "⎢                            ⎥\n",
       "⎢0  0  0  0  0  0  0  0  0  0⎥\n",
       "⎢                            ⎥\n",
       "⎢0  0  0  0  0  0  0  0  0  0⎥\n",
       "⎢                            ⎥\n",
       "⎣0  0  0  0  0  0  0  0  0  0⎦"
      ]
     },
     "execution_count": 54,
     "metadata": {},
     "output_type": "execute_result"
    }
   ],
   "source": [
    "i = 10\n",
    "div(D**i, get_D_n(M, thetas, i))"
   ]
  },
  {
   "cell_type": "markdown",
   "id": "c7ae4907-30f5-484b-82fc-2000d49b5e10",
   "metadata": {
    "jp-MarkdownHeadingCollapsed": true
   },
   "source": [
    "# Finalizing"
   ]
  },
  {
   "cell_type": "markdown",
   "id": "81c4b1c6-a703-49de-9cb7-0cc9416254f0",
   "metadata": {},
   "source": [
    "Status:\n",
    "\n",
    "- `build_M_theta(n)` : working\n",
    "- `build_D(n)` : working\n",
    "- `get_D_n(M, thetas, 1)` : needs to add factor\n",
    "- `div(X,Y)` : working"
   ]
  },
  {
   "cell_type": "code",
   "execution_count": 55,
   "id": "462df206-a795-4de6-8fcb-48b633d79263",
   "metadata": {},
   "outputs": [],
   "source": [
    "def get_factor(n):\n",
    "    return Integer(2)**n / (n+1)"
   ]
  },
  {
   "cell_type": "code",
   "execution_count": 56,
   "id": "5f19af85-15c0-4400-884a-54b6230e246b",
   "metadata": {},
   "outputs": [],
   "source": [
    "def get_D_n_with_factor(M, thetas, n):\n",
    "    return get_factor(n) * get_D_n(M, thetas, n)"
   ]
  },
  {
   "cell_type": "code",
   "execution_count": 57,
   "id": "9b45de73-67c1-4687-930c-9590272ec86c",
   "metadata": {},
   "outputs": [],
   "source": [
    "M, theta = build_M_theta(10)\n",
    "D = build_D(10)"
   ]
  },
  {
   "cell_type": "code",
   "execution_count": 58,
   "id": "7cb5fa3c-3fae-421e-98af-95d486210f59",
   "metadata": {},
   "outputs": [
    {
     "data": {
      "image/png": "[encoded data removed]",
      "text/latex": [
       "$\\displaystyle \\left[\\begin{matrix}0 & 0 & 0 & 0 & 1 & 0 & 0 & 0 & 0 & 0\\\\0 & 0 & 0 & 0 & 0 & 1 & 0 & 0 & 0 & 0\\\\0 & 0 & 0 & 0 & 0 & 0 & 1 & 0 & 0 & 0\\\\0 & 0 & 0 & 0 & 0 & 0 & 0 & 1 & 0 & 0\\\\0 & 0 & 0 & 0 & 0 & 0 & 0 & 0 & 1 & 0\\\\0 & 0 & 0 & 0 & 0 & 0 & 0 & 0 & 0 & 1\\\\0 & 0 & 0 & 0 & 0 & 0 & 0 & 0 & 0 & 0\\\\0 & 0 & 0 & 0 & 0 & 0 & 0 & 0 & 0 & 0\\\\0 & 0 & 0 & 0 & 0 & 0 & 0 & 0 & 0 & 0\\\\0 & 0 & 0 & 0 & 0 & 0 & 0 & 0 & 0 & 0\\end{matrix}\\right]$"
      ],
      "text/plain": [
       "⎡0  0  0  0  1  0  0  0  0  0⎤\n",
       "⎢                            ⎥\n",
       "⎢0  0  0  0  0  1  0  0  0  0⎥\n",
       "⎢                            ⎥\n",
       "⎢0  0  0  0  0  0  1  0  0  0⎥\n",
       "⎢                            ⎥\n",
       "⎢0  0  0  0  0  0  0  1  0  0⎥\n",
       "⎢                            ⎥\n",
       "⎢0  0  0  0  0  0  0  0  1  0⎥\n",
       "⎢                            ⎥\n",
       "⎢0  0  0  0  0  0  0  0  0  1⎥\n",
       "⎢                            ⎥\n",
       "⎢0  0  0  0  0  0  0  0  0  0⎥\n",
       "⎢                            ⎥\n",
       "⎢0  0  0  0  0  0  0  0  0  0⎥\n",
       "⎢                            ⎥\n",
       "⎢0  0  0  0  0  0  0  0  0  0⎥\n",
       "⎢                            ⎥\n",
       "⎣0  0  0  0  0  0  0  0  0  0⎦"
      ]
     },
     "execution_count": 58,
     "metadata": {},
     "output_type": "execute_result"
    }
   ],
   "source": [
    "div(D**4, get_D_n_with_factor(M, theta, 4))"
   ]
  },
  {
   "cell_type": "code",
   "execution_count": 59,
   "id": "92128244-2679-4d73-839b-389f7da1fd13",
   "metadata": {},
   "outputs": [
    {
     "data": {
      "image/png": "[encoded data removed]",
      "text/latex": [
       "$\\displaystyle \\left[\\begin{matrix}0 & 0 & 0 & 0 & 0 & 0 & 0 & 1 & 0 & 0\\\\0 & 0 & 0 & 0 & 0 & 0 & 0 & 0 & 1 & 0\\\\0 & 0 & 0 & 0 & 0 & 0 & 0 & 0 & 0 & 1\\\\0 & 0 & 0 & 0 & 0 & 0 & 0 & 0 & 0 & 0\\\\0 & 0 & 0 & 0 & 0 & 0 & 0 & 0 & 0 & 0\\\\0 & 0 & 0 & 0 & 0 & 0 & 0 & 0 & 0 & 0\\\\0 & 0 & 0 & 0 & 0 & 0 & 0 & 0 & 0 & 0\\\\0 & 0 & 0 & 0 & 0 & 0 & 0 & 0 & 0 & 0\\\\0 & 0 & 0 & 0 & 0 & 0 & 0 & 0 & 0 & 0\\\\0 & 0 & 0 & 0 & 0 & 0 & 0 & 0 & 0 & 0\\end{matrix}\\right]$"
      ],
      "text/plain": [
       "⎡0  0  0  0  0  0  0  1  0  0⎤\n",
       "⎢                            ⎥\n",
       "⎢0  0  0  0  0  0  0  0  1  0⎥\n",
       "⎢                            ⎥\n",
       "⎢0  0  0  0  0  0  0  0  0  1⎥\n",
       "⎢                            ⎥\n",
       "⎢0  0  0  0  0  0  0  0  0  0⎥\n",
       "⎢                            ⎥\n",
       "⎢0  0  0  0  0  0  0  0  0  0⎥\n",
       "⎢                            ⎥\n",
       "⎢0  0  0  0  0  0  0  0  0  0⎥\n",
       "⎢                            ⎥\n",
       "⎢0  0  0  0  0  0  0  0  0  0⎥\n",
       "⎢                            ⎥\n",
       "⎢0  0  0  0  0  0  0  0  0  0⎥\n",
       "⎢                            ⎥\n",
       "⎢0  0  0  0  0  0  0  0  0  0⎥\n",
       "⎢                            ⎥\n",
       "⎣0  0  0  0  0  0  0  0  0  0⎦"
      ]
     },
     "execution_count": 59,
     "metadata": {},
     "output_type": "execute_result"
    }
   ],
   "source": [
    "div(D**7, get_D_n_with_factor(M, theta, 7))"
   ]
  },
  {
   "cell_type": "code",
   "execution_count": null,
   "id": "4f49fd0b-daad-43c1-bb67-9989d1617e62",
   "metadata": {},
   "outputs": [],
   "source": []
  }
 ],
 "metadata": {
  "kernelspec": {
   "display_name": "Python 3 (ipykernel)",
   "language": "python",
   "name": "python3"
  },
  "language_info": {
   "codemirror_mode": {
    "name": "ipython",
    "version": 3
   },
   "file_extension": ".py",
   "mimetype": "text/x-python",
   "name": "python",
   "nbconvert_exporter": "python",
   "pygments_lexer": "ipython3",
   "version": "3.12.7"
  }
 },
 "nbformat": 4,
 "nbformat_minor": 5
}
