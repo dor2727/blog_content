{
 "cells": [
  {
   "cell_type": "markdown",
   "id": "8940221f-e9fc-4ed8-a5c6-9cc29c6e30eb",
   "metadata": {},
   "source": [
    "# Derivative Matrix\n",
    "\n",
    "This notebook is linked to the following\n",
    "[blog post](https://harpaz.wordpress.com/2024/11/18/derivative-matrix/)\n",
    ", and is based on the following\n",
    "[YouTube video](https://www.youtube.com/watch?v=OZDM1VA-rU0)\n",
    "by [Zundamon's theorem](https://www.youtube.com/@zunda-theorem)"
   ]
  },
  {
   "cell_type": "code",
   "execution_count": 1,
   "id": "b524e88f-3c92-4bea-9ba7-67924afc9d8b",
   "metadata": {},
   "outputs": [],
   "source": [
    "import numpy as np\n",
    "import matplotlib.pyplot as plt\n",
    "from sympy import *\n",
    "\n",
    "from IPython.display import display\n",
    "\n",
    "init_printing(use_unicode=True)"
   ]
  },
  {
   "cell_type": "markdown",
   "id": "c001dd7f-d740-4f5c-b983-443c895ca6b8",
   "metadata": {},
   "source": [
    "# Derivative Matrix"
   ]
  },
  {
   "cell_type": "code",
   "execution_count": 2,
   "id": "c5a713e5-c672-4f17-b0ac-79c1c73b6438",
   "metadata": {},
   "outputs": [],
   "source": [
    "def build_D(n: int) -> Matrix:\n",
    "    result = zeros(n,n)\n",
    "    for row in range(n-1):\n",
    "        result[row, row+1] = Integer(row+1)\n",
    "    return result"
   ]
  },
  {
   "cell_type": "code",
   "execution_count": 3,
   "id": "c9f0abd2-3f94-4fdb-add6-d59d7acaf799",
   "metadata": {},
   "outputs": [
    {
     "data": {
      "image/png": "[encoded data removed]",
      "text/latex": [
       "$\\displaystyle \\left[\\begin{matrix}0 & 1 & 0 & 0\\\\0 & 0 & 2 & 0\\\\0 & 0 & 0 & 3\\\\0 & 0 & 0 & 0\\end{matrix}\\right]$"
      ],
      "text/plain": [
       "⎡0  1  0  0⎤\n",
       "⎢          ⎥\n",
       "⎢0  0  2  0⎥\n",
       "⎢          ⎥\n",
       "⎢0  0  0  3⎥\n",
       "⎢          ⎥\n",
       "⎣0  0  0  0⎦"
      ]
     },
     "execution_count": 3,
     "metadata": {},
     "output_type": "execute_result"
    }
   ],
   "source": [
    "build_D(4)"
   ]
  },
  {
   "cell_type": "markdown",
   "id": "c582fcc5-869c-48fc-9842-da4bf22b57cf",
   "metadata": {},
   "source": [
    "Building the 2nd derivative"
   ]
  },
  {
   "cell_type": "code",
   "execution_count": 4,
   "id": "01b57cf1-45b1-4a02-aa10-89983376f1ec",
   "metadata": {},
   "outputs": [
    {
     "data": {
      "image/png": "[encoded data removed]",
      "text/latex": [
       "$\\displaystyle \\left[\\begin{matrix}0 & 0 & 2 & 0\\\\0 & 0 & 0 & 6\\\\0 & 0 & 0 & 0\\\\0 & 0 & 0 & 0\\end{matrix}\\right]$"
      ],
      "text/plain": [
       "⎡0  0  2  0⎤\n",
       "⎢          ⎥\n",
       "⎢0  0  0  6⎥\n",
       "⎢          ⎥\n",
       "⎢0  0  0  0⎥\n",
       "⎢          ⎥\n",
       "⎣0  0  0  0⎦"
      ]
     },
     "execution_count": 4,
     "metadata": {},
     "output_type": "execute_result"
    }
   ],
   "source": [
    "D4 = build_D(4)\n",
    "D4 @ D4"
   ]
  },
  {
   "cell_type": "markdown",
   "id": "b3af74b0-41ce-4316-b716-4ded53a2ad30",
   "metadata": {},
   "source": [
    "Building the 3rd derivative"
   ]
  },
  {
   "cell_type": "code",
   "execution_count": 5,
   "id": "d4f33742-99c5-479b-a370-db8df43ec1cd",
   "metadata": {},
   "outputs": [
    {
     "data": {
      "image/png": "[encoded data removed]",
      "text/latex": [
       "$\\displaystyle \\left[\\begin{matrix}0 & 0 & 0 & 6\\\\0 & 0 & 0 & 0\\\\0 & 0 & 0 & 0\\\\0 & 0 & 0 & 0\\end{matrix}\\right]$"
      ],
      "text/plain": [
       "⎡0  0  0  6⎤\n",
       "⎢          ⎥\n",
       "⎢0  0  0  0⎥\n",
       "⎢          ⎥\n",
       "⎢0  0  0  0⎥\n",
       "⎢          ⎥\n",
       "⎣0  0  0  0⎦"
      ]
     },
     "execution_count": 5,
     "metadata": {},
     "output_type": "execute_result"
    }
   ],
   "source": [
    "D4 @ D4 @ D4"
   ]
  },
  {
   "cell_type": "markdown",
   "id": "4fd5d314-b2b7-42cb-befb-81e66267c2e0",
   "metadata": {},
   "source": [
    "Checking if it's hermitian, etc."
   ]
  },
  {
   "cell_type": "code",
   "execution_count": 6,
   "id": "32d33006-7383-4ff0-8b7d-b73df9f10426",
   "metadata": {},
   "outputs": [],
   "source": [
    "D5 = build_D(5)"
   ]
  },
  {
   "cell_type": "code",
   "execution_count": 7,
   "id": "edd07313-b108-4628-83ff-90fd9d418836",
   "metadata": {},
   "outputs": [
    {
     "data": {
      "image/png": "[encoded data removed]",
      "text/latex": [
       "$\\displaystyle \\left[\\begin{matrix}1 & 0 & 0 & 0 & 0\\\\0 & 4 & 0 & 0 & 0\\\\0 & 0 & 9 & 0 & 0\\\\0 & 0 & 0 & 16 & 0\\\\0 & 0 & 0 & 0 & 0\\end{matrix}\\right]$"
      ],
      "text/plain": [
       "⎡1  0  0  0   0⎤\n",
       "⎢              ⎥\n",
       "⎢0  4  0  0   0⎥\n",
       "⎢              ⎥\n",
       "⎢0  0  9  0   0⎥\n",
       "⎢              ⎥\n",
       "⎢0  0  0  16  0⎥\n",
       "⎢              ⎥\n",
       "⎣0  0  0  0   0⎦"
      ]
     },
     "execution_count": 7,
     "metadata": {},
     "output_type": "execute_result"
    }
   ],
   "source": [
    "D5 @ D5.T"
   ]
  },
  {
   "cell_type": "code",
   "execution_count": 8,
   "id": "076a2f80-0e98-4645-af63-f5208d8a6738",
   "metadata": {},
   "outputs": [
    {
     "data": {
      "image/png": "[encoded data removed]",
      "text/latex": [
       "$\\displaystyle \\left[\\begin{matrix}0 & 0 & 0 & 0 & 0\\\\0 & 1 & 0 & 0 & 0\\\\0 & 0 & 4 & 0 & 0\\\\0 & 0 & 0 & 9 & 0\\\\0 & 0 & 0 & 0 & 16\\end{matrix}\\right]$"
      ],
      "text/plain": [
       "⎡0  0  0  0  0 ⎤\n",
       "⎢              ⎥\n",
       "⎢0  1  0  0  0 ⎥\n",
       "⎢              ⎥\n",
       "⎢0  0  4  0  0 ⎥\n",
       "⎢              ⎥\n",
       "⎢0  0  0  9  0 ⎥\n",
       "⎢              ⎥\n",
       "⎣0  0  0  0  16⎦"
      ]
     },
     "execution_count": 8,
     "metadata": {},
     "output_type": "execute_result"
    }
   ],
   "source": [
    "D5.T @ D5"
   ]
  },
  {
   "cell_type": "markdown",
   "id": "72ed8f02-4aca-4557-bbca-eb7b0206f570",
   "metadata": {
    "jp-MarkdownHeadingCollapsed": true
   },
   "source": [
    "## Integral Matrix"
   ]
  },
  {
   "cell_type": "code",
   "execution_count": 9,
   "id": "9c3c4599-be45-4f1a-a3e1-cfa8968e48fd",
   "metadata": {},
   "outputs": [],
   "source": [
    "def build_I(n: int) -> Matrix:\n",
    "    result = zeros(n,n)\n",
    "    for row in range(1, n):\n",
    "        result[row, row-1] = 1/Integer(row)\n",
    "    return result"
   ]
  },
  {
   "cell_type": "code",
   "execution_count": 10,
   "id": "695d5634-ad59-4945-9ba7-e7a9b643fbcb",
   "metadata": {},
   "outputs": [
    {
     "data": {
      "image/png": "[encoded data removed]",
      "text/latex": [
       "$\\displaystyle \\left[\\begin{matrix}0 & 0 & 0 & 0\\\\1 & 0 & 0 & 0\\\\0 & \\frac{1}{2} & 0 & 0\\\\0 & 0 & \\frac{1}{3} & 0\\end{matrix}\\right]$"
      ],
      "text/plain": [
       "⎡0   0    0   0⎤\n",
       "⎢              ⎥\n",
       "⎢1   0    0   0⎥\n",
       "⎢              ⎥\n",
       "⎢0  1/2   0   0⎥\n",
       "⎢              ⎥\n",
       "⎣0   0   1/3  0⎦"
      ]
     },
     "execution_count": 10,
     "metadata": {},
     "output_type": "execute_result"
    }
   ],
   "source": [
    "build_I(4)"
   ]
  },
  {
   "cell_type": "code",
   "execution_count": 11,
   "id": "fb364ed3-9279-4506-bc12-50ccc1e36a45",
   "metadata": {},
   "outputs": [],
   "source": [
    "I5 = build_I(5)"
   ]
  },
  {
   "cell_type": "markdown",
   "id": "db587cd6-955d-48cb-974a-91c9bab49e3c",
   "metadata": {
    "jp-MarkdownHeadingCollapsed": true
   },
   "source": [
    "## Combining Integrals and Derivatives"
   ]
  },
  {
   "cell_type": "markdown",
   "id": "408c8fd5-5201-4bce-95b3-5e296364362b",
   "metadata": {},
   "source": [
    "First an integral, then a derivative"
   ]
  },
  {
   "cell_type": "code",
   "execution_count": 12,
   "id": "d0c39948-d1f3-453c-9da9-527612498a36",
   "metadata": {},
   "outputs": [
    {
     "data": {
      "image/png": "[encoded data removed]",
      "text/latex": [
       "$\\displaystyle \\left[\\begin{matrix}1 & 0 & 0 & 0 & 0\\\\0 & 1 & 0 & 0 & 0\\\\0 & 0 & 1 & 0 & 0\\\\0 & 0 & 0 & 1 & 0\\\\0 & 0 & 0 & 0 & 0\\end{matrix}\\right]$"
      ],
      "text/plain": [
       "⎡1  0  0  0  0⎤\n",
       "⎢             ⎥\n",
       "⎢0  1  0  0  0⎥\n",
       "⎢             ⎥\n",
       "⎢0  0  1  0  0⎥\n",
       "⎢             ⎥\n",
       "⎢0  0  0  1  0⎥\n",
       "⎢             ⎥\n",
       "⎣0  0  0  0  0⎦"
      ]
     },
     "execution_count": 12,
     "metadata": {},
     "output_type": "execute_result"
    }
   ],
   "source": [
    "D5 @ I5"
   ]
  },
  {
   "cell_type": "markdown",
   "id": "779c8c02-7d5c-4472-a06f-c182dde26aa4",
   "metadata": {},
   "source": [
    "First a derivative, then an integral"
   ]
  },
  {
   "cell_type": "code",
   "execution_count": 13,
   "id": "60e975e1-0e06-4d07-8379-a79f77611c91",
   "metadata": {},
   "outputs": [
    {
     "data": {
      "image/png": "[encoded data removed]",
      "text/latex": [
       "$\\displaystyle \\left[\\begin{matrix}0 & 0 & 0 & 0 & 0\\\\0 & 1 & 0 & 0 & 0\\\\0 & 0 & 1 & 0 & 0\\\\0 & 0 & 0 & 1 & 0\\\\0 & 0 & 0 & 0 & 1\\end{matrix}\\right]$"
      ],
      "text/plain": [
       "⎡0  0  0  0  0⎤\n",
       "⎢             ⎥\n",
       "⎢0  1  0  0  0⎥\n",
       "⎢             ⎥\n",
       "⎢0  0  1  0  0⎥\n",
       "⎢             ⎥\n",
       "⎢0  0  0  1  0⎥\n",
       "⎢             ⎥\n",
       "⎣0  0  0  0  1⎦"
      ]
     },
     "execution_count": 13,
     "metadata": {},
     "output_type": "execute_result"
    }
   ],
   "source": [
    "I5 @ D5"
   ]
  },
  {
   "cell_type": "markdown",
   "id": "6a0dd0e9-c0b5-4691-828a-e49af77a9140",
   "metadata": {},
   "source": [
    "Taking the integral, and then the derivative\n",
    "(That's `D5 * I5`)\n",
    "Gives the identity matrix\n",
    "(The last term is 0 since we're using finite matrices, while in reality both `D` and `I` are infinite matrices)\n",
    "\n",
    "However, taking the derivative first and then the integral loses information : the constant term"
   ]
  },
  {
   "cell_type": "markdown",
   "id": "4e85118d-c32a-4223-9e46-d3d1baef0da8",
   "metadata": {},
   "source": [
    "Taking a second derivative"
   ]
  },
  {
   "cell_type": "code",
   "execution_count": 14,
   "id": "988d011f-2d20-4afa-8970-bc9e6e2e8d32",
   "metadata": {},
   "outputs": [
    {
     "data": {
      "image/png": "[encoded data removed]",
      "text/latex": [
       "$\\displaystyle \\left[\\begin{matrix}0 & 0 & 2 & 0 & 0\\\\0 & 0 & 0 & 6 & 0\\\\0 & 0 & 0 & 0 & 12\\\\0 & 0 & 0 & 0 & 0\\\\0 & 0 & 0 & 0 & 0\\end{matrix}\\right]$"
      ],
      "text/plain": [
       "⎡0  0  2  0  0 ⎤\n",
       "⎢              ⎥\n",
       "⎢0  0  0  6  0 ⎥\n",
       "⎢              ⎥\n",
       "⎢0  0  0  0  12⎥\n",
       "⎢              ⎥\n",
       "⎢0  0  0  0  0 ⎥\n",
       "⎢              ⎥\n",
       "⎣0  0  0  0  0 ⎦"
      ]
     },
     "execution_count": 14,
     "metadata": {},
     "output_type": "execute_result"
    }
   ],
   "source": [
    "D5 @ D5"
   ]
  },
  {
   "cell_type": "markdown",
   "id": "0928db3c-18d6-4aa1-a665-31b23876f2ee",
   "metadata": {},
   "source": [
    "Taking a second integral"
   ]
  },
  {
   "cell_type": "code",
   "execution_count": 15,
   "id": "2bcb6d18-33a3-4e9e-a1c0-47509d2e2a13",
   "metadata": {},
   "outputs": [
    {
     "data": {
      "image/png": "[encoded data removed]",
      "text/latex": [
       "$\\displaystyle \\left[\\begin{matrix}0 & 0 & 0 & 0 & 0\\\\0 & 0 & 0 & 0 & 0\\\\\\frac{1}{2} & 0 & 0 & 0 & 0\\\\0 & \\frac{1}{6} & 0 & 0 & 0\\\\0 & 0 & \\frac{1}{12} & 0 & 0\\end{matrix}\\right]$"
      ],
      "text/plain": [
       "⎡ 0    0    0    0  0⎤\n",
       "⎢                    ⎥\n",
       "⎢ 0    0    0    0  0⎥\n",
       "⎢                    ⎥\n",
       "⎢1/2   0    0    0  0⎥\n",
       "⎢                    ⎥\n",
       "⎢ 0   1/6   0    0  0⎥\n",
       "⎢                    ⎥\n",
       "⎣ 0    0   1/12  0  0⎦"
      ]
     },
     "execution_count": 15,
     "metadata": {},
     "output_type": "execute_result"
    }
   ],
   "source": [
    "I5 @ I5"
   ]
  },
  {
   "cell_type": "markdown",
   "id": "c8279884-02cd-40dc-a87a-005d42c96963",
   "metadata": {},
   "source": [
    "# Diagonal Derivative Matrix\n",
    "\n",
    "Let's see if we can find a basis in which the derivative matrix is diagonal"
   ]
  },
  {
   "cell_type": "code",
   "execution_count": 16,
   "id": "7c646ab1-946a-4dd4-a29b-8f85119107bd",
   "metadata": {},
   "outputs": [
    {
     "name": "stdout",
     "output_type": "stream",
     "text": [
      "Failed: Matrix is not diagonalizable\n",
      "Bummer\n"
     ]
    }
   ],
   "source": [
    "try:\n",
    "    D5.diagonalize()\n",
    "except Exception as exc:\n",
    "    print(f\"Failed: {str(exc)}\")\n",
    "    print(\"Bummer\")"
   ]
  },
  {
   "cell_type": "code",
   "execution_count": 17,
   "id": "280a3653-d572-4144-8571-336c8bd4c336",
   "metadata": {},
   "outputs": [
    {
     "name": "stdout",
     "output_type": "stream",
     "text": [
      "Failed: Matrix is not diagonalizable\n",
      "Bummer\n"
     ]
    }
   ],
   "source": [
    "try:\n",
    "    I5.diagonalize()\n",
    "except Exception as exc:\n",
    "    print(f\"Failed: {str(exc)}\")\n",
    "    print(\"Bummer\")"
   ]
  },
  {
   "cell_type": "markdown",
   "id": "b1250df8-0ff3-40c6-93ac-083ce70b7ae8",
   "metadata": {},
   "source": [
    "Seems like there's no easy solution.\n",
    "\n",
    "Let's try SVD"
   ]
  },
  {
   "cell_type": "markdown",
   "id": "218d0cb3-1cb3-4e33-8ab5-76e923ee107c",
   "metadata": {
    "jp-MarkdownHeadingCollapsed": true
   },
   "source": [
    "## SVD Derivative Matrix"
   ]
  },
  {
   "cell_type": "markdown",
   "id": "874fd9ce-1790-416b-a99d-277dfbf0297a",
   "metadata": {},
   "source": [
    "Starting off with only looking at the singular values (with `sympy`)"
   ]
  },
  {
   "cell_type": "code",
   "execution_count": 18,
   "id": "f6359f84-3816-4355-a08f-66fc9081a78a",
   "metadata": {},
   "outputs": [
    {
     "data": {
      "image/png": "[encoded data removed]",
      "text/latex": [
       "$\\displaystyle \\left[ 4, \\  3, \\  2, \\  1, \\  0\\right]$"
      ],
      "text/plain": [
       "[4, 3, 2, 1, 0]"
      ]
     },
     "execution_count": 18,
     "metadata": {},
     "output_type": "execute_result"
    }
   ],
   "source": [
    "D5.singular_values()"
   ]
  },
  {
   "cell_type": "markdown",
   "id": "c66e0755-95b1-41bf-89b5-ce5535661d29",
   "metadata": {},
   "source": [
    "Next up, getting the SVD decomposition with `numpy`"
   ]
  },
  {
   "cell_type": "code",
   "execution_count": 19,
   "id": "a8eeda8c-8424-44ad-8fd3-4a1be05eb186",
   "metadata": {},
   "outputs": [
    {
     "data": {
      "text/plain": [
       "array([[0., 1., 0., 0., 0.],\n",
       "       [0., 0., 2., 0., 0.],\n",
       "       [0., 0., 0., 3., 0.],\n",
       "       [0., 0., 0., 0., 4.],\n",
       "       [0., 0., 0., 0., 0.]])"
      ]
     },
     "execution_count": 19,
     "metadata": {},
     "output_type": "execute_result"
    }
   ],
   "source": [
    "D5_np = np.array(D5).astype(np.float64)\n",
    "D5_np"
   ]
  },
  {
   "cell_type": "code",
   "execution_count": 20,
   "id": "6d22dfc5-cadc-4b36-b34a-83ae6340557e",
   "metadata": {},
   "outputs": [
    {
     "data": {
      "text/plain": [
       "array([[0., 0., 0., 1., 0.],\n",
       "       [0., 0., 1., 0., 0.],\n",
       "       [0., 1., 0., 0., 0.],\n",
       "       [1., 0., 0., 0., 0.],\n",
       "       [0., 0., 0., 0., 1.]])"
      ]
     },
     "metadata": {},
     "output_type": "display_data"
    },
    {
     "data": {
      "text/plain": [
       "array([4., 3., 2., 1., 0.])"
      ]
     },
     "metadata": {},
     "output_type": "display_data"
    },
    {
     "data": {
      "text/plain": [
       "array([[0., 0., 0., 0., 1.],\n",
       "       [0., 0., 0., 1., 0.],\n",
       "       [0., 0., 1., 0., 0.],\n",
       "       [0., 1., 0., 0., 0.],\n",
       "       [1., 0., 0., 0., 0.]])"
      ]
     },
     "metadata": {},
     "output_type": "display_data"
    }
   ],
   "source": [
    "svd_result_D = np.linalg.svd(D5_np)\n",
    "display(svd_result_D.U)\n",
    "display(svd_result_D.S)\n",
    "display(svd_result_D.Vh)"
   ]
  },
  {
   "cell_type": "markdown",
   "id": "b56bd249-dd78-4435-ab8d-f2ca26f56ae9",
   "metadata": {},
   "source": [
    "</br>\n",
    "</br>\n",
    "Similarly, taking the SVD decomposition of $I_5$"
   ]
  },
  {
   "cell_type": "code",
   "execution_count": 21,
   "id": "e94cce3b-8fc6-4bd5-858b-92501df5461a",
   "metadata": {},
   "outputs": [
    {
     "data": {
      "text/plain": [
       "array([[ 0.,  0.,  0.,  0.,  1.],\n",
       "       [-1.,  0.,  0.,  0.,  0.],\n",
       "       [ 0., -1.,  0.,  0.,  0.],\n",
       "       [ 0.,  0., -1.,  0.,  0.],\n",
       "       [ 0.,  0.,  0., -1.,  0.]])"
      ]
     },
     "metadata": {},
     "output_type": "display_data"
    },
    {
     "data": {
      "text/plain": [
       "array([1.        , 0.5       , 0.33333333, 0.25      , 0.        ])"
      ]
     },
     "metadata": {},
     "output_type": "display_data"
    },
    {
     "data": {
      "text/plain": [
       "array([[-1., -0., -0., -0., -0.],\n",
       "       [-0., -1., -0., -0., -0.],\n",
       "       [-0., -0., -1., -0., -0.],\n",
       "       [-0., -0., -0., -1., -0.],\n",
       "       [ 0.,  0.,  0.,  0.,  1.]])"
      ]
     },
     "metadata": {},
     "output_type": "display_data"
    }
   ],
   "source": [
    "I5_np = np.array(I5).astype(np.float64)\n",
    "svd_result_I = np.linalg.svd(I5_np)\n",
    "display(svd_result_I.U)\n",
    "display(svd_result_I.S)\n",
    "display(svd_result_I.Vh)"
   ]
  },
  {
   "cell_type": "markdown",
   "id": "a5439195-83c3-4169-8f77-33d6a85f910f",
   "metadata": {},
   "source": [
    "Nice."
   ]
  },
  {
   "cell_type": "markdown",
   "id": "94d0d8cf-ae5c-4ae7-8de1-ca082b0e099f",
   "metadata": {},
   "source": [
    "We can see that every term in the SVD of `D` looks symmetric\n",
    "</br>\n",
    "(a symmetric matrix satisfies $M^T=M$)\n",
    "</br>\n",
    "But `D` itself isn't symmetric.\n",
    "</br>\n",
    "So let's run a simple check, and see the SVD of $D^T$"
   ]
  },
  {
   "cell_type": "code",
   "execution_count": 22,
   "id": "bbf9e833-adec-4db6-afbd-20f427bf71bb",
   "metadata": {},
   "outputs": [
    {
     "data": {
      "text/plain": [
       "array([[ 0.,  0.,  0.,  0.,  1.],\n",
       "       [ 0.,  0.,  0., -1.,  0.],\n",
       "       [ 0.,  0., -1.,  0.,  0.],\n",
       "       [ 0., -1.,  0.,  0.,  0.],\n",
       "       [-1.,  0.,  0.,  0.,  0.]])"
      ]
     },
     "metadata": {},
     "output_type": "display_data"
    },
    {
     "data": {
      "text/plain": [
       "array([4., 3., 2., 1., 0.])"
      ]
     },
     "metadata": {},
     "output_type": "display_data"
    },
    {
     "data": {
      "text/plain": [
       "array([[-0., -0., -0., -1., -0.],\n",
       "       [-0., -0., -1., -0., -0.],\n",
       "       [-0., -1., -0., -0., -0.],\n",
       "       [-1., -0., -0., -0., -0.],\n",
       "       [ 0.,  0.,  0.,  0.,  1.]])"
      ]
     },
     "metadata": {},
     "output_type": "display_data"
    }
   ],
   "source": [
    "svd_result_D_T = np.linalg.svd(D5_np.T)\n",
    "display(svd_result_D_T.U)\n",
    "display(svd_result_D_T.S)\n",
    "display(svd_result_D_T.Vh)"
   ]
  },
  {
   "cell_type": "markdown",
   "id": "c6ad4848-375f-4ba9-9277-159cd0b6514d",
   "metadata": {},
   "source": [
    "</br>\n",
    "</br>\n",
    "Now, let's calculate `D @ I` term by term, and see how the identity matrix takes form\n",
    "</br>\n",
    "Starting off, let's look at the rightmost-matrix of `D` multiplied by the leftmost-matrix of `I`"
   ]
  },
  {
   "cell_type": "code",
   "execution_count": 23,
   "id": "2f7e675c-0bc4-46d1-8c37-8281bcfcf854",
   "metadata": {},
   "outputs": [
    {
     "data": {
      "text/plain": [
       "array([[ 0.,  0.,  0., -1.,  0.],\n",
       "       [ 0.,  0., -1.,  0.,  0.],\n",
       "       [ 0., -1.,  0.,  0.,  0.],\n",
       "       [-1.,  0.,  0.,  0.,  0.],\n",
       "       [ 0.,  0.,  0.,  0.,  1.]])"
      ]
     },
     "execution_count": 23,
     "metadata": {},
     "output_type": "execute_result"
    }
   ],
   "source": [
    "svd_result_D.Vh @ svd_result_I.U"
   ]
  },
  {
   "cell_type": "markdown",
   "id": "b169ee0a-1268-41ee-991a-29a258307dda",
   "metadata": {},
   "source": [
    "and at the rightmost-matrix of `I` multiplied by the leftmost-matrix of `D`"
   ]
  },
  {
   "cell_type": "code",
   "execution_count": 24,
   "id": "184b90c9-76f9-410b-9f75-e76ae7b43d42",
   "metadata": {},
   "outputs": [
    {
     "data": {
      "text/plain": [
       "array([[ 0.,  0.,  0., -1.,  0.],\n",
       "       [ 0.,  0., -1.,  0.,  0.],\n",
       "       [ 0., -1.,  0.,  0.,  0.],\n",
       "       [-1.,  0.,  0.,  0.,  0.],\n",
       "       [ 0.,  0.,  0.,  0.,  1.]])"
      ]
     },
     "execution_count": 24,
     "metadata": {},
     "output_type": "execute_result"
    }
   ],
   "source": [
    "svd_result_I.Vh @ svd_result_D.U"
   ]
  },
  {
   "cell_type": "markdown",
   "id": "d680e0cc-0ab3-48c9-891a-5b4545a6e965",
   "metadata": {},
   "source": [
    "Let's look at the full multiplication, and explore some of its parts"
   ]
  },
  {
   "cell_type": "code",
   "execution_count": 25,
   "id": "7952939c-6777-456c-97c8-274ad29a2c71",
   "metadata": {},
   "outputs": [
    {
     "data": {
      "text/plain": [
       "array([[1., 0., 0., 0., 0.],\n",
       "       [0., 1., 0., 0., 0.],\n",
       "       [0., 0., 1., 0., 0.],\n",
       "       [0., 0., 0., 1., 0.],\n",
       "       [0., 0., 0., 0., 0.]])"
      ]
     },
     "execution_count": 25,
     "metadata": {},
     "output_type": "execute_result"
    }
   ],
   "source": [
    "# D * I\n",
    "(\n",
    "    svd_result_D.U @ np.diag(svd_result_D.S) @ svd_result_D.Vh\n",
    "    @\n",
    "    svd_result_I.U @ np.diag(svd_result_I.S) @ svd_result_I.Vh\n",
    ")"
   ]
  },
  {
   "cell_type": "code",
   "execution_count": 26,
   "id": "e47a0413-f50a-4ce8-b861-4d2ecd629906",
   "metadata": {},
   "outputs": [
    {
     "data": {
      "text/plain": [
       "array([[ 0.,  0.,  0., -1.,  0.],\n",
       "       [ 0.,  0., -1.,  0.,  0.],\n",
       "       [ 0., -1.,  0.,  0.,  0.],\n",
       "       [-1.,  0.,  0.,  0.,  0.],\n",
       "       [ 0.,  0.,  0.,  0.,  1.]])"
      ]
     },
     "execution_count": 26,
     "metadata": {},
     "output_type": "execute_result"
    }
   ],
   "source": [
    "(\n",
    "    svd_result_D.Vh\n",
    "    @\n",
    "    svd_result_I.U\n",
    ")"
   ]
  },
  {
   "cell_type": "code",
   "execution_count": 27,
   "id": "f4ba7ce1-6c90-41df-8594-819639d614f6",
   "metadata": {},
   "outputs": [
    {
     "data": {
      "text/plain": [
       "array([[ 0.,  0.,  0., -1.,  0.],\n",
       "       [ 0.,  0., -1.,  0.,  0.],\n",
       "       [ 0., -1.,  0.,  0.,  0.],\n",
       "       [-1.,  0.,  0.,  0.,  0.],\n",
       "       [ 0.,  0.,  0.,  0.,  0.]])"
      ]
     },
     "execution_count": 27,
     "metadata": {},
     "output_type": "execute_result"
    }
   ],
   "source": [
    "(\n",
    "    np.diag(svd_result_D.S) @ svd_result_D.Vh\n",
    "    @\n",
    "    svd_result_I.U @ np.diag(svd_result_I.S)\n",
    ")"
   ]
  },
  {
   "cell_type": "code",
   "execution_count": 28,
   "id": "493e2d01-75f0-4f7b-b31b-390ce623e79a",
   "metadata": {},
   "outputs": [
    {
     "data": {
      "text/plain": [
       "array([[-1.,  0.,  0.,  0.,  0.],\n",
       "       [ 0., -1.,  0.,  0.,  0.],\n",
       "       [ 0.,  0., -1.,  0.,  0.],\n",
       "       [ 0.,  0.,  0., -1.,  0.],\n",
       "       [ 0.,  0.,  0.,  0.,  0.]])"
      ]
     },
     "execution_count": 28,
     "metadata": {},
     "output_type": "execute_result"
    }
   ],
   "source": [
    "(\n",
    "    svd_result_D.U @ np.diag(svd_result_D.S) @ svd_result_D.Vh\n",
    "    @\n",
    "    svd_result_I.U @ np.diag(svd_result_I.S)\n",
    ")"
   ]
  },
  {
   "cell_type": "code",
   "execution_count": 29,
   "id": "7879e2c9-0e6b-45c4-b3ab-2dc9caa58590",
   "metadata": {},
   "outputs": [
    {
     "data": {
      "text/plain": [
       "array([[0., 0., 0., 1., 0.],\n",
       "       [0., 0., 1., 0., 0.],\n",
       "       [0., 1., 0., 0., 0.],\n",
       "       [1., 0., 0., 0., 0.],\n",
       "       [0., 0., 0., 0., 0.]])"
      ]
     },
     "execution_count": 29,
     "metadata": {},
     "output_type": "execute_result"
    }
   ],
   "source": [
    "(\n",
    "    np.diag(svd_result_D.S) @ svd_result_D.Vh\n",
    "    @\n",
    "    svd_result_I.U @ np.diag(svd_result_I.S) @ svd_result_I.Vh\n",
    ")"
   ]
  },
  {
   "cell_type": "markdown",
   "id": "ed8d6c98-26c4-406e-8b4f-d69d810f0dc4",
   "metadata": {},
   "source": [
    "# Diagonal 2nd-Derivative Matrix\n",
    "\n",
    "Having failed to find a diagonal basis for the derivative matrix,\n",
    "let's try and find a basis for the second derivative.\n",
    "</br>\n",
    "We know that for the real derivative matrix (the infinite one), the basis is the Fourier basis.\n",
    "</br>\n",
    "Let's see if we can recreate it."
   ]
  },
  {
   "cell_type": "markdown",
   "id": "12172535-a10f-49d6-b32f-ddde8b435f3a",
   "metadata": {},
   "source": [
    "Small note on convention:\n",
    "\n",
    "- denoting `D_p` for the Polynomial/Taylor basis\n",
    "- denoting `D_f` for the Fourier basis\n",
    "\n",
    "And `T` will be the transformation matrix\n",
    "</br>\n",
    "$v_f = T \\cdot v_p$\n",
    "</br>\n",
    "for some vector $v$\n",
    "\n",
    "Thus, using\n",
    "</br>\n",
    "$D_f v_f = D_f (T v_p) = (T T^{-1}) D_f T v_p = T (T^{-1} D_f T) v_p = T (D_p) v_p = T (D_p v_p)$\n",
    "</br>\n",
    "We get\n",
    "</br>\n",
    "$D_f = T^{-1} D_f T$"
   ]
  },
  {
   "cell_type": "markdown",
   "id": "393a620a-fb21-4a84-96e9-246a04ab81be",
   "metadata": {
    "jp-MarkdownHeadingCollapsed": true
   },
   "source": [
    "## Starting off - simple manual attempt (for $\\sqrt{D}$)"
   ]
  },
  {
   "cell_type": "markdown",
   "id": "a8aac647-d7d6-4e4f-ab94-25eaa41de87f",
   "metadata": {},
   "source": [
    "Let's start small, with $3 \\times 3$ matrices\n",
    "</br>\n",
    "And let's write the transformation matrix from the Fourier space to the Taylor/Polynomial one\n",
    "\n",
    "- $cos(0 \\cdot x) = 1 + 0 \\cdot x + 0 \\cdot x^2$\n",
    "- $sin(1 \\cdot x) = 0 + 1 \\cdot x + 0 \\cdot x^2$\n",
    "- $cos(1 \\cdot x) = 1 + 0 \\cdot x - \\frac{1}{2} \\cdot x^2$"
   ]
  },
  {
   "cell_type": "code",
   "execution_count": 30,
   "id": "bacd70c0-ba97-4ca9-b65c-e1e96ea8e1ec",
   "metadata": {},
   "outputs": [
    {
     "data": {
      "image/png": "[encoded data removed]",
      "text/latex": [
       "$\\displaystyle \\left[\\begin{matrix}0 & 1 & 0\\\\0 & 0 & 2\\\\0 & 0 & 0\\end{matrix}\\right]$"
      ],
      "text/plain": [
       "⎡0  1  0⎤\n",
       "⎢       ⎥\n",
       "⎢0  0  2⎥\n",
       "⎢       ⎥\n",
       "⎣0  0  0⎦"
      ]
     },
     "execution_count": 30,
     "metadata": {},
     "output_type": "execute_result"
    }
   ],
   "source": [
    "D3_p = build_D(3)\n",
    "D3_p"
   ]
  },
  {
   "cell_type": "code",
   "execution_count": 31,
   "id": "babf30b9-7252-4148-a45a-4a7b72e92d09",
   "metadata": {},
   "outputs": [
    {
     "data": {
      "image/png": "[encoded data removed]",
      "text/latex": [
       "$\\displaystyle \\left[\\begin{matrix}1 & 0 & 0\\\\0 & 1 & 0\\\\1 & 0 & -0.5\\end{matrix}\\right]$"
      ],
      "text/plain": [
       "⎡1  0   0  ⎤\n",
       "⎢          ⎥\n",
       "⎢0  1   0  ⎥\n",
       "⎢          ⎥\n",
       "⎣1  0  -0.5⎦"
      ]
     },
     "execution_count": 31,
     "metadata": {},
     "output_type": "execute_result"
    }
   ],
   "source": [
    "T3 = Matrix([\n",
    "    [1, 0, 0],    # cos(0x)\n",
    "    [0, 1, 0],    # sin(1x)\n",
    "    [1, 0, -1/2]  # cos(1x)\n",
    "])\n",
    "T3"
   ]
  },
  {
   "cell_type": "code",
   "execution_count": 32,
   "id": "25dac810-3281-4da6-8bc5-9cf2a744804d",
   "metadata": {},
   "outputs": [
    {
     "data": {
      "image/png": "[encoded data removed]",
      "text/latex": [
       "$\\displaystyle \\left[\\begin{matrix}1.0 & 0 & 0\\\\0 & 1.0 & 0\\\\2.0 & 0 & -2.0\\end{matrix}\\right]$"
      ],
      "text/plain": [
       "⎡1.0   0    0  ⎤\n",
       "⎢              ⎥\n",
       "⎢ 0   1.0   0  ⎥\n",
       "⎢              ⎥\n",
       "⎣2.0   0   -2.0⎦"
      ]
     },
     "execution_count": 32,
     "metadata": {},
     "output_type": "execute_result"
    }
   ],
   "source": [
    "T3.inv()"
   ]
  },
  {
   "cell_type": "code",
   "execution_count": 33,
   "id": "f7a2d26f-6141-4ceb-bbc6-bd2dc2411727",
   "metadata": {},
   "outputs": [
    {
     "data": {
      "image/png": "[encoded data removed]",
      "text/latex": [
       "$\\displaystyle \\left[\\begin{matrix}0 & 1.0 & 0\\\\2.0 & 0 & -1.0\\\\0 & 2.0 & 0\\end{matrix}\\right]$"
      ],
      "text/plain": [
       "⎡ 0   1.0   0  ⎤\n",
       "⎢              ⎥\n",
       "⎢2.0   0   -1.0⎥\n",
       "⎢              ⎥\n",
       "⎣ 0   2.0   0  ⎦"
      ]
     },
     "execution_count": 33,
     "metadata": {},
     "output_type": "execute_result"
    }
   ],
   "source": [
    "D3_f = T3.inv() * D3_p * T3\n",
    "D3_f"
   ]
  },
  {
   "cell_type": "markdown",
   "id": "0b25b52c-7b20-4b41-8ae1-1f09d2e11b59",
   "metadata": {},
   "source": [
    "Well, that doesn't seem exactly right..."
   ]
  },
  {
   "cell_type": "markdown",
   "id": "4e7f87e6-e5b9-4fe1-b4c7-a6432abb2927",
   "metadata": {},
   "source": [
    "How about the other way round?"
   ]
  },
  {
   "cell_type": "code",
   "execution_count": 34,
   "id": "35eea5c4-6d7b-468c-8199-78bc608a5d62",
   "metadata": {},
   "outputs": [
    {
     "data": {
      "image/png": "[encoded data removed]",
      "text/latex": [
       "$\\displaystyle \\left[\\begin{matrix}0 & 1.0 & 0\\\\4.0 & 0 & -4.0\\\\0 & 1.0 & 0\\end{matrix}\\right]$"
      ],
      "text/plain": [
       "⎡ 0   1.0   0  ⎤\n",
       "⎢              ⎥\n",
       "⎢4.0   0   -4.0⎥\n",
       "⎢              ⎥\n",
       "⎣ 0   1.0   0  ⎦"
      ]
     },
     "execution_count": 34,
     "metadata": {},
     "output_type": "execute_result"
    }
   ],
   "source": [
    "T3 * D3_p * T3.inv()"
   ]
  },
  {
   "cell_type": "markdown",
   "id": "cd7be873-3af5-4c2c-8fd8-9fc6646e39e1",
   "metadata": {},
   "source": [
    "Nope."
   ]
  },
  {
   "cell_type": "markdown",
   "id": "7cfb8cb3-19b5-4a88-933c-091d1ecdb9f4",
   "metadata": {
    "jp-MarkdownHeadingCollapsed": true
   },
   "source": [
    "## Generalizing the transformation matrix"
   ]
  },
  {
   "cell_type": "code",
   "execution_count": 35,
   "id": "d66c8e15-2fd4-4fab-b4f6-1a4f6a693580",
   "metadata": {},
   "outputs": [
    {
     "data": {
      "image/png": "[encoded data removed]",
      "text/latex": [
       "$\\displaystyle \\left( p_{0}, \\  p_{1}, \\  p_{2}, \\  p_{3}, \\  p_{4}\\right)$"
      ],
      "text/plain": [
       "(p₀, p₁, p₂, p₃, p₄)"
      ]
     },
     "metadata": {},
     "output_type": "display_data"
    },
    {
     "data": {
      "image/png": "[encoded data removed]",
      "text/latex": [
       "$\\displaystyle \\left( f_{0}, \\  f_{1}, \\  f_{2}, \\  f_{3}, \\  f_{4}\\right)$"
      ],
      "text/plain": [
       "(f₀, f₁, f₂, f₃, f₄)"
      ]
     },
     "metadata": {},
     "output_type": "display_data"
    }
   ],
   "source": [
    "num_terms = 5  # num terms\n",
    "polynom_symbols = symbols(f\"p_0:{num_terms}\")\n",
    "fourier_symbols = symbols(f\"f_0:{num_terms}\")\n",
    "\n",
    "display(polynom_symbols)\n",
    "display(fourier_symbols)"
   ]
  },
  {
   "cell_type": "markdown",
   "id": "329bb3a9-93fb-4a4f-ab6a-a23cb7a5985c",
   "metadata": {},
   "source": [
    "Calculating the amount of Fourier frequencies we'll have, based on $N$"
   ]
  },
  {
   "cell_type": "code",
   "execution_count": 36,
   "id": "1e9bc380-c192-46ca-a6a8-ef6c17c45102",
   "metadata": {},
   "outputs": [],
   "source": [
    "# the first one is $cos(0)=1$\n",
    "#    thus, `N-1`\n",
    "# then, we have pairs\n",
    "# but even if we have even `N` (thus, odd `N-1`), we still need another frequency\n",
    "#    e.g. `N=4` : cos(0) , sin(1 x) , cos(1 x) , sin(2 x) \n",
    "import math\n",
    "num_fourier_frequencies = math.ceil((num_terms-1)/2)"
   ]
  },
  {
   "cell_type": "markdown",
   "id": "d228037f-5bb8-4171-bf61-3e2c49781589",
   "metadata": {},
   "source": [
    "Generating all Fourier functions:"
   ]
  },
  {
   "cell_type": "code",
   "execution_count": 37,
   "id": "a7bd2621-dea9-4e8d-8c28-e367b54fd076",
   "metadata": {},
   "outputs": [],
   "source": [
    "x = Symbol('x')"
   ]
  },
  {
   "cell_type": "code",
   "execution_count": 38,
   "id": "8d548e1c-83c1-469d-a8da-fe8043480cd7",
   "metadata": {},
   "outputs": [
    {
     "data": {
      "image/png": "[encoded data removed]",
      "text/latex": [
       "$\\displaystyle \\left[ 1, \\  \\sin{\\left(x \\right)}, \\  \\cos{\\left(x \\right)}, \\  \\sin{\\left(2 x \\right)}, \\  \\cos{\\left(2 x \\right)}\\right]$"
      ],
      "text/plain": [
       "[1, sin(x), cos(x), sin(2⋅x), cos(2⋅x)]"
      ]
     },
     "execution_count": 38,
     "metadata": {},
     "output_type": "execute_result"
    }
   ],
   "source": [
    "fourier_functions = []\n",
    "\n",
    "for i in range(num_terms):\n",
    "    frequency = (i+1) // 2\n",
    "    if i%2 == 0:\n",
    "        func = cos\n",
    "    else:\n",
    "        func = sin\n",
    "    fourier_functions.append( func(frequency * x) )\n",
    "\n",
    "fourier_functions"
   ]
  },
  {
   "cell_type": "markdown",
   "id": "0bb1bd70-2ef9-4c16-b317-c47fac570a02",
   "metadata": {},
   "source": [
    "</br>\n",
    "Extracting the fourier terms"
   ]
  },
  {
   "cell_type": "code",
   "execution_count": 39,
   "id": "25759acd-baa2-4e00-bb86-bec9653b31ae",
   "metadata": {},
   "outputs": [
    {
     "data": {
      "image/png": "[encoded data removed]",
      "text/latex": [
       "$\\displaystyle x - \\frac{x^{3}}{6} + \\frac{x^{5}}{120} + O\\left(x^{6}\\right)$"
      ],
      "text/plain": [
       "     3    5         \n",
       "    x    x      ⎛ 6⎞\n",
       "x - ── + ─── + O⎝x ⎠\n",
       "    6    120        "
      ]
     },
     "execution_count": 39,
     "metadata": {},
     "output_type": "execute_result"
    }
   ],
   "source": [
    "a = fourier_functions[1].series(x=x, x0=0, n=num_terms+1)\n",
    "a"
   ]
  },
  {
   "cell_type": "code",
   "execution_count": 40,
   "id": "6c1acd9d-220f-4530-9fbc-cf55f163abe6",
   "metadata": {},
   "outputs": [
    {
     "data": {
      "image/png": "[encoded data removed]",
      "text/latex": [
       "$\\displaystyle - \\frac{x^{3}}{6}$"
      ],
      "text/plain": [
       "  3 \n",
       "-x  \n",
       "────\n",
       " 6  "
      ]
     },
     "execution_count": 40,
     "metadata": {},
     "output_type": "execute_result"
    }
   ],
   "source": [
    "fourier_functions[1].taylor_term(3, x)"
   ]
  },
  {
   "cell_type": "markdown",
   "id": "e9fa6965-52e2-4b48-856d-0e860e466334",
   "metadata": {},
   "source": [
    "</br>\n",
    "Let's see it in action:"
   ]
  },
  {
   "cell_type": "code",
   "execution_count": 41,
   "id": "af1d43d5-fe47-4893-9a35-c05b61e9cbdf",
   "metadata": {
    "scrolled": true
   },
   "outputs": [
    {
     "name": "stdout",
     "output_type": "stream",
     "text": [
      "0 0 1\n",
      "0 1 0\n",
      "0 2 0\n",
      "0 3 0\n",
      "0 4 0\n",
      "1 0 0\n",
      "1 1 x\n",
      "1 2 0\n",
      "1 3 -x**3/6\n",
      "1 4 0\n",
      "2 0 1\n",
      "2 1 0\n",
      "2 2 -x**2/2\n",
      "2 3 0\n",
      "2 4 x**4/24\n",
      "3 0 0\n",
      "3 1 x\n",
      "3 2 0\n",
      "3 3 -x**3/6\n",
      "3 4 0\n",
      "4 0 1\n",
      "4 1 0\n",
      "4 2 -x**2/2\n",
      "4 3 0\n",
      "4 4 x**4/24\n"
     ]
    },
    {
     "data": {
      "image/png": "[encoded data removed]",
      "text/latex": [
       "$\\displaystyle \\left[\\begin{matrix}1 & 0 & 0 & 0 & 0\\\\0 & 1 & 0 & - \\frac{1}{6} & 0\\\\1 & 0 & - \\frac{1}{2} & 0 & \\frac{1}{24}\\\\0 & 1 & 0 & - \\frac{1}{6} & 0\\\\1 & 0 & - \\frac{1}{2} & 0 & \\frac{1}{24}\\end{matrix}\\right]$"
      ],
      "text/plain": [
       "⎡1  0   0     0     0  ⎤\n",
       "⎢                      ⎥\n",
       "⎢0  1   0    -1/6   0  ⎥\n",
       "⎢                      ⎥\n",
       "⎢1  0  -1/2   0    1/24⎥\n",
       "⎢                      ⎥\n",
       "⎢0  1   0    -1/6   0  ⎥\n",
       "⎢                      ⎥\n",
       "⎣1  0  -1/2   0    1/24⎦"
      ]
     },
     "execution_count": 41,
     "metadata": {},
     "output_type": "execute_result"
    }
   ],
   "source": [
    "T = zeros(num_terms,num_terms)\n",
    "for row in range(num_terms):\n",
    "    for col in range(num_terms):\n",
    "        func = fourier_functions[row]\n",
    "        term = func.taylor_term(col, x)\n",
    "        print(row, col, term)\n",
    "        T[row, col] = term/(x**col)\n",
    "T"
   ]
  },
  {
   "cell_type": "markdown",
   "id": "6122594f-a081-440d-9cb3-7f660f2f0bd6",
   "metadata": {},
   "source": [
    "Weird - the 3rd and 5th rows are identical\n",
    "</br>\n",
    "and so are the 2nd and 4th"
   ]
  },
  {
   "cell_type": "markdown",
   "id": "5a7fcdf2-5fb3-4f4d-a38f-303275f13ff4",
   "metadata": {},
   "source": [
    "Why is that?"
   ]
  },
  {
   "cell_type": "code",
   "execution_count": 42,
   "id": "d0280f35-cd52-415e-a6d3-c5f9ef05d77f",
   "metadata": {},
   "outputs": [
    {
     "data": {
      "image/png": "[encoded data removed]",
      "text/latex": [
       "$\\displaystyle \\sin{\\left(x \\right)}$"
      ],
      "text/plain": [
       "sin(x)"
      ]
     },
     "execution_count": 42,
     "metadata": {},
     "output_type": "execute_result"
    }
   ],
   "source": [
    "fourier_functions[1]"
   ]
  },
  {
   "cell_type": "code",
   "execution_count": 43,
   "id": "f60d9520-fb75-43f3-8cf3-295de6f20eba",
   "metadata": {},
   "outputs": [
    {
     "data": {
      "image/png": "[encoded data removed]",
      "text/latex": [
       "$\\displaystyle \\sin{\\left(2 x \\right)}$"
      ],
      "text/plain": [
       "sin(2⋅x)"
      ]
     },
     "execution_count": 43,
     "metadata": {},
     "output_type": "execute_result"
    }
   ],
   "source": [
    "fourier_functions[3]"
   ]
  },
  {
   "cell_type": "code",
   "execution_count": 44,
   "id": "6028f7d7-1732-48e1-b1c1-76943d49897a",
   "metadata": {},
   "outputs": [
    {
     "data": {
      "image/png": "[encoded data removed]",
      "text/latex": [
       "$\\displaystyle 2 x - \\frac{4 x^{3}}{3} + \\frac{4 x^{5}}{15} + O\\left(x^{6}\\right)$"
      ],
      "text/plain": [
       "         3      5        \n",
       "      4⋅x    4⋅x     ⎛ 6⎞\n",
       "2⋅x - ──── + ──── + O⎝x ⎠\n",
       "       3      15         "
      ]
     },
     "execution_count": 44,
     "metadata": {},
     "output_type": "execute_result"
    }
   ],
   "source": [
    "fourier_functions[3].series(x=x, x0=0, n=6)"
   ]
  },
  {
   "cell_type": "code",
   "execution_count": 45,
   "id": "f94ad3fb-4bc3-46e7-9c9d-b783d6c2fad9",
   "metadata": {},
   "outputs": [
    {
     "data": {
      "image/png": "[encoded data removed]",
      "text/latex": [
       "$\\displaystyle - \\frac{x^{3}}{6}$"
      ],
      "text/plain": [
       "  3 \n",
       "-x  \n",
       "────\n",
       " 6  "
      ]
     },
     "execution_count": 45,
     "metadata": {},
     "output_type": "execute_result"
    }
   ],
   "source": [
    "fourier_functions[3].taylor_term(3, x)"
   ]
  },
  {
   "cell_type": "code",
   "execution_count": 46,
   "id": "d49bd74d-4b5a-4579-9b94-d3ff52e0fb83",
   "metadata": {},
   "outputs": [
    {
     "data": {
      "image/png": "[encoded data removed]",
      "text/latex": [
       "$\\displaystyle - \\frac{4 x^{3}}{3}$"
      ],
      "text/plain": [
       "    3 \n",
       "-4⋅x  \n",
       "──────\n",
       "  3   "
      ]
     },
     "execution_count": 46,
     "metadata": {},
     "output_type": "execute_result"
    }
   ],
   "source": [
    "fourier_functions[3].series(x=x, x0=0, n=6).taylor_term(3,x)"
   ]
  },
  {
   "cell_type": "markdown",
   "id": "e9a75570-b90c-45c1-8942-fac3d0a3a450",
   "metadata": {},
   "source": [
    "Well, that's a lot slower, but at least it works"
   ]
  },
  {
   "cell_type": "markdown",
   "id": "93b91065-8037-418b-9352-4a2f80c8082b",
   "metadata": {},
   "source": [
    "Looking at which function is called"
   ]
  },
  {
   "cell_type": "code",
   "execution_count": 47,
   "id": "0cb55a7d-cd64-416f-af4f-4a03da18c7c1",
   "metadata": {},
   "outputs": [
    {
     "data": {
      "text/plain": [
       "<function sympy.functions.elementary.trigonometric.sin.taylor_term(n, x, *previous_terms)>"
      ]
     },
     "execution_count": 47,
     "metadata": {},
     "output_type": "execute_result"
    }
   ],
   "source": [
    "fourier_functions[3].taylor_term"
   ]
  },
  {
   "cell_type": "code",
   "execution_count": 48,
   "id": "64c935b9-0fc6-4452-a0a0-0a3d86007839",
   "metadata": {},
   "outputs": [
    {
     "data": {
      "image/png": "[encoded data removed]",
      "text/latex": [
       "$\\displaystyle - \\frac{4 x^{3}}{3}$"
      ],
      "text/plain": [
       "    3 \n",
       "-4⋅x  \n",
       "──────\n",
       "  3   "
      ]
     },
     "execution_count": 48,
     "metadata": {},
     "output_type": "execute_result"
    }
   ],
   "source": [
    "fourier_functions[3].taylor_term(3, 2*x)"
   ]
  },
  {
   "cell_type": "markdown",
   "id": "8b1c6583-98f8-4554-ad83-6aacf4196f5f",
   "metadata": {},
   "source": [
    "Awesome!\n",
    "</br>\n",
    "Let's wrap it in a function"
   ]
  },
  {
   "cell_type": "code",
   "execution_count": 49,
   "id": "9c6bf0e2-7857-4587-8f8e-f8939a62e9c0",
   "metadata": {},
   "outputs": [],
   "source": [
    "def build_T(num_terms: int):\n",
    "    polynom_symbols = symbols(f\"p_0:{num_terms}\")\n",
    "    fourier_symbols = symbols(f\"f_0:{num_terms}\")\n",
    "\n",
    "    num_fourier_frequencies = math.ceil((num_terms-1)/2)\n",
    "\n",
    "    fourier_functions = []\n",
    "    for i in range(num_terms):\n",
    "        frequency = (i+1) // 2\n",
    "        if i%2 == 0:\n",
    "            func = cos\n",
    "        else:\n",
    "            func = sin\n",
    "        fourier_functions.append( func(frequency * x) )\n",
    "\n",
    "    T = zeros(num_terms,num_terms)\n",
    "    for row in range(num_terms):\n",
    "        func = fourier_functions[row]\n",
    "        func_taylor = func.series(x=x, x0=0, n=num_terms+1)\n",
    "        for col in range(num_terms):\n",
    "            term = func_taylor.taylor_term(col, x)\n",
    "            factor_ = term/(x**col)\n",
    "            T[row, col] = factor_.removeO()\n",
    "    return T"
   ]
  },
  {
   "cell_type": "markdown",
   "id": "80690a32-54f7-4c5d-b660-bb0ff8df043b",
   "metadata": {},
   "source": [
    "Checking that it works, by comparing to the 3x3 example:"
   ]
  },
  {
   "cell_type": "code",
   "execution_count": 50,
   "id": "2baac0e8-aed2-49aa-a241-43e03b211eee",
   "metadata": {},
   "outputs": [
    {
     "data": {
      "image/png": "[encoded data removed]",
      "text/latex": [
       "$\\displaystyle \\left[\\begin{matrix}1 & 0 & 0\\\\0 & 1 & 0\\\\1 & 0 & - \\frac{1}{2}\\end{matrix}\\right]$"
      ],
      "text/plain": [
       "⎡1  0   0  ⎤\n",
       "⎢          ⎥\n",
       "⎢0  1   0  ⎥\n",
       "⎢          ⎥\n",
       "⎣1  0  -1/2⎦"
      ]
     },
     "execution_count": 50,
     "metadata": {},
     "output_type": "execute_result"
    }
   ],
   "source": [
    "build_T(3)"
   ]
  },
  {
   "cell_type": "markdown",
   "id": "52e9b72c-a7e3-4c86-afc0-0bcda6e0031f",
   "metadata": {},
   "source": [
    "And checking 5x5:"
   ]
  },
  {
   "cell_type": "code",
   "execution_count": 51,
   "id": "3a02a258-761b-4c3b-893d-f5810c5b2b6d",
   "metadata": {},
   "outputs": [
    {
     "data": {
      "image/png": "[encoded data removed]",
      "text/latex": [
       "$\\displaystyle \\left[\\begin{matrix}1 & 0 & 0 & 0 & 0\\\\0 & 1 & 0 & - \\frac{1}{6} & 0\\\\1 & 0 & - \\frac{1}{2} & 0 & \\frac{1}{24}\\\\0 & 2 & 0 & - \\frac{4}{3} & 0\\\\1 & 0 & -2 & 0 & \\frac{2}{3}\\end{matrix}\\right]$"
      ],
      "text/plain": [
       "⎡1  0   0     0     0  ⎤\n",
       "⎢                      ⎥\n",
       "⎢0  1   0    -1/6   0  ⎥\n",
       "⎢                      ⎥\n",
       "⎢1  0  -1/2   0    1/24⎥\n",
       "⎢                      ⎥\n",
       "⎢0  2   0    -4/3   0  ⎥\n",
       "⎢                      ⎥\n",
       "⎣1  0   -2    0    2/3 ⎦"
      ]
     },
     "execution_count": 51,
     "metadata": {},
     "output_type": "execute_result"
    }
   ],
   "source": [
    "build_T(5)"
   ]
  },
  {
   "cell_type": "markdown",
   "id": "6ef92c79-ac21-4501-8fe3-a7daf327311d",
   "metadata": {},
   "source": [
    "Well, We can see a faster way to generate it:\n",
    "</br>\n",
    "We only need the 1st, 2nd, and 3rd rows\n",
    "</br>\n",
    "Any row below is just a copy of the 2nd/3rd, multiplied by something like $(2^0, 2^1, 2^2, 2^3, 2^4)$ (for the `frequency=2` rows)"
   ]
  },
  {
   "cell_type": "markdown",
   "id": "8b29b888-7e9e-49b7-a0a5-908b56e00e09",
   "metadata": {
    "jp-MarkdownHeadingCollapsed": true
   },
   "source": [
    "## Next attept: 5x5 $\\sqrt{D}$\n",
    "\n",
    "Still looking for some magic way in which the Fourier basis will diagonalize the derivative matrix\n",
    "</br>\n",
    "even though the theory says that the Fourier basis diagonalizes the 2nd derivative, and not the 1st derivative"
   ]
  },
  {
   "cell_type": "code",
   "execution_count": 52,
   "id": "60269874-1d44-4358-8041-507dd5bbd104",
   "metadata": {},
   "outputs": [
    {
     "data": {
      "image/png": "[encoded data removed]",
      "text/latex": [
       "$\\displaystyle \\left[\\begin{matrix}0 & 1 & 0 & 0 & 0\\\\0 & 0 & 2 & 0 & 0\\\\0 & 0 & 0 & 3 & 0\\\\0 & 0 & 0 & 0 & 4\\\\0 & 0 & 0 & 0 & 0\\end{matrix}\\right]$"
      ],
      "text/plain": [
       "⎡0  1  0  0  0⎤\n",
       "⎢             ⎥\n",
       "⎢0  0  2  0  0⎥\n",
       "⎢             ⎥\n",
       "⎢0  0  0  3  0⎥\n",
       "⎢             ⎥\n",
       "⎢0  0  0  0  4⎥\n",
       "⎢             ⎥\n",
       "⎣0  0  0  0  0⎦"
      ]
     },
     "execution_count": 52,
     "metadata": {},
     "output_type": "execute_result"
    }
   ],
   "source": [
    "D5_p = build_D(5)\n",
    "D5_p"
   ]
  },
  {
   "cell_type": "code",
   "execution_count": 53,
   "id": "c39d26d0-b25f-4da1-b242-71dffc037e53",
   "metadata": {},
   "outputs": [
    {
     "data": {
      "image/png": "[encoded data removed]",
      "text/latex": [
       "$\\displaystyle \\left[\\begin{matrix}1 & 0 & 0 & 0 & 0\\\\0 & 1 & 0 & - \\frac{1}{6} & 0\\\\1 & 0 & - \\frac{1}{2} & 0 & \\frac{1}{24}\\\\0 & 2 & 0 & - \\frac{4}{3} & 0\\\\1 & 0 & -2 & 0 & \\frac{2}{3}\\end{matrix}\\right]$"
      ],
      "text/plain": [
       "⎡1  0   0     0     0  ⎤\n",
       "⎢                      ⎥\n",
       "⎢0  1   0    -1/6   0  ⎥\n",
       "⎢                      ⎥\n",
       "⎢1  0  -1/2   0    1/24⎥\n",
       "⎢                      ⎥\n",
       "⎢0  2   0    -4/3   0  ⎥\n",
       "⎢                      ⎥\n",
       "⎣1  0   -2    0    2/3 ⎦"
      ]
     },
     "execution_count": 53,
     "metadata": {},
     "output_type": "execute_result"
    }
   ],
   "source": [
    "T5 = build_T(5)\n",
    "T5"
   ]
  },
  {
   "cell_type": "code",
   "execution_count": 54,
   "id": "135c7401-b968-4730-ab34-06a4f6e72368",
   "metadata": {},
   "outputs": [
    {
     "data": {
      "image/png": "[encoded data removed]",
      "text/latex": [
       "$\\displaystyle \\left[\\begin{matrix}0 & 1 & 0 & - \\frac{1}{6} & 0\\\\2 & 0 & 0 & 0 & - \\frac{1}{3}\\\\0 & - \\frac{27}{2} & 0 & \\frac{41}{4} & 0\\\\0 & 0 & 6 & 0 & - \\frac{5}{2}\\\\0 & -42 & 0 & 31 & 0\\end{matrix}\\right]$"
      ],
      "text/plain": [
       "⎡0    1    0  -1/6   0  ⎤\n",
       "⎢                       ⎥\n",
       "⎢2    0    0   0    -1/3⎥\n",
       "⎢                       ⎥\n",
       "⎢0  -27/2  0  41/4   0  ⎥\n",
       "⎢                       ⎥\n",
       "⎢0    0    6   0    -5/2⎥\n",
       "⎢                       ⎥\n",
       "⎣0   -42   0   31    0  ⎦"
      ]
     },
     "execution_count": 54,
     "metadata": {},
     "output_type": "execute_result"
    }
   ],
   "source": [
    "D5_f = T5.inv() * D5_p * T5\n",
    "D5_f"
   ]
  },
  {
   "cell_type": "markdown",
   "id": "ac837347-a158-4bb6-bee6-9bd26ead2d93",
   "metadata": {},
   "source": [
    "Nope. That's not even close to diagonal.\n",
    "\n",
    "Onto 2nd derivatives"
   ]
  },
  {
   "cell_type": "markdown",
   "id": "70f6d097-35fa-4780-8a34-025c08d7beb0",
   "metadata": {
    "jp-MarkdownHeadingCollapsed": true
   },
   "source": [
    "## 3x3 2nd derivative"
   ]
  },
  {
   "cell_type": "code",
   "execution_count": 55,
   "id": "0c5be41f-ae99-47fa-9a30-51ce7310d1a1",
   "metadata": {},
   "outputs": [
    {
     "data": {
      "image/png": "[encoded data removed]",
      "text/latex": [
       "$\\displaystyle \\left[\\begin{matrix}0 & 0 & 2\\\\0 & 0 & 0\\\\0 & 0 & 0\\end{matrix}\\right]$"
      ],
      "text/plain": [
       "⎡0  0  2⎤\n",
       "⎢       ⎥\n",
       "⎢0  0  0⎥\n",
       "⎢       ⎥\n",
       "⎣0  0  0⎦"
      ]
     },
     "execution_count": 55,
     "metadata": {},
     "output_type": "execute_result"
    }
   ],
   "source": [
    "D3_p = build_D(3)\n",
    "DD3_p = D3_p @ D3_p\n",
    "DD3_p"
   ]
  },
  {
   "cell_type": "markdown",
   "id": "f82e9997-c342-41b6-a2fc-94edf31679a9",
   "metadata": {},
   "source": [
    "Additionally, we know how to generate the 2nd derivative in the Fourier basis"
   ]
  },
  {
   "cell_type": "markdown",
   "id": "9d7c455d-837b-45e1-ad7a-1fbdd8d26da6",
   "metadata": {
    "jp-MarkdownHeadingCollapsed": true
   },
   "source": [
    "### Generating 2nd derivative in Fourier basis"
   ]
  },
  {
   "cell_type": "code",
   "execution_count": 56,
   "id": "3e49ab62-13bc-48b7-9b5f-9ebe645ed64a",
   "metadata": {},
   "outputs": [],
   "source": [
    "def build_DD_f(n):\n",
    "    DD = zeros(n,n)\n",
    "    for i in range(1, n):\n",
    "        frequency = (i+1) // 2\n",
    "        DD[i,i] = - frequency**2\n",
    "    return DD"
   ]
  },
  {
   "cell_type": "code",
   "execution_count": 57,
   "id": "c5cfdc76-496c-4197-ad17-6bc83ce12859",
   "metadata": {},
   "outputs": [
    {
     "data": {
      "image/png": "[encoded data removed]",
      "text/latex": [
       "$\\displaystyle \\left[\\begin{matrix}0 & 0 & 0 & 0 & 0\\\\0 & -1 & 0 & 0 & 0\\\\0 & 0 & -1 & 0 & 0\\\\0 & 0 & 0 & -4 & 0\\\\0 & 0 & 0 & 0 & -4\\end{matrix}\\right]$"
      ],
      "text/plain": [
       "⎡0  0   0   0   0 ⎤\n",
       "⎢                 ⎥\n",
       "⎢0  -1  0   0   0 ⎥\n",
       "⎢                 ⎥\n",
       "⎢0  0   -1  0   0 ⎥\n",
       "⎢                 ⎥\n",
       "⎢0  0   0   -4  0 ⎥\n",
       "⎢                 ⎥\n",
       "⎣0  0   0   0   -4⎦"
      ]
     },
     "execution_count": 57,
     "metadata": {},
     "output_type": "execute_result"
    }
   ],
   "source": [
    "build_DD_f(5)"
   ]
  },
  {
   "cell_type": "markdown",
   "id": "691daeb2-9ad0-431b-a873-c4a7994ebc40",
   "metadata": {},
   "source": [
    "</br>\n",
    "</br>\n",
    "</br>\n",
    "Now, let's try to compare the 2nd derivative in the polynomial basis to the Fourier basis\n",
    "</br>\n",
    "Even though I have little hopes, as `DD3_p` has a single non-zero term, and `DD3_f` has 2.\n",
    "</br>\n",
    "A transformation matrix can do it, but I don't find it likely"
   ]
  },
  {
   "cell_type": "code",
   "execution_count": 58,
   "id": "6d4860e3-68a1-426a-9758-a3583128cdf6",
   "metadata": {},
   "outputs": [
    {
     "data": {
      "image/png": "[encoded data removed]",
      "text/latex": [
       "$\\displaystyle \\left[\\begin{matrix}0 & 0 & 0\\\\0 & -1 & 0\\\\0 & 0 & -1\\end{matrix}\\right]$"
      ],
      "text/plain": [
       "⎡0  0   0 ⎤\n",
       "⎢         ⎥\n",
       "⎢0  -1  0 ⎥\n",
       "⎢         ⎥\n",
       "⎣0  0   -1⎦"
      ]
     },
     "execution_count": 58,
     "metadata": {},
     "output_type": "execute_result"
    }
   ],
   "source": [
    "DD3_f = build_DD_f(3)\n",
    "DD3_f"
   ]
  },
  {
   "cell_type": "code",
   "execution_count": 59,
   "id": "652efaa3-df2c-4fb8-ae73-5c149fc210e0",
   "metadata": {},
   "outputs": [
    {
     "data": {
      "image/png": "[encoded data removed]",
      "text/latex": [
       "$\\displaystyle \\left[\\begin{matrix}2 & 0 & -1\\\\0 & 0 & 0\\\\4 & 0 & -2\\end{matrix}\\right]$"
      ],
      "text/plain": [
       "⎡2  0  -1⎤\n",
       "⎢        ⎥\n",
       "⎢0  0  0 ⎥\n",
       "⎢        ⎥\n",
       "⎣4  0  -2⎦"
      ]
     },
     "execution_count": 59,
     "metadata": {},
     "output_type": "execute_result"
    }
   ],
   "source": [
    "T3 = build_T(3)\n",
    "T3.inv() * DD3_p * T3"
   ]
  },
  {
   "cell_type": "markdown",
   "id": "f8388005-0cdf-4810-8a1f-a657a3e11cc3",
   "metadata": {},
   "source": [
    "Doesn't look promising..\n",
    "</br>\n",
    "How about 5x5?"
   ]
  },
  {
   "cell_type": "code",
   "execution_count": 60,
   "id": "a0dbdd40-e1c1-4092-92ac-c199a0ccbde0",
   "metadata": {},
   "outputs": [
    {
     "data": {
      "image/png": "[encoded data removed]",
      "text/latex": [
       "$\\displaystyle \\left[\\begin{matrix}0 & 0 & 2 & 0 & 0\\\\0 & 0 & 0 & 6 & 0\\\\0 & 0 & 0 & 0 & 12\\\\0 & 0 & 0 & 0 & 0\\\\0 & 0 & 0 & 0 & 0\\end{matrix}\\right]$"
      ],
      "text/plain": [
       "⎡0  0  2  0  0 ⎤\n",
       "⎢              ⎥\n",
       "⎢0  0  0  6  0 ⎥\n",
       "⎢              ⎥\n",
       "⎢0  0  0  0  12⎥\n",
       "⎢              ⎥\n",
       "⎢0  0  0  0  0 ⎥\n",
       "⎢              ⎥\n",
       "⎣0  0  0  0  0 ⎦"
      ]
     },
     "execution_count": 60,
     "metadata": {},
     "output_type": "execute_result"
    }
   ],
   "source": [
    "D5_p = build_D(5)\n",
    "DD5_p = D5_p @ D5_p\n",
    "DD5_p"
   ]
  },
  {
   "cell_type": "code",
   "execution_count": 61,
   "id": "3ade1b1d-faf8-4463-a917-32c4d8eef323",
   "metadata": {},
   "outputs": [
    {
     "data": {
      "image/png": "[encoded data removed]",
      "text/latex": [
       "$\\displaystyle \\left[\\begin{matrix}2 & 0 & -1 & 0 & \\frac{1}{12}\\\\0 & 16 & 0 & - \\frac{32}{3} & 0\\\\-27 & 0 & \\frac{123}{2} & 0 & - \\frac{169}{8}\\\\0 & 24 & 0 & -16 & 0\\\\-84 & 0 & 186 & 0 & - \\frac{127}{2}\\end{matrix}\\right]$"
      ],
      "text/plain": [
       "⎡ 2   0    -1      0     1/12 ⎤\n",
       "⎢                             ⎥\n",
       "⎢ 0   16    0    -32/3    0   ⎥\n",
       "⎢                             ⎥\n",
       "⎢-27  0   123/2    0    -169/8⎥\n",
       "⎢                             ⎥\n",
       "⎢ 0   24    0     -16     0   ⎥\n",
       "⎢                             ⎥\n",
       "⎣-84  0    186     0    -127/2⎦"
      ]
     },
     "execution_count": 61,
     "metadata": {},
     "output_type": "execute_result"
    }
   ],
   "source": [
    "T5 = build_T(5)\n",
    "T5.inv() * DD5_p * T5"
   ]
  },
  {
   "cell_type": "markdown",
   "id": "dd18327a-2693-4eae-939e-abb90a3f2925",
   "metadata": {},
   "source": [
    "Nope..\n",
    "</br>\n",
    "Weird\n",
    "</br>\n",
    "I guess infinite matrices are needed?"
   ]
  },
  {
   "cell_type": "markdown",
   "id": "fc2a7c6f-2c0e-4778-b72d-33bbd3951a49",
   "metadata": {
    "jp-MarkdownHeadingCollapsed": true
   },
   "source": [
    "## Going big: 11x11"
   ]
  },
  {
   "cell_type": "code",
   "execution_count": 62,
   "id": "825b10e1-587d-41bb-9c51-88db9711e5f6",
   "metadata": {},
   "outputs": [
    {
     "data": {
      "image/png": "[encoded data removed]",
      "text/latex": [
       "$\\displaystyle \\left[\\begin{array}{ccccccccccc}0 & 0 & 2 & 0 & 0 & 0 & 0 & 0 & 0 & 0 & 0\\\\0 & 0 & 0 & 6 & 0 & 0 & 0 & 0 & 0 & 0 & 0\\\\0 & 0 & 0 & 0 & 12 & 0 & 0 & 0 & 0 & 0 & 0\\\\0 & 0 & 0 & 0 & 0 & 20 & 0 & 0 & 0 & 0 & 0\\\\0 & 0 & 0 & 0 & 0 & 0 & 30 & 0 & 0 & 0 & 0\\\\0 & 0 & 0 & 0 & 0 & 0 & 0 & 42 & 0 & 0 & 0\\\\0 & 0 & 0 & 0 & 0 & 0 & 0 & 0 & 56 & 0 & 0\\\\0 & 0 & 0 & 0 & 0 & 0 & 0 & 0 & 0 & 72 & 0\\\\0 & 0 & 0 & 0 & 0 & 0 & 0 & 0 & 0 & 0 & 90\\\\0 & 0 & 0 & 0 & 0 & 0 & 0 & 0 & 0 & 0 & 0\\\\0 & 0 & 0 & 0 & 0 & 0 & 0 & 0 & 0 & 0 & 0\\end{array}\\right]$"
      ],
      "text/plain": [
       "⎡0  0  2  0  0   0   0   0   0   0   0 ⎤\n",
       "⎢                                      ⎥\n",
       "⎢0  0  0  6  0   0   0   0   0   0   0 ⎥\n",
       "⎢                                      ⎥\n",
       "⎢0  0  0  0  12  0   0   0   0   0   0 ⎥\n",
       "⎢                                      ⎥\n",
       "⎢0  0  0  0  0   20  0   0   0   0   0 ⎥\n",
       "⎢                                      ⎥\n",
       "⎢0  0  0  0  0   0   30  0   0   0   0 ⎥\n",
       "⎢                                      ⎥\n",
       "⎢0  0  0  0  0   0   0   42  0   0   0 ⎥\n",
       "⎢                                      ⎥\n",
       "⎢0  0  0  0  0   0   0   0   56  0   0 ⎥\n",
       "⎢                                      ⎥\n",
       "⎢0  0  0  0  0   0   0   0   0   72  0 ⎥\n",
       "⎢                                      ⎥\n",
       "⎢0  0  0  0  0   0   0   0   0   0   90⎥\n",
       "⎢                                      ⎥\n",
       "⎢0  0  0  0  0   0   0   0   0   0   0 ⎥\n",
       "⎢                                      ⎥\n",
       "⎣0  0  0  0  0   0   0   0   0   0   0 ⎦"
      ]
     },
     "execution_count": 62,
     "metadata": {},
     "output_type": "execute_result"
    }
   ],
   "source": [
    "D11_p = build_D(11)\n",
    "DD11_p = D11_p @ D11_p\n",
    "DD11_p"
   ]
  },
  {
   "cell_type": "code",
   "execution_count": 63,
   "id": "8e78cdb0-bf13-4ff0-9341-a62bd61e1b5b",
   "metadata": {},
   "outputs": [
    {
     "data": {
      "image/png": "[encoded data removed]",
      "text/latex": [
       "$\\displaystyle \\left[\\begin{array}{ccccccccccc}0 & 0 & 0 & 0 & 0 & 0 & 0 & 0 & 0 & 0 & 0\\\\0 & -1 & 0 & 0 & 0 & 0 & 0 & 0 & 0 & 0 & 0\\\\0 & 0 & -1 & 0 & 0 & 0 & 0 & 0 & 0 & 0 & 0\\\\0 & 0 & 0 & -4 & 0 & 0 & 0 & 0 & 0 & 0 & 0\\\\0 & 0 & 0 & 0 & -4 & 0 & 0 & 0 & 0 & 0 & 0\\\\0 & 0 & 0 & 0 & 0 & -9 & 0 & 0 & 0 & 0 & 0\\\\0 & 0 & 0 & 0 & 0 & 0 & -9 & 0 & 0 & 0 & 0\\\\0 & 0 & 0 & 0 & 0 & 0 & 0 & -16 & 0 & 0 & 0\\\\0 & 0 & 0 & 0 & 0 & 0 & 0 & 0 & -16 & 0 & 0\\\\0 & 0 & 0 & 0 & 0 & 0 & 0 & 0 & 0 & -25 & 0\\\\0 & 0 & 0 & 0 & 0 & 0 & 0 & 0 & 0 & 0 & -25\\end{array}\\right]$"
      ],
      "text/plain": [
       "⎡0  0   0   0   0   0   0    0    0    0    0 ⎤\n",
       "⎢                                             ⎥\n",
       "⎢0  -1  0   0   0   0   0    0    0    0    0 ⎥\n",
       "⎢                                             ⎥\n",
       "⎢0  0   -1  0   0   0   0    0    0    0    0 ⎥\n",
       "⎢                                             ⎥\n",
       "⎢0  0   0   -4  0   0   0    0    0    0    0 ⎥\n",
       "⎢                                             ⎥\n",
       "⎢0  0   0   0   -4  0   0    0    0    0    0 ⎥\n",
       "⎢                                             ⎥\n",
       "⎢0  0   0   0   0   -9  0    0    0    0    0 ⎥\n",
       "⎢                                             ⎥\n",
       "⎢0  0   0   0   0   0   -9   0    0    0    0 ⎥\n",
       "⎢                                             ⎥\n",
       "⎢0  0   0   0   0   0   0   -16   0    0    0 ⎥\n",
       "⎢                                             ⎥\n",
       "⎢0  0   0   0   0   0   0    0   -16   0    0 ⎥\n",
       "⎢                                             ⎥\n",
       "⎢0  0   0   0   0   0   0    0    0   -25   0 ⎥\n",
       "⎢                                             ⎥\n",
       "⎣0  0   0   0   0   0   0    0    0    0   -25⎦"
      ]
     },
     "execution_count": 63,
     "metadata": {},
     "output_type": "execute_result"
    }
   ],
   "source": [
    "build_DD_f(11)"
   ]
  },
  {
   "cell_type": "code",
   "execution_count": 64,
   "id": "a963e4c0-1ec1-47f9-97c7-e47f0a3f5fd5",
   "metadata": {},
   "outputs": [
    {
     "data": {
      "image/png": "[encoded data removed]",
      "text/latex": [
       "$\\displaystyle \\left[\\begin{array}{ccccccccccc}2 & 0 & -1 & 0 & \\frac{1}{12} & 0 & - \\frac{1}{360} & 0 & \\frac{1}{20160} & 0 & - \\frac{1}{1814400}\\\\0 & \\frac{30}{7} & 0 & \\frac{125}{21} & 0 & - \\frac{937}{84} & 0 & \\frac{34465}{3528} & 0 & - \\frac{1163257}{254016} & 0\\\\- \\frac{4097}{175} & 0 & \\frac{39041}{1050} & 0 & - \\frac{29791}{12600} & 0 & - \\frac{631153}{126000} & 0 & \\frac{74022709}{21168000} & 0 & - \\frac{2552325959}{1905120000}\\\\0 & - \\frac{5267}{105} & 0 & \\frac{1940}{21} & 0 & - \\frac{208997}{2100} & 0 & \\frac{491831}{5880} & 0 & - \\frac{247981417}{6350400} & 0\\\\- \\frac{4843}{105} & 0 & - \\frac{8013}{70} & 0 & \\frac{148159}{840} & 0 & - \\frac{2679353}{25200} & 0 & \\frac{9507371}{156800} & 0 & - \\frac{2905717693}{127008000}\\\\0 & -85 & 0 & \\frac{629}{3} & 0 & - \\frac{1606}{3} & 0 & \\frac{344261}{630} & 0 & - \\frac{2341165}{9072} & 0\\\\- \\frac{816}{5} & 0 & - \\frac{1437}{5} & 0 & \\frac{10439}{20} & 0 & - \\frac{435929}{600} & 0 & \\frac{19317539}{33600} & 0 & - \\frac{684261629}{3024000}\\\\0 & -324 & 0 & 1580 & 0 & - \\frac{16346}{5} & 0 & \\frac{58199}{21} & 0 & - \\frac{9015403}{7560} & 0\\\\-432 & 0 & -1608 & 0 & 4602 & 0 & - \\frac{92027}{15} & 0 & \\frac{3372121}{840} & 0 & - \\frac{35790829}{25200}\\\\0 & -720 & 0 & 3888 & 0 & -7200 & 0 & \\frac{197832}{35} & 0 & - \\frac{16329}{7} & 0\\\\-576 & 0 & -4752 & 0 & 14076 & 0 & - \\frac{86166}{5} & 0 & \\frac{1454073}{140} & 0 & - \\frac{14714461}{4200}\\end{array}\\right]$"
      ],
      "text/plain": [
       "⎡  2       0       -1       0     1/12       0       -1/360      0     1/20160 ↪\n",
       "⎢                                                                              ↪\n",
       "⎢                          125             -937                34465           ↪\n",
       "⎢  0      30/7      0      ───      0      ─────        0      ─────      0    ↪\n",
       "⎢                          21               84                 3528            ↪\n",
       "⎢                                                                              ↪\n",
       "⎢-4097            39041          -29791             -631153            7402270 ↪\n",
       "⎢──────    0      ─────     0    ───────     0      ────────     0     ─────── ↪\n",
       "⎢ 175             1050            12600              126000            2116800 ↪\n",
       "⎢                                                                              ↪\n",
       "⎢        -5267            1940            -208997              491831          ↪\n",
       "⎢  0     ──────     0     ────      0     ────────      0      ──────     0    ↪\n",
       "⎢         105              21               2100                5880           ↪\n",
       "⎢                                                                              ↪\n",
       "⎢-4843           -8013           148159             -2679353           9507371 ↪\n",
       "⎢──────    0     ──────     0    ──────      0      ─────────    0     ─────── ↪\n",
       "⎢ 105              70             840                 25200            156800  ↪\n",
       "⎢                                                                              ↪\n",
       "⎢                                                              344261          ↪\n",
       "⎢  0      -85       0     629/3     0     -1606/3       0      ──────     0    ↪\n",
       "⎢                                                               630            ↪\n",
       "⎢                                                                              ↪\n",
       "⎢                                 10439             -435929            1931753 ↪\n",
       "⎢-816/5    0     -1437/5    0     ─────      0      ────────     0     ─────── ↪\n",
       "⎢                                  20                 600               33600  ↪\n",
       "⎢                                                                              ↪\n",
       "⎢                                                              58199           ↪\n",
       "⎢  0      -324      0     1580      0     -16346/5      0      ─────      0    ↪\n",
       "⎢                                                               21             ↪\n",
       "⎢                                                                              ↪\n",
       "⎢                                                    -92027            3372121 ↪\n",
       "⎢ -432     0      -1608     0     4602       0       ───────     0     ─────── ↪\n",
       "⎢                                                      15                840   ↪\n",
       "⎢                                                                              ↪\n",
       "⎢                                                              197832          ↪\n",
       "⎢  0      -720      0     3888      0      -7200        0      ──────     0    ↪\n",
       "⎢                                                                35            ↪\n",
       "⎢                                                                              ↪\n",
       "⎢                                                                      1454073 ↪\n",
       "⎢ -576     0      -4752     0     14076      0      -86166/5     0     ─────── ↪\n",
       "⎣                                                                        140   ↪\n",
       "\n",
       "↪         0        -1/1814400 ⎤\n",
       "↪                             ⎥\n",
       "↪     -1163257                ⎥\n",
       "↪     ─────────        0      ⎥\n",
       "↪      254016                 ⎥\n",
       "↪                             ⎥\n",
       "↪ 9               -2552325959 ⎥\n",
       "↪ ─       0       ────────────⎥\n",
       "↪ 0                1905120000 ⎥\n",
       "↪                             ⎥\n",
       "↪    -247981417               ⎥\n",
       "↪    ───────────       0      ⎥\n",
       "↪      6350400                ⎥\n",
       "↪                             ⎥\n",
       "↪                 -2905717693 ⎥\n",
       "↪         0       ────────────⎥\n",
       "↪                  127008000  ⎥\n",
       "↪                             ⎥\n",
       "↪     -2341165                ⎥\n",
       "↪     ─────────        0      ⎥\n",
       "↪       9072                  ⎥\n",
       "↪                             ⎥\n",
       "↪ 9               -684261629  ⎥\n",
       "↪ ─       0       ─────────── ⎥\n",
       "↪                   3024000   ⎥\n",
       "↪                             ⎥\n",
       "↪     -9015403                ⎥\n",
       "↪     ─────────        0      ⎥\n",
       "↪       7560                  ⎥\n",
       "↪                             ⎥\n",
       "↪                  -35790829  ⎥\n",
       "↪         0        ────────── ⎥\n",
       "↪                    25200    ⎥\n",
       "↪                             ⎥\n",
       "↪                             ⎥\n",
       "↪     -16329/7         0      ⎥\n",
       "↪                             ⎥\n",
       "↪                             ⎥\n",
       "↪                  -14714461  ⎥\n",
       "↪         0        ────────── ⎥\n",
       "↪                     4200    ⎦"
      ]
     },
     "execution_count": 64,
     "metadata": {},
     "output_type": "execute_result"
    }
   ],
   "source": [
    "T11 = build_T(11)\n",
    "T11.inv() * DD11_p * T11"
   ]
  },
  {
   "cell_type": "markdown",
   "id": "cf366f4e-daf8-4edc-8ef7-652dde28478a",
   "metadata": {},
   "source": [
    "Nope... :("
   ]
  },
  {
   "cell_type": "markdown",
   "id": "e06e75c4-d010-4877-bc93-bcb9a39cd179",
   "metadata": {},
   "source": [
    "# Finding half-derivative"
   ]
  },
  {
   "cell_type": "markdown",
   "id": "f94d54a3-8668-4a67-9bbd-66ad58e4b43a",
   "metadata": {
    "jp-MarkdownHeadingCollapsed": true
   },
   "source": [
    "## Attempt \\#1: Brute-force 3x3\n",
    "\n",
    "Let's create a $3 \\times 3$ derivative matrix, and a $3 \\times 3$ parametrized matrix, and see if we can get the parametrized matrix squared to equal the derivative matrix"
   ]
  },
  {
   "cell_type": "code",
   "execution_count": 65,
   "id": "8ce4ad83-97b2-4eee-96d4-01b50d85eeeb",
   "metadata": {},
   "outputs": [
    {
     "data": {
      "image/png": "[encoded data removed]",
      "text/latex": [
       "$\\displaystyle \\left[\\begin{matrix}A_{0,0} & A_{0,1} & A_{0,2}\\\\A_{1,0} & A_{1,1} & A_{1,2}\\\\A_{2,0} & A_{2,1} & A_{2,2}\\end{matrix}\\right]$"
      ],
      "text/plain": [
       "⎡A_0,0  A_0,1  A_0,2⎤\n",
       "⎢                   ⎥\n",
       "⎢A_1,0  A_1,1  A_1,2⎥\n",
       "⎢                   ⎥\n",
       "⎣A_2,0  A_2,1  A_2,2⎦"
      ]
     },
     "execution_count": 65,
     "metadata": {},
     "output_type": "execute_result"
    }
   ],
   "source": [
    "n = 3\n",
    "A = Matrix([\n",
    "    [Symbol(f\"A_{row},{col}\") for col in range(n)]\n",
    "    for row in range(n)\n",
    "])\n",
    "A"
   ]
  },
  {
   "cell_type": "code",
   "execution_count": 66,
   "id": "38554031-602c-4372-bb6b-61da8939fe33",
   "metadata": {},
   "outputs": [
    {
     "data": {
      "image/png": "[encoded data removed]",
      "text/latex": [
       "$\\displaystyle \\left[\\begin{matrix}0 & 1 & 0\\\\0 & 0 & 2\\\\0 & 0 & 0\\end{matrix}\\right]$"
      ],
      "text/plain": [
       "⎡0  1  0⎤\n",
       "⎢       ⎥\n",
       "⎢0  0  2⎥\n",
       "⎢       ⎥\n",
       "⎣0  0  0⎦"
      ]
     },
     "execution_count": 66,
     "metadata": {},
     "output_type": "execute_result"
    }
   ],
   "source": [
    "D = build_D(n)\n",
    "D"
   ]
  },
  {
   "cell_type": "code",
   "execution_count": 67,
   "id": "902ad8cd-4675-4ad7-89c1-d752abcefb66",
   "metadata": {},
   "outputs": [
    {
     "data": {
      "image/png": "[encoded data removed]",
      "text/latex": [
       "$\\displaystyle \\left[\\begin{matrix}A_{0,0}^{2} + A_{0,1} A_{1,0} + A_{0,2} A_{2,0} & A_{0,0} A_{0,1} + A_{0,1} A_{1,1} + A_{0,2} A_{2,1} & A_{0,0} A_{0,2} + A_{0,1} A_{1,2} + A_{0,2} A_{2,2}\\\\A_{0,0} A_{1,0} + A_{1,0} A_{1,1} + A_{1,2} A_{2,0} & A_{0,1} A_{1,0} + A_{1,1}^{2} + A_{1,2} A_{2,1} & A_{0,2} A_{1,0} + A_{1,1} A_{1,2} + A_{1,2} A_{2,2}\\\\A_{0,0} A_{2,0} + A_{1,0} A_{2,1} + A_{2,0} A_{2,2} & A_{0,1} A_{2,0} + A_{1,1} A_{2,1} + A_{2,1} A_{2,2} & A_{0,2} A_{2,0} + A_{1,2} A_{2,1} + A_{2,2}^{2}\\end{matrix}\\right]$"
      ],
      "text/plain": [
       "⎡       2                                                                      ↪\n",
       "⎢  A_0,0  + A_0,1⋅A_1,0 + A_0,2⋅A_2,0     A_0,0⋅A_0,1 + A_0,1⋅A_1,1 + A_0,2⋅A_ ↪\n",
       "⎢                                                                              ↪\n",
       "⎢                                                              2               ↪\n",
       "⎢A_0,0⋅A_1,0 + A_1,0⋅A_1,1 + A_1,2⋅A_2,0    A_0,1⋅A_1,0 + A_1,1  + A_1,2⋅A_2,1 ↪\n",
       "⎢                                                                              ↪\n",
       "⎢                                                                              ↪\n",
       "⎣A_0,0⋅A_2,0 + A_1,0⋅A_2,1 + A_2,0⋅A_2,2  A_0,1⋅A_2,0 + A_1,1⋅A_2,1 + A_2,1⋅A_ ↪\n",
       "\n",
       "↪                                             ⎤\n",
       "↪ 2,1  A_0,0⋅A_0,2 + A_0,1⋅A_1,2 + A_0,2⋅A_2,2⎥\n",
       "↪                                             ⎥\n",
       "↪                                             ⎥\n",
       "↪      A_0,2⋅A_1,0 + A_1,1⋅A_1,2 + A_1,2⋅A_2,2⎥\n",
       "↪                                             ⎥\n",
       "↪                                         2   ⎥\n",
       "↪ 2,2    A_0,2⋅A_2,0 + A_1,2⋅A_2,1 + A_2,2    ⎦"
      ]
     },
     "execution_count": 67,
     "metadata": {},
     "output_type": "execute_result"
    }
   ],
   "source": [
    "AA = A@A\n",
    "AA"
   ]
  },
  {
   "cell_type": "markdown",
   "id": "b70cdd2c-14e4-441e-bce5-46edcdb7c054",
   "metadata": {},
   "source": [
    "step 1: the diagonal of `D` is 0\n",
    "</br>\n",
    "so let's set all the $A_{i,j}^2$ terms to 0"
   ]
  },
  {
   "cell_type": "code",
   "execution_count": 68,
   "id": "e4235992-c237-4081-aa3d-b2b38581a28a",
   "metadata": {},
   "outputs": [
    {
     "data": {
      "image/png": "[encoded data removed]",
      "text/latex": [
       "$\\displaystyle \\left[\\begin{matrix}A_{0,1} A_{1,0} + A_{0,2} A_{2,0} & A_{0,2} A_{2,1} & A_{0,1} A_{1,2}\\\\A_{1,2} A_{2,0} & A_{0,1} A_{1,0} + A_{1,2} A_{2,1} & A_{0,2} A_{1,0}\\\\A_{1,0} A_{2,1} & A_{0,1} A_{2,0} & A_{0,2} A_{2,0} + A_{1,2} A_{2,1}\\end{matrix}\\right]$"
      ],
      "text/plain": [
       "⎡A_0,1⋅A_1,0 + A_0,2⋅A_2,0         A_0,2⋅A_2,1                A_0,1⋅A_1,2      ↪\n",
       "⎢                                                                              ↪\n",
       "⎢       A_1,2⋅A_2,0         A_0,1⋅A_1,0 + A_1,2⋅A_2,1         A_0,2⋅A_1,0      ↪\n",
       "⎢                                                                              ↪\n",
       "⎣       A_1,0⋅A_2,1                A_0,1⋅A_2,0         A_0,2⋅A_2,0 + A_1,2⋅A_2 ↪\n",
       "\n",
       "↪   ⎤\n",
       "↪   ⎥\n",
       "↪   ⎥\n",
       "↪   ⎥\n",
       "↪ ,1⎦"
      ]
     },
     "execution_count": 68,
     "metadata": {},
     "output_type": "execute_result"
    }
   ],
   "source": [
    "AA_1 = AA.subs({\"A_0,0\": 0, \"A_1,1\": 0, \"A_2,2\": 0})\n",
    "AA_1"
   ]
  },
  {
   "cell_type": "markdown",
   "id": "4658ce42-4b0d-43ad-b91b-b7aa38611697",
   "metadata": {},
   "source": [
    "Step 2: let's see the terms in the diagonal to 0, while taking care not to set an off-diagonal term to 0"
   ]
  },
  {
   "cell_type": "code",
   "execution_count": 69,
   "id": "0a658820-d517-45c2-b5a8-6a83fa496a9b",
   "metadata": {},
   "outputs": [
    {
     "data": {
      "image/png": "[encoded data removed]",
      "text/latex": [
       "$\\displaystyle \\left[\\begin{matrix}0 & A_{0,2} A_{2,1} & 0\\\\0 & 0 & A_{0,2} A_{1,0}\\\\A_{1,0} A_{2,1} & 0 & 0\\end{matrix}\\right]$"
      ],
      "text/plain": [
       "⎡     0       A_0,2⋅A_2,1       0     ⎤\n",
       "⎢                                     ⎥\n",
       "⎢     0            0       A_0,2⋅A_1,0⎥\n",
       "⎢                                     ⎥\n",
       "⎣A_1,0⋅A_2,1       0            0     ⎦"
      ]
     },
     "execution_count": 69,
     "metadata": {},
     "output_type": "execute_result"
    }
   ],
   "source": [
    "AA_2 = AA_1.subs({\"A_0,1\": 0, \"A_2,0\": 0, \"A_1,2\": 0})\n",
    "AA_2"
   ]
  },
  {
   "cell_type": "markdown",
   "id": "30f3e03d-e80b-49c8-b68f-10a0112edf9b",
   "metadata": {},
   "source": [
    "Now, we're stuck.\n",
    "</br>\n",
    "We cannot set the bottom-left term to 0 without setting either term to 0.\n",
    "</br>\n",
    "</br>\n",
    "But maybe that's an artifact of us messing with finite matrices.\n",
    "</br>\n",
    "Let's look at larger matrices"
   ]
  },
  {
   "cell_type": "markdown",
   "id": "8e41dce7-b7e6-4e1f-9258-04022d35df2f",
   "metadata": {
    "jp-MarkdownHeadingCollapsed": true
   },
   "source": [
    "## Attempt \\#2: Brute-force 4x4"
   ]
  },
  {
   "cell_type": "code",
   "execution_count": 70,
   "id": "f5703a64-1024-484f-81da-15d3f20fb0ae",
   "metadata": {},
   "outputs": [
    {
     "data": {
      "image/png": "[encoded data removed]",
      "text/latex": [
       "$\\displaystyle \\left[\\begin{matrix}A_{0,0} & A_{0,1} & A_{0,2} & A_{0,3}\\\\A_{1,0} & A_{1,1} & A_{1,2} & A_{1,3}\\\\A_{2,0} & A_{2,1} & A_{2,2} & A_{2,3}\\\\A_{3,0} & A_{3,1} & A_{3,2} & A_{3,3}\\end{matrix}\\right]$"
      ],
      "text/plain": [
       "⎡A_0,0  A_0,1  A_0,2  A_0,3⎤\n",
       "⎢                          ⎥\n",
       "⎢A_1,0  A_1,1  A_1,2  A_1,3⎥\n",
       "⎢                          ⎥\n",
       "⎢A_2,0  A_2,1  A_2,2  A_2,3⎥\n",
       "⎢                          ⎥\n",
       "⎣A_3,0  A_3,1  A_3,2  A_3,3⎦"
      ]
     },
     "execution_count": 70,
     "metadata": {},
     "output_type": "execute_result"
    }
   ],
   "source": [
    "N = 4\n",
    "A = Matrix([\n",
    "    [Symbol(f\"A_{row},{col}\") for col in range(N)]\n",
    "    for row in range(N)\n",
    "])\n",
    "A"
   ]
  },
  {
   "cell_type": "code",
   "execution_count": 71,
   "id": "7958c4a9-52fd-4e6a-a28a-7105c186f0e6",
   "metadata": {},
   "outputs": [
    {
     "data": {
      "image/png": "[encoded data removed]",
      "text/latex": [
       "$\\displaystyle \\left[\\begin{matrix}0 & 1 & 0 & 0\\\\0 & 0 & 2 & 0\\\\0 & 0 & 0 & 3\\\\0 & 0 & 0 & 0\\end{matrix}\\right]$"
      ],
      "text/plain": [
       "⎡0  1  0  0⎤\n",
       "⎢          ⎥\n",
       "⎢0  0  2  0⎥\n",
       "⎢          ⎥\n",
       "⎢0  0  0  3⎥\n",
       "⎢          ⎥\n",
       "⎣0  0  0  0⎦"
      ]
     },
     "execution_count": 71,
     "metadata": {},
     "output_type": "execute_result"
    }
   ],
   "source": [
    "D = build_D(N)\n",
    "D"
   ]
  },
  {
   "cell_type": "code",
   "execution_count": 72,
   "id": "6e38d3cf-eec3-4c2e-9c80-c5a224450dfc",
   "metadata": {},
   "outputs": [
    {
     "data": {
      "image/png": "[encoded data removed]",
      "text/latex": [
       "$\\displaystyle \\left[\\begin{matrix}A_{0,0}^{2} + A_{0,1} A_{1,0} + A_{0,2} A_{2,0} + A_{0,3} A_{3,0} & A_{0,0} A_{0,1} + A_{0,1} A_{1,1} + A_{0,2} A_{2,1} + A_{0,3} A_{3,1} & A_{0,0} A_{0,2} + A_{0,1} A_{1,2} + A_{0,2} A_{2,2} + A_{0,3} A_{3,2} & A_{0,0} A_{0,3} + A_{0,1} A_{1,3} + A_{0,2} A_{2,3} + A_{0,3} A_{3,3}\\\\A_{0,0} A_{1,0} + A_{1,0} A_{1,1} + A_{1,2} A_{2,0} + A_{1,3} A_{3,0} & A_{0,1} A_{1,0} + A_{1,1}^{2} + A_{1,2} A_{2,1} + A_{1,3} A_{3,1} & A_{0,2} A_{1,0} + A_{1,1} A_{1,2} + A_{1,2} A_{2,2} + A_{1,3} A_{3,2} & A_{0,3} A_{1,0} + A_{1,1} A_{1,3} + A_{1,2} A_{2,3} + A_{1,3} A_{3,3}\\\\A_{0,0} A_{2,0} + A_{1,0} A_{2,1} + A_{2,0} A_{2,2} + A_{2,3} A_{3,0} & A_{0,1} A_{2,0} + A_{1,1} A_{2,1} + A_{2,1} A_{2,2} + A_{2,3} A_{3,1} & A_{0,2} A_{2,0} + A_{1,2} A_{2,1} + A_{2,2}^{2} + A_{2,3} A_{3,2} & A_{0,3} A_{2,0} + A_{1,3} A_{2,1} + A_{2,2} A_{2,3} + A_{2,3} A_{3,3}\\\\A_{0,0} A_{3,0} + A_{1,0} A_{3,1} + A_{2,0} A_{3,2} + A_{3,0} A_{3,3} & A_{0,1} A_{3,0} + A_{1,1} A_{3,1} + A_{2,1} A_{3,2} + A_{3,1} A_{3,3} & A_{0,2} A_{3,0} + A_{1,2} A_{3,1} + A_{2,2} A_{3,2} + A_{3,2} A_{3,3} & A_{0,3} A_{3,0} + A_{1,3} A_{3,1} + A_{2,3} A_{3,2} + A_{3,3}^{2}\\end{matrix}\\right]$"
      ],
      "text/plain": [
       "⎡       2                                                                      ↪\n",
       "⎢  A_0,0  + A_0,1⋅A_1,0 + A_0,2⋅A_2,0 + A_0,3⋅A_3,0     A_0,0⋅A_0,1 + A_0,1⋅A_ ↪\n",
       "⎢                                                                              ↪\n",
       "⎢                                                                            2 ↪\n",
       "⎢A_0,0⋅A_1,0 + A_1,0⋅A_1,1 + A_1,2⋅A_2,0 + A_1,3⋅A_3,0    A_0,1⋅A_1,0 + A_1,1  ↪\n",
       "⎢                                                                              ↪\n",
       "⎢                                                                              ↪\n",
       "⎢A_0,0⋅A_2,0 + A_1,0⋅A_2,1 + A_2,0⋅A_2,2 + A_2,3⋅A_3,0  A_0,1⋅A_2,0 + A_1,1⋅A_ ↪\n",
       "⎢                                                                              ↪\n",
       "⎢                                                                              ↪\n",
       "⎣A_0,0⋅A_3,0 + A_1,0⋅A_3,1 + A_2,0⋅A_3,2 + A_3,0⋅A_3,3  A_0,1⋅A_3,0 + A_1,1⋅A_ ↪\n",
       "\n",
       "↪                                                                              ↪\n",
       "↪ 1,1 + A_0,2⋅A_2,1 + A_0,3⋅A_3,1  A_0,0⋅A_0,2 + A_0,1⋅A_1,2 + A_0,2⋅A_2,2 + A ↪\n",
       "↪                                                                              ↪\n",
       "↪                                                                              ↪\n",
       "↪  + A_1,2⋅A_2,1 + A_1,3⋅A_3,1     A_0,2⋅A_1,0 + A_1,1⋅A_1,2 + A_1,2⋅A_2,2 + A ↪\n",
       "↪                                                                              ↪\n",
       "↪                                                                     2        ↪\n",
       "↪ 2,1 + A_2,1⋅A_2,2 + A_2,3⋅A_3,1    A_0,2⋅A_2,0 + A_1,2⋅A_2,1 + A_2,2  + A_2, ↪\n",
       "↪                                                                              ↪\n",
       "↪                                                                              ↪\n",
       "↪ 3,1 + A_2,1⋅A_3,2 + A_3,1⋅A_3,3  A_0,2⋅A_3,0 + A_1,2⋅A_3,1 + A_2,2⋅A_3,2 + A ↪\n",
       "\n",
       "↪                                                                  ⎤\n",
       "↪ _0,3⋅A_3,2  A_0,0⋅A_0,3 + A_0,1⋅A_1,3 + A_0,2⋅A_2,3 + A_0,3⋅A_3,3⎥\n",
       "↪                                                                  ⎥\n",
       "↪                                                                  ⎥\n",
       "↪ _1,3⋅A_3,2  A_0,3⋅A_1,0 + A_1,1⋅A_1,3 + A_1,2⋅A_2,3 + A_1,3⋅A_3,3⎥\n",
       "↪                                                                  ⎥\n",
       "↪                                                                  ⎥\n",
       "↪ 3⋅A_3,2     A_0,3⋅A_2,0 + A_1,3⋅A_2,1 + A_2,2⋅A_2,3 + A_2,3⋅A_3,3⎥\n",
       "↪                                                                  ⎥\n",
       "↪                                                              2   ⎥\n",
       "↪ _3,2⋅A_3,3    A_0,3⋅A_3,0 + A_1,3⋅A_3,1 + A_2,3⋅A_3,2 + A_3,3    ⎦"
      ]
     },
     "execution_count": 72,
     "metadata": {},
     "output_type": "execute_result"
    }
   ],
   "source": [
    "AA = A@A\n",
    "AA"
   ]
  },
  {
   "cell_type": "markdown",
   "id": "a7053ab8-da83-42b4-8841-29e1fb814255",
   "metadata": {},
   "source": [
    "step 1 (no change in this step): the diagonal of `D` is 0\n",
    "</br>\n",
    "so let's set all the $A_{i,j}^2$ terms to 0"
   ]
  },
  {
   "cell_type": "code",
   "execution_count": 73,
   "id": "4c8afd6b-1270-47f0-b61c-73307fa6feb4",
   "metadata": {},
   "outputs": [
    {
     "data": {
      "image/png": "[encoded data removed]",
      "text/latex": [
       "$\\displaystyle \\left[\\begin{matrix}A_{0,1} A_{1,0} + A_{0,2} A_{2,0} + A_{0,3} A_{3,0} & A_{0,2} A_{2,1} + A_{0,3} A_{3,1} & A_{0,1} A_{1,2} + A_{0,3} A_{3,2} & A_{0,1} A_{1,3} + A_{0,2} A_{2,3}\\\\A_{1,2} A_{2,0} + A_{1,3} A_{3,0} & A_{0,1} A_{1,0} + A_{1,2} A_{2,1} + A_{1,3} A_{3,1} & A_{0,2} A_{1,0} + A_{1,3} A_{3,2} & A_{0,3} A_{1,0} + A_{1,2} A_{2,3}\\\\A_{1,0} A_{2,1} + A_{2,3} A_{3,0} & A_{0,1} A_{2,0} + A_{2,3} A_{3,1} & A_{0,2} A_{2,0} + A_{1,2} A_{2,1} + A_{2,3} A_{3,2} & A_{0,3} A_{2,0} + A_{1,3} A_{2,1}\\\\A_{1,0} A_{3,1} + A_{2,0} A_{3,2} & A_{0,1} A_{3,0} + A_{2,1} A_{3,2} & A_{0,2} A_{3,0} + A_{1,2} A_{3,1} & A_{0,3} A_{3,0} + A_{1,3} A_{3,1} + A_{2,3} A_{3,2}\\end{matrix}\\right]$"
      ],
      "text/plain": [
       "⎡A_0,1⋅A_1,0 + A_0,2⋅A_2,0 + A_0,3⋅A_3,0         A_0,2⋅A_2,1 + A_0,3⋅A_3,1     ↪\n",
       "⎢                                                                              ↪\n",
       "⎢       A_1,2⋅A_2,0 + A_1,3⋅A_3,0         A_0,1⋅A_1,0 + A_1,2⋅A_2,1 + A_1,3⋅A_ ↪\n",
       "⎢                                                                              ↪\n",
       "⎢       A_1,0⋅A_2,1 + A_2,3⋅A_3,0                A_0,1⋅A_2,0 + A_2,3⋅A_3,1     ↪\n",
       "⎢                                                                              ↪\n",
       "⎣       A_1,0⋅A_3,1 + A_2,0⋅A_3,2                A_0,1⋅A_3,0 + A_2,1⋅A_3,2     ↪\n",
       "\n",
       "↪             A_0,1⋅A_1,2 + A_0,3⋅A_3,2                A_0,1⋅A_1,3 + A_0,2⋅A_2 ↪\n",
       "↪                                                                              ↪\n",
       "↪ 3,1         A_0,2⋅A_1,0 + A_1,3⋅A_3,2                A_0,3⋅A_1,0 + A_1,2⋅A_2 ↪\n",
       "↪                                                                              ↪\n",
       "↪      A_0,2⋅A_2,0 + A_1,2⋅A_2,1 + A_2,3⋅A_3,2         A_0,3⋅A_2,0 + A_1,3⋅A_2 ↪\n",
       "↪                                                                              ↪\n",
       "↪             A_0,2⋅A_3,0 + A_1,2⋅A_3,1         A_0,3⋅A_3,0 + A_1,3⋅A_3,1 + A_ ↪\n",
       "\n",
       "↪ ,3       ⎤\n",
       "↪          ⎥\n",
       "↪ ,3       ⎥\n",
       "↪          ⎥\n",
       "↪ ,1       ⎥\n",
       "↪          ⎥\n",
       "↪ 2,3⋅A_3,2⎦"
      ]
     },
     "execution_count": 73,
     "metadata": {},
     "output_type": "execute_result"
    }
   ],
   "source": [
    "AA_1 = AA.subs({\"A_0,0\": 0, \"A_1,1\": 0, \"A_2,2\": 0, \"A_3,3\": 0})\n",
    "AA_1"
   ]
  },
  {
   "cell_type": "markdown",
   "id": "c98a1f51-d2d7-4a8b-9144-2c7c210e6634",
   "metadata": {},
   "source": [
    "Step 2 (no change in this step): let's see the terms in the diagonal to 0, while taking care not to set an off-diagonal term to 0"
   ]
  },
  {
   "cell_type": "code",
   "execution_count": 74,
   "id": "ac56a7fe-bb52-4f84-8c9a-174edf8af384",
   "metadata": {},
   "outputs": [
    {
     "data": {
      "image/png": "[encoded data removed]",
      "text/latex": [
       "$\\displaystyle \\left[\\begin{matrix}A_{0,2} A_{2,0} & A_{0,2} A_{2,1} + A_{0,3} A_{3,1} & A_{0,3} A_{3,2} & 0\\\\0 & A_{1,3} A_{3,1} & A_{0,2} A_{1,0} + A_{1,3} A_{3,2} & A_{0,3} A_{1,0}\\\\A_{1,0} A_{2,1} & 0 & A_{0,2} A_{2,0} & A_{0,3} A_{2,0} + A_{1,3} A_{2,1}\\\\A_{1,0} A_{3,1} + A_{2,0} A_{3,2} & A_{2,1} A_{3,2} & 0 & A_{1,3} A_{3,1}\\end{matrix}\\right]$"
      ],
      "text/plain": [
       "⎡       A_0,2⋅A_2,0         A_0,2⋅A_2,1 + A_0,3⋅A_3,1         A_0,3⋅A_3,2      ↪\n",
       "⎢                                                                              ↪\n",
       "⎢            0                     A_1,3⋅A_3,1         A_0,2⋅A_1,0 + A_1,3⋅A_3 ↪\n",
       "⎢                                                                              ↪\n",
       "⎢       A_1,0⋅A_2,1                     0                     A_0,2⋅A_2,0      ↪\n",
       "⎢                                                                              ↪\n",
       "⎣A_1,0⋅A_3,1 + A_2,0⋅A_3,2         A_2,1⋅A_3,2                     0           ↪\n",
       "\n",
       "↪                 0            ⎤\n",
       "↪                              ⎥\n",
       "↪ ,2         A_0,3⋅A_1,0       ⎥\n",
       "↪                              ⎥\n",
       "↪     A_0,3⋅A_2,0 + A_1,3⋅A_2,1⎥\n",
       "↪                              ⎥\n",
       "↪            A_1,3⋅A_3,1       ⎦"
      ]
     },
     "execution_count": 74,
     "metadata": {},
     "output_type": "execute_result"
    }
   ],
   "source": [
    "# remove terms from the diagonal, where they don't appear in the important off-diagonal\n",
    "AA_2 = AA_1.subs({\"A_0,1\": 0, \"A_3,0\": 0, \"A_1,2\": 0, \"A_2,3\": 0})\n",
    "AA_2"
   ]
  },
  {
   "cell_type": "markdown",
   "id": "efef415b-e4f7-47a3-94af-22b8a97ca630",
   "metadata": {},
   "source": [
    "There are too many single-term multiplications\n",
    "We probably set too many terms to be 0\n",
    "</br>\n",
    "</br>\n",
    "Let's try a different method\n",
    "</br>\n",
    "New Step 2: try to set the off-diagonal values"
   ]
  },
  {
   "cell_type": "code",
   "execution_count": 75,
   "id": "5a802011-bff9-4637-a0d5-d9ffb38affab",
   "metadata": {},
   "outputs": [
    {
     "data": {
      "image/png": "[encoded data removed]",
      "text/latex": [
       "$\\displaystyle \\left[\\begin{matrix}A_{0,1} A_{1,0} + A_{0,3} A_{3,0} + 0.5 A_{2,0} & A_{0,3} A_{3,1} + 1.0 & A_{0,1} A_{1,2} + A_{0,3} A_{3,2} & A_{0,1} A_{1,3} + 0.5 A_{2,3}\\\\A_{1,2} A_{2,0} + A_{1,3} A_{3,0} & A_{0,1} A_{1,0} + 2 A_{1,2} + A_{1,3} A_{3,1} & 0.5 A_{1,0} + A_{1,3} A_{3,2} & A_{0,3} A_{1,0} + A_{1,2} A_{2,3}\\\\2 A_{1,0} + A_{2,3} A_{3,0} & A_{0,1} A_{2,0} + A_{2,3} A_{3,1} & 2 A_{1,2} + 0.5 A_{2,0} + A_{2,3} A_{3,2} & A_{0,3} A_{2,0} + 2 A_{1,3}\\\\A_{1,0} A_{3,1} + A_{2,0} A_{3,2} & A_{0,1} A_{3,0} + 2 A_{3,2} & A_{1,2} A_{3,1} + 0.5 A_{3,0} & A_{0,3} A_{3,0} + A_{1,3} A_{3,1} + A_{2,3} A_{3,2}\\end{matrix}\\right]$"
      ],
      "text/plain": [
       "⎡A_0,1⋅A_1,0 + A_0,3⋅A_3,0 + 0.5⋅A_2,0           A_0,3⋅A_3,1 + 1.0             ↪\n",
       "⎢                                                                              ↪\n",
       "⎢      A_1,2⋅A_2,0 + A_1,3⋅A_3,0        A_0,1⋅A_1,0 + 2⋅A_1,2 + A_1,3⋅A_3,1    ↪\n",
       "⎢                                                                              ↪\n",
       "⎢        2⋅A_1,0 + A_2,3⋅A_3,0               A_0,1⋅A_2,0 + A_2,3⋅A_3,1       2 ↪\n",
       "⎢                                                                              ↪\n",
       "⎣      A_1,0⋅A_3,1 + A_2,0⋅A_3,2               A_0,1⋅A_3,0 + 2⋅A_3,2           ↪\n",
       "\n",
       "↪    A_0,1⋅A_1,2 + A_0,3⋅A_3,2              A_0,1⋅A_1,3 + 0.5⋅A_2,3        ⎤\n",
       "↪                                                                          ⎥\n",
       "↪     0.5⋅A_1,0 + A_1,3⋅A_3,2              A_0,3⋅A_1,0 + A_1,2⋅A_2,3       ⎥\n",
       "↪                                                                          ⎥\n",
       "↪ ⋅A_1,2 + 0.5⋅A_2,0 + A_2,3⋅A_3,2           A_0,3⋅A_2,0 + 2⋅A_1,3         ⎥\n",
       "↪                                                                          ⎥\n",
       "↪     A_1,2⋅A_3,1 + 0.5⋅A_3,0       A_0,3⋅A_3,0 + A_1,3⋅A_3,1 + A_2,3⋅A_3,2⎦"
      ]
     },
     "execution_count": 75,
     "metadata": {},
     "output_type": "execute_result"
    }
   ],
   "source": [
    "AA_2_1 = AA_1.subs({\"A_0,2\": 1/2, \"A_2,1\": 2})\n",
    "AA_2_1"
   ]
  },
  {
   "cell_type": "code",
   "execution_count": 76,
   "id": "5a307974-b682-4fd1-844a-f8b099aaa39b",
   "metadata": {},
   "outputs": [
    {
     "data": {
      "image/png": "[encoded data removed]",
      "text/latex": [
       "$\\displaystyle \\left[\\begin{matrix}A_{0,1} A_{1,0} + A_{0,3} A_{3,0} + 0.5 A_{2,0} & A_{0,3} A_{3,1} + 1.0 & A_{0,1} A_{1,2} + A_{0,3} & A_{0,1} + 0.5 A_{2,3}\\\\A_{1,2} A_{2,0} + A_{3,0} & A_{0,1} A_{1,0} + 2 A_{1,2} + A_{3,1} & 0.5 A_{1,0} + 1 & A_{0,3} A_{1,0} + A_{1,2} A_{2,3}\\\\2 A_{1,0} + A_{2,3} A_{3,0} & A_{0,1} A_{2,0} + A_{2,3} A_{3,1} & 2 A_{1,2} + 0.5 A_{2,0} + A_{2,3} & A_{0,3} A_{2,0} + 2\\\\A_{1,0} A_{3,1} + A_{2,0} & A_{0,1} A_{3,0} + 2 & A_{1,2} A_{3,1} + 0.5 A_{3,0} & A_{0,3} A_{3,0} + A_{2,3} + A_{3,1}\\end{matrix}\\right]$"
      ],
      "text/plain": [
       "⎡A_0,1⋅A_1,0 + A_0,3⋅A_3,0 + 0.5⋅A_2,0        A_0,3⋅A_3,1 + 1.0            A_0 ↪\n",
       "⎢                                                                              ↪\n",
       "⎢         A_1,2⋅A_2,0 + A_3,0           A_0,1⋅A_1,0 + 2⋅A_1,2 + A_3,1          ↪\n",
       "⎢                                                                              ↪\n",
       "⎢        2⋅A_1,0 + A_2,3⋅A_3,0            A_0,1⋅A_2,0 + A_2,3⋅A_3,1    2⋅A_1,2 ↪\n",
       "⎢                                                                              ↪\n",
       "⎣         A_1,0⋅A_3,1 + A_2,0                  A_0,1⋅A_3,0 + 2           A_1,2 ↪\n",
       "\n",
       "↪ ,1⋅A_1,2 + A_0,3           A_0,1 + 0.5⋅A_2,3     ⎤\n",
       "↪                                                  ⎥\n",
       "↪ 0.5⋅A_1,0 + 1          A_0,3⋅A_1,0 + A_1,2⋅A_2,3 ⎥\n",
       "↪                                                  ⎥\n",
       "↪  + 0.5⋅A_2,0 + A_2,3        A_0,3⋅A_2,0 + 2      ⎥\n",
       "↪                                                  ⎥\n",
       "↪ ⋅A_3,1 + 0.5⋅A_3,0    A_0,3⋅A_3,0 + A_2,3 + A_3,1⎦"
      ]
     },
     "execution_count": 76,
     "metadata": {},
     "output_type": "execute_result"
    }
   ],
   "source": [
    "AA_2_2 = AA_2_1.subs({\"A_1,3\": 1, \"A_3,2\": 1})\n",
    "AA_2_2"
   ]
  },
  {
   "cell_type": "code",
   "execution_count": 77,
   "id": "2ddc6863-8932-450c-a182-5dbd71b10bdd",
   "metadata": {},
   "outputs": [
    {
     "data": {
      "image/png": "[encoded data removed]",
      "text/latex": [
       "$\\displaystyle \\left[\\begin{matrix}2 A_{0,1} + A_{3,0} + 0.5 & 1.0 & A_{0,1} A_{1,2} + 1 & A_{0,1} + 0.5 A_{2,3}\\\\A_{1,2} + A_{3,0} & 2 A_{0,1} + 2 A_{1,2} & 2.0 & A_{1,2} A_{2,3} + 2\\\\A_{2,3} A_{3,0} + 4 & A_{0,1} & 2 A_{1,2} + A_{2,3} + 0.5 & 3\\\\1 & A_{0,1} A_{3,0} + 2 & 0.5 A_{3,0} & A_{2,3} + A_{3,0}\\end{matrix}\\right]$"
      ],
      "text/plain": [
       "⎡2⋅A_0,1 + A_3,0 + 0.5         1.0            A_0,1⋅A_1,2 + 1     A_0,1 + 0.5⋅ ↪\n",
       "⎢                                                                              ↪\n",
       "⎢    A_1,2 + A_3,0      2⋅A_0,1 + 2⋅A_1,2           2.0            A_1,2⋅A_2,3 ↪\n",
       "⎢                                                                              ↪\n",
       "⎢   A_2,3⋅A_3,0 + 4           A_0,1        2⋅A_1,2 + A_2,3 + 0.5          3    ↪\n",
       "⎢                                                                              ↪\n",
       "⎣          1             A_0,1⋅A_3,0 + 2         0.5⋅A_3,0          A_2,3 + A_ ↪\n",
       "\n",
       "↪ A_2,3⎤\n",
       "↪      ⎥\n",
       "↪  + 2 ⎥\n",
       "↪      ⎥\n",
       "↪      ⎥\n",
       "↪      ⎥\n",
       "↪ 3,0  ⎦"
      ]
     },
     "execution_count": 77,
     "metadata": {},
     "output_type": "execute_result"
    }
   ],
   "source": [
    "AA_2_3 = AA_2_2.subs({\"A_0,3\": 1, \"A_3,1\": 0, \"A_1,0\": 2, \"A_2,0\": 1})\n",
    "AA_2_3"
   ]
  },
  {
   "cell_type": "markdown",
   "id": "9d37f3a5-c124-49d9-b5f7-ecbcf22eea15",
   "metadata": {},
   "source": [
    "Step 3: Removing the other terms"
   ]
  },
  {
   "cell_type": "code",
   "execution_count": 78,
   "id": "6f46754a-17e1-46d3-8741-0ac30ef888d1",
   "metadata": {},
   "outputs": [
    {
     "data": {
      "image/png": "[encoded data removed]",
      "text/latex": [
       "$\\displaystyle \\left[\\begin{matrix}0.5 & 1.0 & 1 & 0\\\\0 & 0 & 2.0 & 2\\\\4 & 0 & 0.5 & 3\\\\1 & 2 & 0 & 0\\end{matrix}\\right]$"
      ],
      "text/plain": [
       "⎡0.5  1.0   1   0⎤\n",
       "⎢                ⎥\n",
       "⎢ 0    0   2.0  2⎥\n",
       "⎢                ⎥\n",
       "⎢ 4    0   0.5  3⎥\n",
       "⎢                ⎥\n",
       "⎣ 1    2    0   0⎦"
      ]
     },
     "execution_count": 78,
     "metadata": {},
     "output_type": "execute_result"
    }
   ],
   "source": [
    "AA_3 = AA_2_3.subs({\"A_0,1\": 0, \"A_3,0\": 0, \"A_1,2\": 0, \"A_2,3\": 0})\n",
    "AA_3"
   ]
  },
  {
   "cell_type": "markdown",
   "id": "9bd2d7cb-7596-4ff6-817a-5a52b3dc9d80",
   "metadata": {},
   "source": [
    "That didn't work that well...\n",
    "</br>\n",
    "Maybe we could dynamically solve it?"
   ]
  },
  {
   "cell_type": "code",
   "execution_count": 79,
   "id": "8c7cd788-201c-43df-a8f8-5e466ccc94a6",
   "metadata": {},
   "outputs": [
    {
     "data": {
      "image/png": "[encoded data removed]",
      "text/latex": [
       "$\\displaystyle \\left[\\begin{matrix}0 & 1.0 & 0 & 0\\\\0 & 0 & 2.0 & 0\\\\0 & 0 & 0 & 3\\\\1 & 0 & 0 & 0\\end{matrix}\\right]$"
      ],
      "text/plain": [
       "⎡0  1.0   0   0⎤\n",
       "⎢              ⎥\n",
       "⎢0   0   2.0  0⎥\n",
       "⎢              ⎥\n",
       "⎢0   0    0   3⎥\n",
       "⎢              ⎥\n",
       "⎣1   0    0   0⎦"
      ]
     },
     "execution_count": 79,
     "metadata": {},
     "output_type": "execute_result"
    }
   ],
   "source": [
    "expected_AA_3 = zeros(4,4)\n",
    "expected_AA_3[0,1] = AA_2_3[0,1]\n",
    "expected_AA_3[1,2] = AA_2_3[1,2]\n",
    "expected_AA_3[2,3] = AA_2_3[2,3]\n",
    "expected_AA_3[3,0] = AA_2_3[3,0]\n",
    "expected_AA_3"
   ]
  },
  {
   "cell_type": "code",
   "execution_count": 80,
   "id": "ad0acc01-7e77-4854-bf79-2a093791b707",
   "metadata": {},
   "outputs": [
    {
     "data": {
      "image/png": "[encoded data removed]",
      "text/latex": [
       "$\\displaystyle \\left[ \\right]$"
      ],
      "text/plain": [
       "[]"
      ]
     },
     "execution_count": 80,
     "metadata": {},
     "output_type": "execute_result"
    }
   ],
   "source": [
    "sol = solve(AA_2_3 - expected_AA_3)\n",
    "sol"
   ]
  },
  {
   "cell_type": "markdown",
   "id": "900a8a11-66e5-4822-a62a-1884584bfdf7",
   "metadata": {},
   "source": [
    "Well, that didn't work well...\n",
    "</br>\n",
    "</br>\n",
    "It can be seen since, for example,\n",
    "- the `[3,2]` term ($0.5 A_{3,0}$) requires $A_{3,0} = 0$\n",
    "- the `[2,1]` term ($A_{0,1}$) requires $A_{0,1} = 0$\n",
    "- the `[0,0]` term ($2 A_{0,1} + A_{3,0} + 0.5$) will be 0.5, that is, non-zero, if we satisfy both requirements"
   ]
  },
  {
   "cell_type": "markdown",
   "id": "e7e5a5b0-781b-4c0e-ad74-fc4ce00ffa88",
   "metadata": {
    "jp-MarkdownHeadingCollapsed": true
   },
   "source": [
    "## Attempt: dynamically finding 3x3"
   ]
  },
  {
   "cell_type": "markdown",
   "id": "dfe0c38d-698e-43ac-905d-237d84a90ff2",
   "metadata": {},
   "source": [
    "### For the 2nd derivative"
   ]
  },
  {
   "cell_type": "markdown",
   "id": "18e6e32a-baad-4196-acfb-c05b8118a513",
   "metadata": {},
   "source": [
    "At this point, I wish to have some sanity check - to see that I can find the square root of a matrix in `sympy`"
   ]
  },
  {
   "cell_type": "markdown",
   "id": "0f8263c9-43ad-4202-bf20-aa73c9c5e7fd",
   "metadata": {},
   "source": [
    "Thus, let's define the task for this sub-sub-section:\n",
    "</br>\n",
    "Find $M$ such that $M^2$ is the 2nd derivative matrix"
   ]
  },
  {
   "cell_type": "code",
   "execution_count": 81,
   "id": "d3b107fa-febf-44ee-9482-ffdb44e70235",
   "metadata": {},
   "outputs": [
    {
     "data": {
      "image/png": "[encoded data removed]",
      "text/latex": [
       "$\\displaystyle \\left[\\begin{matrix}M_{0,0} & M_{0,1} & M_{0,2}\\\\M_{1,0} & M_{1,1} & M_{1,2}\\\\M_{2,0} & M_{2,1} & M_{2,2}\\end{matrix}\\right]$"
      ],
      "text/plain": [
       "⎡M_0,0  M_0,1  M_0,2⎤\n",
       "⎢                   ⎥\n",
       "⎢M_1,0  M_1,1  M_1,2⎥\n",
       "⎢                   ⎥\n",
       "⎣M_2,0  M_2,1  M_2,2⎦"
      ]
     },
     "execution_count": 81,
     "metadata": {},
     "output_type": "execute_result"
    }
   ],
   "source": [
    "n = 3\n",
    "M = Matrix([\n",
    "    [Symbol(f\"M_{row},{col}\") for col in range(n)]\n",
    "    for row in range(n)\n",
    "])\n",
    "M"
   ]
  },
  {
   "cell_type": "code",
   "execution_count": 82,
   "id": "f3f3e29a-0ec2-4ec8-ad9d-3c2198382204",
   "metadata": {},
   "outputs": [
    {
     "data": {
      "image/png": "[encoded data removed]",
      "text/latex": [
       "$\\displaystyle \\left[\\begin{matrix}0 & 0 & 2\\\\0 & 0 & 0\\\\0 & 0 & 0\\end{matrix}\\right]$"
      ],
      "text/plain": [
       "⎡0  0  2⎤\n",
       "⎢       ⎥\n",
       "⎢0  0  0⎥\n",
       "⎢       ⎥\n",
       "⎣0  0  0⎦"
      ]
     },
     "execution_count": 82,
     "metadata": {},
     "output_type": "execute_result"
    }
   ],
   "source": [
    "D = build_D(n)\n",
    "expected = D@D\n",
    "expected"
   ]
  },
  {
   "cell_type": "code",
   "execution_count": 83,
   "id": "7d4ffb12-78fb-41ff-83a3-b30c8f7b4c49",
   "metadata": {},
   "outputs": [
    {
     "data": {
      "image/png": "[encoded data removed]",
      "text/latex": [
       "$\\displaystyle \\left[\\begin{matrix}M_{0,0}^{2} + M_{0,1} M_{1,0} + M_{0,2} M_{2,0} & M_{0,0} M_{0,1} + M_{0,1} M_{1,1} + M_{0,2} M_{2,1} & M_{0,0} M_{0,2} + M_{0,1} M_{1,2} + M_{0,2} M_{2,2}\\\\M_{0,0} M_{1,0} + M_{1,0} M_{1,1} + M_{1,2} M_{2,0} & M_{0,1} M_{1,0} + M_{1,1}^{2} + M_{1,2} M_{2,1} & M_{0,2} M_{1,0} + M_{1,1} M_{1,2} + M_{1,2} M_{2,2}\\\\M_{0,0} M_{2,0} + M_{1,0} M_{2,1} + M_{2,0} M_{2,2} & M_{0,1} M_{2,0} + M_{1,1} M_{2,1} + M_{2,1} M_{2,2} & M_{0,2} M_{2,0} + M_{1,2} M_{2,1} + M_{2,2}^{2}\\end{matrix}\\right]$"
      ],
      "text/plain": [
       "⎡       2                                                                      ↪\n",
       "⎢  M_0,0  + M_0,1⋅M_1,0 + M_0,2⋅M_2,0     M_0,0⋅M_0,1 + M_0,1⋅M_1,1 + M_0,2⋅M_ ↪\n",
       "⎢                                                                              ↪\n",
       "⎢                                                              2               ↪\n",
       "⎢M_0,0⋅M_1,0 + M_1,0⋅M_1,1 + M_1,2⋅M_2,0    M_0,1⋅M_1,0 + M_1,1  + M_1,2⋅M_2,1 ↪\n",
       "⎢                                                                              ↪\n",
       "⎢                                                                              ↪\n",
       "⎣M_0,0⋅M_2,0 + M_1,0⋅M_2,1 + M_2,0⋅M_2,2  M_0,1⋅M_2,0 + M_1,1⋅M_2,1 + M_2,1⋅M_ ↪\n",
       "\n",
       "↪                                             ⎤\n",
       "↪ 2,1  M_0,0⋅M_0,2 + M_0,1⋅M_1,2 + M_0,2⋅M_2,2⎥\n",
       "↪                                             ⎥\n",
       "↪                                             ⎥\n",
       "↪      M_0,2⋅M_1,0 + M_1,1⋅M_1,2 + M_1,2⋅M_2,2⎥\n",
       "↪                                             ⎥\n",
       "↪                                         2   ⎥\n",
       "↪ 2,2    M_0,2⋅M_2,0 + M_1,2⋅M_2,1 + M_2,2    ⎦"
      ]
     },
     "execution_count": 83,
     "metadata": {},
     "output_type": "execute_result"
    }
   ],
   "source": [
    "M@M"
   ]
  },
  {
   "cell_type": "code",
   "execution_count": 84,
   "id": "526ef68d-2fdb-4053-97f9-aa10934117e8",
   "metadata": {},
   "outputs": [
    {
     "name": "stdout",
     "output_type": "stream",
     "text": [
      "It took 130.5742061138153 seconds\n"
     ]
    },
    {
     "data": {
      "image/png": "[encoded data removed]",
      "text/latex": [
       "$\\displaystyle \\left[ \\right]$"
      ],
      "text/plain": [
       "[]"
      ]
     },
     "execution_count": 84,
     "metadata": {},
     "output_type": "execute_result"
    }
   ],
   "source": [
    "from time import time\n",
    "start = time()\n",
    "\n",
    "solution = solve(M@M - expected)\n",
    "\n",
    "end = time()\n",
    "print(f\"It took {end-start} seconds\")\n",
    "solution"
   ]
  },
  {
   "cell_type": "markdown",
   "id": "94bcdbde-287a-42aa-8ff3-a95b66c71eb4",
   "metadata": {},
   "source": [
    "Well, bummer.\n",
    "</br>\n",
    "It couldn't solve it..\n",
    "</br>\n",
    "</br>\n",
    "However, we could help `sympy` a little bit:"
   ]
  },
  {
   "cell_type": "code",
   "execution_count": 85,
   "id": "9231ac99-ee5a-492e-b69c-84ec574a1ab2",
   "metadata": {},
   "outputs": [
    {
     "data": {
      "image/png": "[encoded data removed]",
      "text/latex": [
       "$\\displaystyle \\left[\\begin{matrix}0 & M_{0,1} & M_{0,2}\\\\M_{1,0} & 0 & M_{1,2}\\\\M_{2,0} & M_{2,1} & 0\\end{matrix}\\right]$"
      ],
      "text/plain": [
       "⎡  0    M_0,1  M_0,2⎤\n",
       "⎢                   ⎥\n",
       "⎢M_1,0    0    M_1,2⎥\n",
       "⎢                   ⎥\n",
       "⎣M_2,0  M_2,1    0  ⎦"
      ]
     },
     "execution_count": 85,
     "metadata": {},
     "output_type": "execute_result"
    }
   ],
   "source": [
    "MM = M.subs({\"M_0,0\": 0, \"M_1,1\": 0, \"M_2,2\": 0})\n",
    "MM"
   ]
  },
  {
   "cell_type": "code",
   "execution_count": 86,
   "id": "1bc4260b-5d6b-43c1-bd6e-21f4ea09535f",
   "metadata": {},
   "outputs": [
    {
     "name": "stdout",
     "output_type": "stream",
     "text": [
      "It took 0.06703948974609375 seconds\n"
     ]
    },
    {
     "data": {
      "image/png": "[encoded data removed]",
      "text/latex": [
       "$\\displaystyle \\left[ \\left\\{ M_{0,1} : \\frac{2}{M_{1,2}}, \\  M_{1,0} : 0, \\  M_{2,0} : 0, \\  M_{2,1} : 0\\right\\}, \\  \\left\\{ M_{0,1} : \\frac{2}{M_{1,2}}, \\  M_{0,2} : 0, \\  M_{1,0} : 0, \\  M_{2,0} : 0, \\  M_{2,1} : 0\\right\\}\\right]$"
      ],
      "text/plain": [
       "⎡⎧         2                                ⎫  ⎧         2                     ↪\n",
       "⎢⎨M_0,1: ─────, M_1,0: 0, M_2,0: 0, M_2,1: 0⎬, ⎨M_0,1: ─────, M_0,2: 0, M_1,0: ↪\n",
       "⎣⎩       M_1,2                              ⎭  ⎩       M_1,2                   ↪\n",
       "\n",
       "↪                       ⎫⎤\n",
       "↪  0, M_2,0: 0, M_2,1: 0⎬⎥\n",
       "↪                       ⎭⎦"
      ]
     },
     "execution_count": 86,
     "metadata": {},
     "output_type": "execute_result"
    }
   ],
   "source": [
    "from time import time\n",
    "start = time()\n",
    "\n",
    "solution = solve(MM@MM - expected)\n",
    "\n",
    "end = time()\n",
    "print(f\"It took {end-start} seconds\")\n",
    "solution"
   ]
  },
  {
   "cell_type": "markdown",
   "id": "09c7b72f-a840-4a40-85d9-0bc9adeb57ef",
   "metadata": {},
   "source": [
    "Awesome!\n",
    "</br>\n",
    "That's the solution!"
   ]
  },
  {
   "cell_type": "code",
   "execution_count": 87,
   "id": "2c71b81d-3b4a-4cd8-9f05-9edd48eba6fd",
   "metadata": {},
   "outputs": [
    {
     "data": {
      "image/png": "[encoded data removed]",
      "text/latex": [
       "$\\displaystyle \\left[\\begin{matrix}0 & \\frac{2}{M_{1,2}} & 0\\\\0 & 0 & M_{1,2}\\\\0 & 0 & 0\\end{matrix}\\right]$"
      ],
      "text/plain": [
       "⎡     2         ⎤\n",
       "⎢0  ─────    0  ⎥\n",
       "⎢   M_1,2       ⎥\n",
       "⎢               ⎥\n",
       "⎢0    0    M_1,2⎥\n",
       "⎢               ⎥\n",
       "⎣0    0      0  ⎦"
      ]
     },
     "execution_count": 87,
     "metadata": {},
     "output_type": "execute_result"
    }
   ],
   "source": [
    "MM.subs(solution[1])"
   ]
  },
  {
   "cell_type": "code",
   "execution_count": 88,
   "id": "fa4c6bdb-47e2-4150-815b-49cdfb998fea",
   "metadata": {},
   "outputs": [
    {
     "data": {
      "image/png": "[encoded data removed]",
      "text/latex": [
       "$\\displaystyle \\left[\\begin{matrix}0 & 1 & 0\\\\0 & 0 & 2\\\\0 & 0 & 0\\end{matrix}\\right]$"
      ],
      "text/plain": [
       "⎡0  1  0⎤\n",
       "⎢       ⎥\n",
       "⎢0  0  2⎥\n",
       "⎢       ⎥\n",
       "⎣0  0  0⎦"
      ]
     },
     "execution_count": 88,
     "metadata": {},
     "output_type": "execute_result"
    }
   ],
   "source": [
    "MM.subs(solution[1]).subs(\"M_1,2\", 2)"
   ]
  },
  {
   "cell_type": "markdown",
   "id": "8c441efe-1927-44c2-8994-23e9a0f16c1d",
   "metadata": {},
   "source": [
    "Nice!"
   ]
  },
  {
   "cell_type": "markdown",
   "id": "eb4d1c35-9e8a-47f8-aa1f-a2f08ae349ff",
   "metadata": {
    "jp-MarkdownHeadingCollapsed": true
   },
   "source": [
    "### For the 1st derivative"
   ]
  },
  {
   "cell_type": "markdown",
   "id": "25be0758-8a5e-44cc-9bed-d1118e9f4000",
   "metadata": {},
   "source": [
    "Starting again, this time, `expected = 1st derivative`"
   ]
  },
  {
   "cell_type": "code",
   "execution_count": 89,
   "id": "672ba99a-9bfa-4056-b32e-706b3b5bd3ff",
   "metadata": {},
   "outputs": [
    {
     "data": {
      "image/png": "[encoded data removed]",
      "text/latex": [
       "$\\displaystyle \\left[\\begin{matrix}M_{0,0} & M_{0,1} & M_{0,2}\\\\M_{1,0} & M_{1,1} & M_{1,2}\\\\M_{2,0} & M_{2,1} & M_{2,2}\\end{matrix}\\right]$"
      ],
      "text/plain": [
       "⎡M_0,0  M_0,1  M_0,2⎤\n",
       "⎢                   ⎥\n",
       "⎢M_1,0  M_1,1  M_1,2⎥\n",
       "⎢                   ⎥\n",
       "⎣M_2,0  M_2,1  M_2,2⎦"
      ]
     },
     "execution_count": 89,
     "metadata": {},
     "output_type": "execute_result"
    }
   ],
   "source": [
    "n = 3\n",
    "M = Matrix([\n",
    "    [Symbol(f\"M_{row},{col}\") for col in range(n)]\n",
    "    for row in range(n)\n",
    "])\n",
    "M"
   ]
  },
  {
   "cell_type": "code",
   "execution_count": 90,
   "id": "aec68d96-0791-4743-82ae-4fb3c5f312cb",
   "metadata": {},
   "outputs": [
    {
     "data": {
      "image/png": "[encoded data removed]",
      "text/latex": [
       "$\\displaystyle \\left[\\begin{matrix}0 & 1 & 0\\\\0 & 0 & 2\\\\0 & 0 & 0\\end{matrix}\\right]$"
      ],
      "text/plain": [
       "⎡0  1  0⎤\n",
       "⎢       ⎥\n",
       "⎢0  0  2⎥\n",
       "⎢       ⎥\n",
       "⎣0  0  0⎦"
      ]
     },
     "execution_count": 90,
     "metadata": {},
     "output_type": "execute_result"
    }
   ],
   "source": [
    "D = build_D(n)\n",
    "expected = D\n",
    "expected"
   ]
  },
  {
   "cell_type": "code",
   "execution_count": 91,
   "id": "0ed62c6d-dbc0-4bd0-8d12-051f814c0eab",
   "metadata": {},
   "outputs": [
    {
     "data": {
      "image/png": "[encoded data removed]",
      "text/latex": [
       "$\\displaystyle \\left[\\begin{matrix}M_{0,0}^{2} + M_{0,1} M_{1,0} + M_{0,2} M_{2,0} & M_{0,0} M_{0,1} + M_{0,1} M_{1,1} + M_{0,2} M_{2,1} & M_{0,0} M_{0,2} + M_{0,1} M_{1,2} + M_{0,2} M_{2,2}\\\\M_{0,0} M_{1,0} + M_{1,0} M_{1,1} + M_{1,2} M_{2,0} & M_{0,1} M_{1,0} + M_{1,1}^{2} + M_{1,2} M_{2,1} & M_{0,2} M_{1,0} + M_{1,1} M_{1,2} + M_{1,2} M_{2,2}\\\\M_{0,0} M_{2,0} + M_{1,0} M_{2,1} + M_{2,0} M_{2,2} & M_{0,1} M_{2,0} + M_{1,1} M_{2,1} + M_{2,1} M_{2,2} & M_{0,2} M_{2,0} + M_{1,2} M_{2,1} + M_{2,2}^{2}\\end{matrix}\\right]$"
      ],
      "text/plain": [
       "⎡       2                                                                      ↪\n",
       "⎢  M_0,0  + M_0,1⋅M_1,0 + M_0,2⋅M_2,0     M_0,0⋅M_0,1 + M_0,1⋅M_1,1 + M_0,2⋅M_ ↪\n",
       "⎢                                                                              ↪\n",
       "⎢                                                              2               ↪\n",
       "⎢M_0,0⋅M_1,0 + M_1,0⋅M_1,1 + M_1,2⋅M_2,0    M_0,1⋅M_1,0 + M_1,1  + M_1,2⋅M_2,1 ↪\n",
       "⎢                                                                              ↪\n",
       "⎢                                                                              ↪\n",
       "⎣M_0,0⋅M_2,0 + M_1,0⋅M_2,1 + M_2,0⋅M_2,2  M_0,1⋅M_2,0 + M_1,1⋅M_2,1 + M_2,1⋅M_ ↪\n",
       "\n",
       "↪                                             ⎤\n",
       "↪ 2,1  M_0,0⋅M_0,2 + M_0,1⋅M_1,2 + M_0,2⋅M_2,2⎥\n",
       "↪                                             ⎥\n",
       "↪                                             ⎥\n",
       "↪      M_0,2⋅M_1,0 + M_1,1⋅M_1,2 + M_1,2⋅M_2,2⎥\n",
       "↪                                             ⎥\n",
       "↪                                         2   ⎥\n",
       "↪ 2,2    M_0,2⋅M_2,0 + M_1,2⋅M_2,1 + M_2,2    ⎦"
      ]
     },
     "execution_count": 91,
     "metadata": {},
     "output_type": "execute_result"
    }
   ],
   "source": [
    "M@M"
   ]
  },
  {
   "cell_type": "markdown",
   "id": "3ea9f2ff-6e26-460b-9237-3fae1ccaeb48",
   "metadata": {},
   "source": [
    "We can already see that the same \"help\" will be useful here"
   ]
  },
  {
   "cell_type": "code",
   "execution_count": 92,
   "id": "4f9af93d-1fc0-4721-9ed5-b37c65b7ef19",
   "metadata": {},
   "outputs": [
    {
     "data": {
      "image/png": "[encoded data removed]",
      "text/latex": [
       "$\\displaystyle \\left[\\begin{matrix}0 & M_{0,1} & M_{0,2}\\\\M_{1,0} & 0 & M_{1,2}\\\\M_{2,0} & M_{2,1} & 0\\end{matrix}\\right]$"
      ],
      "text/plain": [
       "⎡  0    M_0,1  M_0,2⎤\n",
       "⎢                   ⎥\n",
       "⎢M_1,0    0    M_1,2⎥\n",
       "⎢                   ⎥\n",
       "⎣M_2,0  M_2,1    0  ⎦"
      ]
     },
     "execution_count": 92,
     "metadata": {},
     "output_type": "execute_result"
    }
   ],
   "source": [
    "MM = M.subs({\"M_0,0\": 0, \"M_1,1\": 0, \"M_2,2\": 0})\n",
    "MM"
   ]
  },
  {
   "cell_type": "code",
   "execution_count": 93,
   "id": "004808c7-7d29-452e-a97c-ff2aaa394d76",
   "metadata": {},
   "outputs": [
    {
     "data": {
      "image/png": "[encoded data removed]",
      "text/latex": [
       "$\\displaystyle \\left[\\begin{matrix}M_{0,1} M_{1,0} + M_{0,2} M_{2,0} & M_{0,2} M_{2,1} & M_{0,1} M_{1,2}\\\\M_{1,2} M_{2,0} & M_{0,1} M_{1,0} + M_{1,2} M_{2,1} & M_{0,2} M_{1,0}\\\\M_{1,0} M_{2,1} & M_{0,1} M_{2,0} & M_{0,2} M_{2,0} + M_{1,2} M_{2,1}\\end{matrix}\\right]$"
      ],
      "text/plain": [
       "⎡M_0,1⋅M_1,0 + M_0,2⋅M_2,0         M_0,2⋅M_2,1                M_0,1⋅M_1,2      ↪\n",
       "⎢                                                                              ↪\n",
       "⎢       M_1,2⋅M_2,0         M_0,1⋅M_1,0 + M_1,2⋅M_2,1         M_0,2⋅M_1,0      ↪\n",
       "⎢                                                                              ↪\n",
       "⎣       M_1,0⋅M_2,1                M_0,1⋅M_2,0         M_0,2⋅M_2,0 + M_1,2⋅M_2 ↪\n",
       "\n",
       "↪   ⎤\n",
       "↪   ⎥\n",
       "↪   ⎥\n",
       "↪   ⎥\n",
       "↪ ,1⎦"
      ]
     },
     "execution_count": 93,
     "metadata": {},
     "output_type": "execute_result"
    }
   ],
   "source": [
    "MM@MM"
   ]
  },
  {
   "cell_type": "code",
   "execution_count": 94,
   "id": "6b213129-c853-433a-91b8-4f0127456fa9",
   "metadata": {},
   "outputs": [
    {
     "name": "stdout",
     "output_type": "stream",
     "text": [
      "It took 0.021465063095092773 seconds\n"
     ]
    },
    {
     "data": {
      "image/png": "[encoded data removed]",
      "text/latex": [
       "$\\displaystyle \\left[ \\right]$"
      ],
      "text/plain": [
       "[]"
      ]
     },
     "execution_count": 94,
     "metadata": {},
     "output_type": "execute_result"
    }
   ],
   "source": [
    "from time import time\n",
    "start = time()\n",
    "\n",
    "solution = solve(MM@MM - expected)\n",
    "\n",
    "end = time()\n",
    "print(f\"It took {end-start} seconds\")\n",
    "solution"
   ]
  },
  {
   "cell_type": "markdown",
   "id": "e59648d7-a5cf-4254-a858-8b004e395f50",
   "metadata": {
    "jp-MarkdownHeadingCollapsed": true
   },
   "source": [
    "Bummer..."
   ]
  },
  {
   "cell_type": "markdown",
   "id": "8b58f394-b841-40a2-b2ea-268c52bba4a3",
   "metadata": {
    "jp-MarkdownHeadingCollapsed": true
   },
   "source": [
    "## Hypothetical Attempt"
   ]
  },
  {
   "cell_type": "markdown",
   "id": "dbbb9cd2-d890-400f-bf12-0349802fe6c9",
   "metadata": {},
   "source": [
    "The last attempt failed just like the manual one\n",
    "\n",
    "We require\n",
    "\n",
    "- $M_{0,2} M_{2,1} = 1$\n",
    "- $M_{0,2} M_{1,0} = 2$\n",
    "- $M_{1,0} M_{2,1} = 0$\n",
    "\n",
    "Which looks impossible...\n",
    "</br>\n",
    "As long as we don't mess with infinities\n",
    "\n",
    "If we were to do something like:\n",
    "\n",
    "- $M_{1,0} = \\epsilon$\n",
    "- $M_{2,1} = \\frac \\epsilon 2$\n",
    "- $M_{0,2} = \\frac 1 \\epsilon$\n",
    "\n",
    "And take $\\lim_{\\epsilon \\rightarrow 0}$\n",
    "</br>\n",
    "Then we'd get the result we want!"
   ]
  },
  {
   "cell_type": "markdown",
   "id": "fd7b8678-f0e1-4be7-aa81-006bd57f4132",
   "metadata": {},
   "source": [
    "However, I won't go down that path\n",
    "</br>\n",
    "At least not numerically"
   ]
  },
  {
   "cell_type": "markdown",
   "id": "ce10c658-4082-4491-8a17-996f7cbe646b",
   "metadata": {
    "jp-MarkdownHeadingCollapsed": true
   },
   "source": [
    "## Attempt \\#3: Dynamically finding 5x5 2nd derivative\n",
    "\n",
    "Having more success with finding the square root of $D^2$, let's give that another attempt"
   ]
  },
  {
   "cell_type": "code",
   "execution_count": 95,
   "id": "2f7777a1-7376-4c9a-aa66-e17e374204d4",
   "metadata": {},
   "outputs": [
    {
     "data": {
      "image/png": "[encoded data removed]",
      "text/latex": [
       "$\\displaystyle \\left[\\begin{matrix}0 & M_{0,1} & M_{0,2} & M_{0,3} & M_{0,4}\\\\M_{1,0} & 0 & M_{1,2} & M_{1,3} & M_{1,4}\\\\M_{2,0} & M_{2,1} & 0 & M_{2,3} & M_{2,4}\\\\M_{3,0} & M_{3,1} & M_{3,2} & 0 & M_{3,4}\\\\M_{4,0} & M_{4,1} & M_{4,2} & M_{4,3} & 0\\end{matrix}\\right]$"
      ],
      "text/plain": [
       "⎡  0    M_0,1  M_0,2  M_0,3  M_0,4⎤\n",
       "⎢                                 ⎥\n",
       "⎢M_1,0    0    M_1,2  M_1,3  M_1,4⎥\n",
       "⎢                                 ⎥\n",
       "⎢M_2,0  M_2,1    0    M_2,3  M_2,4⎥\n",
       "⎢                                 ⎥\n",
       "⎢M_3,0  M_3,1  M_3,2    0    M_3,4⎥\n",
       "⎢                                 ⎥\n",
       "⎣M_4,0  M_4,1  M_4,2  M_4,3    0  ⎦"
      ]
     },
     "metadata": {},
     "output_type": "display_data"
    },
    {
     "data": {
      "image/png": "[encoded data removed]",
      "text/latex": [
       "$\\displaystyle \\left[ M_{0,1}, \\  M_{0,2}, \\  M_{0,3}, \\  M_{0,4}, \\  M_{1,0}, \\  M_{1,2}, \\  M_{1,3}, \\  M_{1,4}, \\  M_{2,0}, \\  M_{2,1}, \\  M_{2,3}, \\  M_{2,4}, \\  M_{3,0}, \\  M_{3,1}, \\  M_{3,2}, \\  M_{3,4}, \\  M_{4,0}, \\  M_{4,1}, \\  M_{4,2}, \\  M_{4,3}\\right]$"
      ],
      "text/plain": [
       "[M_0,1, M_0,2, M_0,3, M_0,4, M_1,0, M_1,2, M_1,3, M_1,4, M_2,0, M_2,1, M_2,3,  ↪\n",
       "\n",
       "↪ M_2,4, M_3,0, M_3,1, M_3,2, M_3,4, M_4,0, M_4,1, M_4,2, M_4,3]"
      ]
     },
     "metadata": {},
     "output_type": "display_data"
    },
    {
     "data": {
      "image/png": "[encoded data removed]",
      "text/latex": [
       "$\\displaystyle \\left[\\begin{matrix}0 & 0 & 2 & 0 & 0\\\\0 & 0 & 0 & 6 & 0\\\\0 & 0 & 0 & 0 & 12\\\\0 & 0 & 0 & 0 & 0\\\\0 & 0 & 0 & 0 & 0\\end{matrix}\\right]$"
      ],
      "text/plain": [
       "⎡0  0  2  0  0 ⎤\n",
       "⎢              ⎥\n",
       "⎢0  0  0  6  0 ⎥\n",
       "⎢              ⎥\n",
       "⎢0  0  0  0  12⎥\n",
       "⎢              ⎥\n",
       "⎢0  0  0  0  0 ⎥\n",
       "⎢              ⎥\n",
       "⎣0  0  0  0  0 ⎦"
      ]
     },
     "metadata": {},
     "output_type": "display_data"
    }
   ],
   "source": [
    "n = 5\n",
    "\n",
    "# initialize M without diagonal\n",
    "# since `(sqrt(D))^2` should equal `D`\n",
    "# and `D` has 0 in the diagonal\n",
    "# and `M^2` will have `(M_i,i)^2` along the diagoal entries\n",
    "M = zeros(n,n)\n",
    "for row in range(n):\n",
    "    for col in range(n):\n",
    "        if row == col:\n",
    "            continue\n",
    "        else:\n",
    "            M[row,col] = Symbol(f\"M_{row},{col}\")\n",
    "display(M)\n",
    "\n",
    "coeff = list(filter(bool, list(M)))\n",
    "display(coeff)\n",
    "\n",
    "\n",
    "D = build_D(n)\n",
    "expected = D@D\n",
    "display(expected)"
   ]
  },
  {
   "cell_type": "markdown",
   "id": "a8f60b70-4308-417f-8bd0-f2ec1f3f4c88",
   "metadata": {},
   "source": [
    "The cell below has been commented out, after it took more than 24 hours to run, and still didn't finish"
   ]
  },
  {
   "cell_type": "code",
   "execution_count": 96,
   "id": "b36db456-5215-4496-bc54-1bab41d955b6",
   "metadata": {},
   "outputs": [],
   "source": [
    "# from time import time\n",
    "# start = time()\n",
    "\n",
    "# solution = solve(M@M - expected, coeff)\n",
    "\n",
    "# end = time()\n",
    "# print(f\"It took {end-start} seconds\")\n",
    "# solution"
   ]
  },
  {
   "cell_type": "markdown",
   "id": "0267a661-a4a5-4121-9a7c-4f24ecf27cf2",
   "metadata": {
    "jp-MarkdownHeadingCollapsed": true
   },
   "source": [
    "## Attempt: sqrtm"
   ]
  },
  {
   "cell_type": "markdown",
   "id": "ba7cf315-ac51-4dc8-992e-5bb2eeb0a365",
   "metadata": {},
   "source": [
    "While reading some book, a thought poped into my head - there surely is a way to take the square root of a matrix, in an already implemented way in some library.\n",
    "</br>\n",
    "And indeed, `scipy.linalg.sqrtm` was found"
   ]
  },
  {
   "cell_type": "code",
   "execution_count": 97,
   "id": "2c2cbf1c-6179-492f-a030-8dd024734fbc",
   "metadata": {},
   "outputs": [
    {
     "data": {
      "image/png": "[encoded data removed]",
      "text/latex": [
       "$\\displaystyle \\left[\\begin{matrix}0 & 1 & 0\\\\0 & 0 & 2\\\\0 & 0 & 0\\end{matrix}\\right]$"
      ],
      "text/plain": [
       "⎡0  1  0⎤\n",
       "⎢       ⎥\n",
       "⎢0  0  2⎥\n",
       "⎢       ⎥\n",
       "⎣0  0  0⎦"
      ]
     },
     "metadata": {},
     "output_type": "display_data"
    },
    {
     "data": {
      "text/plain": [
       "array([[0., 1., 0.],\n",
       "       [0., 0., 2.],\n",
       "       [0., 0., 0.]])"
      ]
     },
     "metadata": {},
     "output_type": "display_data"
    }
   ],
   "source": [
    "import scipy\n",
    "from sympy import N\n",
    "\n",
    "D = build_D(3)\n",
    "display(D)\n",
    "\n",
    "d = np.array(D, dtype=np.float64)\n",
    "display(d)"
   ]
  },
  {
   "cell_type": "code",
   "execution_count": 98,
   "id": "4b2fb1ed-2bdc-4ce9-9236-2af32ca023c4",
   "metadata": {},
   "outputs": [
    {
     "name": "stdout",
     "output_type": "stream",
     "text": [
      "Failed to find a square root.\n"
     ]
    },
    {
     "data": {
      "text/plain": [
       "array([[nan, nan, nan],\n",
       "       [nan, nan, nan],\n",
       "       [nan, nan, nan]])"
      ]
     },
     "execution_count": 98,
     "metadata": {},
     "output_type": "execute_result"
    }
   ],
   "source": [
    "scipy.linalg.sqrtm(d)"
   ]
  },
  {
   "cell_type": "code",
   "execution_count": 99,
   "id": "8175cdf4-75c2-4e6c-954b-2ca0affd1b78",
   "metadata": {},
   "outputs": [
    {
     "data": {
      "text/plain": [
       "array([[0., 0., 2.],\n",
       "       [0., 0., 0.],\n",
       "       [0., 0., 0.]])"
      ]
     },
     "execution_count": 99,
     "metadata": {},
     "output_type": "execute_result"
    }
   ],
   "source": [
    "d_squared = d@d\n",
    "d_squared"
   ]
  },
  {
   "cell_type": "code",
   "execution_count": 100,
   "id": "4fb8779f-e32a-4a5c-a304-0f200df8774d",
   "metadata": {},
   "outputs": [
    {
     "name": "stdout",
     "output_type": "stream",
     "text": [
      "Failed to find a square root.\n"
     ]
    },
    {
     "data": {
      "text/plain": [
       "array([[nan, nan, nan],\n",
       "       [nan, nan, nan],\n",
       "       [nan, nan, nan]])"
      ]
     },
     "execution_count": 100,
     "metadata": {},
     "output_type": "execute_result"
    }
   ],
   "source": [
    "scipy.linalg.sqrtm(d_squared)"
   ]
  },
  {
   "cell_type": "markdown",
   "id": "8cb3c219-945b-42d0-979b-ebc0a2e9792c",
   "metadata": {},
   "source": [
    "Well, I was hoping for more from this function\n",
    "</br>\n",
    "But, oh well, it's not like I did much better ;)"
   ]
  },
  {
   "cell_type": "code",
   "execution_count": null,
   "id": "4e6ca412-c18f-4078-9ce2-a20fe540a88a",
   "metadata": {},
   "outputs": [],
   "source": []
  }
 ],
 "metadata": {
  "kernelspec": {
   "display_name": "Python 3 (ipykernel)",
   "language": "python",
   "name": "python3"
  },
  "language_info": {
   "codemirror_mode": {
    "name": "ipython",
    "version": 3
   },
   "file_extension": ".py",
   "mimetype": "text/x-python",
   "name": "python",
   "nbconvert_exporter": "python",
   "pygments_lexer": "ipython3",
   "version": "3.12.7"
  }
 },
 "nbformat": 4,
 "nbformat_minor": 5
}
